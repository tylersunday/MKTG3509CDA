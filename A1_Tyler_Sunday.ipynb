{
  "nbformat": 4,
  "nbformat_minor": 0,
  "metadata": {
    "colab": {
      "name": "A1 Tyler Sunday",
      "provenance": [],
      "authorship_tag": "ABX9TyMdfKJ0ItaETz5Q7bYpdNsE",
      "include_colab_link": true
    },
    "kernelspec": {
      "name": "python3",
      "display_name": "Python 3"
    },
    "language_info": {
      "name": "python"
    }
  },
  "cells": [
    {
      "cell_type": "markdown",
      "metadata": {
        "id": "view-in-github",
        "colab_type": "text"
      },
      "source": [
        "<a href=\"https://colab.research.google.com/github/tylersunday/MKTG3509CDA/blob/main/A1_Tyler_Sunday.ipynb\" target=\"_parent\"><img src=\"https://colab.research.google.com/assets/colab-badge.svg\" alt=\"Open In Colab\"/></a>"
      ]
    },
    {
      "cell_type": "markdown",
      "metadata": {
        "id": "JZYV9NFi7rl9"
      },
      "source": [
        "#<center> Résumé of Tyler Sunday </center>\n",
        "\n",
        "\n",
        "## Contact\n",
        "Email: tyler.sunday@temple.edu\n",
        "LinkedIn: www.linkedin.com/in/tyler-sunday\n",
        "\n",
        "\n"
      ]
    },
    {
      "cell_type": "markdown",
      "metadata": {
        "id": "tsH8fRKP9m8-"
      },
      "source": [
        "## Objective\n",
        "\n",
        "Business Admninistration undergraduate who demonstrates strong work ethic and diligence. Seeking leverage and gain professional experience at position as an intern."
      ]
    },
    {
      "cell_type": "markdown",
      "metadata": {
        "id": "VcF0-p2O-Z_g"
      },
      "source": [
        "## Education\n",
        "\n",
        "TEMPLE UNIVERSITY, Fox School of Business, Philadelphia, PA\n",
        "\n",
        "***Bachelor of Business Administration, Graduation: May 2022***\n",
        "\n",
        "***Majors: Marketing & Corporate Finance***\n",
        "\n",
        "\n",
        "---"
      ]
    },
    {
      "cell_type": "markdown",
      "metadata": {
        "id": "CzF3z7r9_wjX"
      },
      "source": [
        "## Work Experience\n",
        "\n",
        "THE JUDGE GROUP, Wayne, PA                                           \n",
        "\n",
        "**Accounting Clerk - TimeCards Department**\n",
        "\n",
        "May 2021 - August 2021\n",
        "\n",
        "-   Consulted contractors through indexing time cards and invoicing time sheets in order for clients to expedite payroll.\n",
        "\n",
        "\n",
        "---\n",
        "\n",
        "\n",
        "NORDSTROM , King of Prussia, PA\n",
        "\n",
        "\n",
        "**Customer Service Specialist**\n",
        "\n",
        "November 2020 - March 2021\n",
        "\n",
        "-   Assisted customers with a variety of transactions; demonstrated expertise in all technologies used in store environment.\n",
        "-   Managed customer service and billing disputes through the performance of exchanging high-end merchandise, adjusting bills, and refunding.\n",
        "\n",
        "\n",
        "---\n",
        "\n",
        "\n",
        "LUCKY LEO'S AMUSEMENTS, Seaside Heights, NJ\n",
        "\n",
        "**Social Media Coordinator & Sales Associate**\n",
        "\n",
        "July 2016 - August 2021\n",
        "\n",
        "-   Mangaged the business's social media platforms to promote special events, giveaways, and attract potential customers.\n",
        "-   Initially hired as a counter attendant, promoted by CEO to improve relationships within its customers.\n",
        "\n",
        "\n",
        "---\n",
        "\n",
        "\n"
      ]
    },
    {
      "cell_type": "markdown",
      "metadata": {
        "id": "8TbubSbXHgUv"
      },
      "source": [
        "## Skills\n",
        "\n",
        "-   Bloomberg, BMC Certification\n",
        "-   VMware\n",
        "-   Salesforce\n",
        "-   Cengage, POS System\n",
        "-   MOS\n"
      ]
    }
  ]
}