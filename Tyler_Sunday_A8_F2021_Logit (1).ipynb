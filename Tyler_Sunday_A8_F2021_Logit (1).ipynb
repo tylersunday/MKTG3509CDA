{
  "nbformat": 4,
  "nbformat_minor": 0,
  "metadata": {
    "colab": {
      "name": "Tyler_Sunday_A8  F2021 - Logit.ipynb",
      "provenance": [],
      "collapsed_sections": []
    },
    "kernelspec": {
      "name": "python3",
      "display_name": "Python 3"
    }
  },
  "cells": [
    {
      "cell_type": "markdown",
      "metadata": {
        "id": "v1sXHLLoB410"
      },
      "source": [
        "**Rationale** In this assignment, you will practice using logit models to analyze data with binary discrete outcomes.\n",
        "\n",
        "You will be using the following [datasets](https://drive.google.com/drive/folders/1-oR65kkGk7TIzBtRGXVWhkeU1q7yIc-x?usp=sharing). These are the same datasets from Assignment 4.\n",
        "\n",
        "1. Orange telecom churn\n",
        "1. Rent the runway"
      ]
    },
    {
      "cell_type": "code",
      "metadata": {
        "colab": {
          "base_uri": "https://localhost:8080/"
        },
        "id": "47x6aoYyAYRi",
        "outputId": "02c31e40-190f-4173-81a6-259c596a0147"
      },
      "source": [
        "import os, numpy as np, pandas as pd, matplotlib.pyplot as plt\n",
        "from statsmodels.formula import api as smf\n",
        "from google.colab import drive\n",
        "drive.mount('drive')"
      ],
      "execution_count": null,
      "outputs": [
        {
          "output_type": "stream",
          "name": "stdout",
          "text": [
            "Drive already mounted at drive; to attempt to forcibly remount, call drive.mount(\"drive\", force_remount=True).\n"
          ]
        }
      ]
    },
    {
      "cell_type": "code",
      "metadata": {
        "colab": {
          "base_uri": "https://localhost:8080/"
        },
        "id": "zIN5uG1AAn3T",
        "outputId": "a9b2c990-06c1-4614-9af4-fc86ae6db6f7"
      },
      "source": [
        "fpath = 'drive/MyDrive/MKTG 3509/' # change this to your data folder\n",
        "os.listdir(fpath)"
      ],
      "execution_count": null,
      "outputs": [
        {
          "output_type": "execute_result",
          "data": {
            "text/plain": [
              "['Module 1.ipynb',\n",
              " 'Assignment 1',\n",
              " 'A1 Tyler Sunday.ipynb',\n",
              " 'module 2.ipynb',\n",
              " 'A2 Tyler Sunday.ipynb',\n",
              " 'Copy of Copy of avocado.xlsx',\n",
              " 'Copy of avocado.json',\n",
              " 'avocado (1).csv',\n",
              " 'Colab',\n",
              " 'movies.csv',\n",
              " 'ratings_time.csv',\n",
              " 'renttherunway_final_data.json',\n",
              " 'telecom_churn.csv',\n",
              " 'facebook_ads.csv',\n",
              " 'starbucks_promos.csv',\n",
              " 'starbucks_promos.gsheet',\n",
              " 'Tyler_Sunday_A4_Visualization.ipynb',\n",
              " 'Module 3.ipynb',\n",
              " 'temple_traffic.csv',\n",
              " 'avocado.csv',\n",
              " 'Tyler_Sunday_A5 F2021 Stats Review.ipynb',\n",
              " 'Untitled0.ipynb',\n",
              " 'Tyler_Sunday_A7 F2021 Regression 2.ipynb',\n",
              " 'Tyler_Sunday_A8  F2021 - Logit.ipynb']"
            ]
          },
          "metadata": {},
          "execution_count": 51
        }
      ]
    },
    {
      "cell_type": "markdown",
      "metadata": {
        "id": "iWU03t1YseZY"
      },
      "source": [
        "# Problem 1 (5 Points)\n",
        "\n",
        "Use the rent the runway dataset.\n",
        "\n",
        "Preprocessing:\n",
        "\n",
        "1. Replace missing values for \"rented_for\" column with \"unspecified\".\n",
        "1. Replace missing values for \"body_type\" column with \"unspecified\".\n",
        "1. Create a column \"fit1\" which is 0 everywhere except 1's where the value in the \"fit\" column == \"fit\", i.e. tranform the fit column to 0's and 1's, 0 where an item didn't fit and 1's where it did.\n",
        "\n",
        "Run the following regression specified in the problem below."
      ]
    },
    {
      "cell_type": "code",
      "metadata": {
        "id": "1K9o1WZNJ67r"
      },
      "source": [
        "# read in the dataset, call it rent\n",
        "# take a look at A4 for how to read in the json file\n",
        "\n",
        "rent = pd.read_json(fpath + 'renttherunway_final_data.json', lines = True)"
      ],
      "execution_count": null,
      "outputs": []
    },
    {
      "cell_type": "code",
      "metadata": {
        "id": "Kwh8m8HtFZPf"
      },
      "source": [
        "# replace spaces in column names with underscores\n",
        "# see last 2 assignments if you don't know how to do this\n",
        "\n",
        "rent.columns = [c.replace(' ', '_') for c in rent.columns]"
      ],
      "execution_count": null,
      "outputs": []
    },
    {
      "cell_type": "code",
      "metadata": {
        "id": "lg7RYg-hDbx3",
        "colab": {
          "base_uri": "https://localhost:8080/",
          "height": 340
        },
        "outputId": "008e481e-a5f9-4ef3-cf11-24c28de26fee"
      },
      "source": [
        "# take a preview of the rent dataframe, refresh yourself of what's contained in the data\n",
        "rent.head()"
      ],
      "execution_count": null,
      "outputs": [
        {
          "output_type": "execute_result",
          "data": {
            "text/html": [
              "<div>\n",
              "<style scoped>\n",
              "    .dataframe tbody tr th:only-of-type {\n",
              "        vertical-align: middle;\n",
              "    }\n",
              "\n",
              "    .dataframe tbody tr th {\n",
              "        vertical-align: top;\n",
              "    }\n",
              "\n",
              "    .dataframe thead th {\n",
              "        text-align: right;\n",
              "    }\n",
              "</style>\n",
              "<table border=\"1\" class=\"dataframe\">\n",
              "  <thead>\n",
              "    <tr style=\"text-align: right;\">\n",
              "      <th></th>\n",
              "      <th>fit</th>\n",
              "      <th>user_id</th>\n",
              "      <th>bust_size</th>\n",
              "      <th>item_id</th>\n",
              "      <th>weight</th>\n",
              "      <th>rating</th>\n",
              "      <th>rented_for</th>\n",
              "      <th>review_text</th>\n",
              "      <th>body_type</th>\n",
              "      <th>review_summary</th>\n",
              "      <th>category</th>\n",
              "      <th>height</th>\n",
              "      <th>size</th>\n",
              "      <th>age</th>\n",
              "      <th>review_date</th>\n",
              "    </tr>\n",
              "  </thead>\n",
              "  <tbody>\n",
              "    <tr>\n",
              "      <th>0</th>\n",
              "      <td>fit</td>\n",
              "      <td>420272</td>\n",
              "      <td>34d</td>\n",
              "      <td>2260466</td>\n",
              "      <td>137lbs</td>\n",
              "      <td>10.0</td>\n",
              "      <td>vacation</td>\n",
              "      <td>An adorable romper! Belt and zipper were a lit...</td>\n",
              "      <td>hourglass</td>\n",
              "      <td>So many compliments!</td>\n",
              "      <td>romper</td>\n",
              "      <td>5' 8\"</td>\n",
              "      <td>14</td>\n",
              "      <td>28.0</td>\n",
              "      <td>April 20, 2016</td>\n",
              "    </tr>\n",
              "    <tr>\n",
              "      <th>1</th>\n",
              "      <td>fit</td>\n",
              "      <td>273551</td>\n",
              "      <td>34b</td>\n",
              "      <td>153475</td>\n",
              "      <td>132lbs</td>\n",
              "      <td>10.0</td>\n",
              "      <td>other</td>\n",
              "      <td>I rented this dress for a photo shoot. The the...</td>\n",
              "      <td>straight &amp; narrow</td>\n",
              "      <td>I felt so glamourous!!!</td>\n",
              "      <td>gown</td>\n",
              "      <td>5' 6\"</td>\n",
              "      <td>12</td>\n",
              "      <td>36.0</td>\n",
              "      <td>June 18, 2013</td>\n",
              "    </tr>\n",
              "    <tr>\n",
              "      <th>2</th>\n",
              "      <td>fit</td>\n",
              "      <td>360448</td>\n",
              "      <td>NaN</td>\n",
              "      <td>1063761</td>\n",
              "      <td>NaN</td>\n",
              "      <td>10.0</td>\n",
              "      <td>party</td>\n",
              "      <td>This hugged in all the right places! It was a ...</td>\n",
              "      <td>NaN</td>\n",
              "      <td>It was a great time to celebrate the (almost) ...</td>\n",
              "      <td>sheath</td>\n",
              "      <td>5' 4\"</td>\n",
              "      <td>4</td>\n",
              "      <td>116.0</td>\n",
              "      <td>December 14, 2015</td>\n",
              "    </tr>\n",
              "    <tr>\n",
              "      <th>3</th>\n",
              "      <td>fit</td>\n",
              "      <td>909926</td>\n",
              "      <td>34c</td>\n",
              "      <td>126335</td>\n",
              "      <td>135lbs</td>\n",
              "      <td>8.0</td>\n",
              "      <td>formal affair</td>\n",
              "      <td>I rented this for my company's black tie award...</td>\n",
              "      <td>pear</td>\n",
              "      <td>Dress arrived on time and in perfect condition.</td>\n",
              "      <td>dress</td>\n",
              "      <td>5' 5\"</td>\n",
              "      <td>8</td>\n",
              "      <td>34.0</td>\n",
              "      <td>February 12, 2014</td>\n",
              "    </tr>\n",
              "    <tr>\n",
              "      <th>4</th>\n",
              "      <td>fit</td>\n",
              "      <td>151944</td>\n",
              "      <td>34b</td>\n",
              "      <td>616682</td>\n",
              "      <td>145lbs</td>\n",
              "      <td>10.0</td>\n",
              "      <td>wedding</td>\n",
              "      <td>I have always been petite in my upper body and...</td>\n",
              "      <td>athletic</td>\n",
              "      <td>Was in love with this dress !!!</td>\n",
              "      <td>gown</td>\n",
              "      <td>5' 9\"</td>\n",
              "      <td>12</td>\n",
              "      <td>27.0</td>\n",
              "      <td>September 26, 2016</td>\n",
              "    </tr>\n",
              "  </tbody>\n",
              "</table>\n",
              "</div>"
            ],
            "text/plain": [
              "   fit  user_id bust_size  item_id  ... height  size    age         review_date\n",
              "0  fit   420272       34d  2260466  ...  5' 8\"    14   28.0      April 20, 2016\n",
              "1  fit   273551       34b   153475  ...  5' 6\"    12   36.0       June 18, 2013\n",
              "2  fit   360448       NaN  1063761  ...  5' 4\"     4  116.0   December 14, 2015\n",
              "3  fit   909926       34c   126335  ...  5' 5\"     8   34.0   February 12, 2014\n",
              "4  fit   151944       34b   616682  ...  5' 9\"    12   27.0  September 26, 2016\n",
              "\n",
              "[5 rows x 15 columns]"
            ]
          },
          "metadata": {},
          "execution_count": 62
        }
      ]
    },
    {
      "cell_type": "code",
      "metadata": {
        "id": "2hbxg85UDqBn"
      },
      "source": [
        "# create the 'fit1' column: 0's where item fits, 1 where it didn't\n",
        "# if you forgot, go back to A4 to refresh your memory of how to do this\n",
        "\n",
        "rent['fit1'] = 0\n",
        "rent.loc[rent.fit == 'fit', 'fit1'] = 1"
      ],
      "execution_count": null,
      "outputs": []
    },
    {
      "cell_type": "code",
      "metadata": {
        "colab": {
          "base_uri": "https://localhost:8080/",
          "height": 374
        },
        "id": "7p40zVNk5kEG",
        "outputId": "37151424-ca69-435a-e266-9973bf88ecb0"
      },
      "source": [
        "rent.head()"
      ],
      "execution_count": null,
      "outputs": [
        {
          "output_type": "execute_result",
          "data": {
            "text/html": [
              "<div>\n",
              "<style scoped>\n",
              "    .dataframe tbody tr th:only-of-type {\n",
              "        vertical-align: middle;\n",
              "    }\n",
              "\n",
              "    .dataframe tbody tr th {\n",
              "        vertical-align: top;\n",
              "    }\n",
              "\n",
              "    .dataframe thead th {\n",
              "        text-align: right;\n",
              "    }\n",
              "</style>\n",
              "<table border=\"1\" class=\"dataframe\">\n",
              "  <thead>\n",
              "    <tr style=\"text-align: right;\">\n",
              "      <th></th>\n",
              "      <th>fit</th>\n",
              "      <th>user_id</th>\n",
              "      <th>bust_size</th>\n",
              "      <th>item_id</th>\n",
              "      <th>weight</th>\n",
              "      <th>rating</th>\n",
              "      <th>rented_for</th>\n",
              "      <th>review_text</th>\n",
              "      <th>body_type</th>\n",
              "      <th>review_summary</th>\n",
              "      <th>category</th>\n",
              "      <th>height</th>\n",
              "      <th>size</th>\n",
              "      <th>age</th>\n",
              "      <th>review_date</th>\n",
              "      <th>fit1</th>\n",
              "    </tr>\n",
              "  </thead>\n",
              "  <tbody>\n",
              "    <tr>\n",
              "      <th>0</th>\n",
              "      <td>fit</td>\n",
              "      <td>420272</td>\n",
              "      <td>34d</td>\n",
              "      <td>2260466</td>\n",
              "      <td>137lbs</td>\n",
              "      <td>10.0</td>\n",
              "      <td>vacation</td>\n",
              "      <td>An adorable romper! Belt and zipper were a lit...</td>\n",
              "      <td>hourglass</td>\n",
              "      <td>So many compliments!</td>\n",
              "      <td>romper</td>\n",
              "      <td>5' 8\"</td>\n",
              "      <td>14</td>\n",
              "      <td>28.0</td>\n",
              "      <td>April 20, 2016</td>\n",
              "      <td>1</td>\n",
              "    </tr>\n",
              "    <tr>\n",
              "      <th>1</th>\n",
              "      <td>fit</td>\n",
              "      <td>273551</td>\n",
              "      <td>34b</td>\n",
              "      <td>153475</td>\n",
              "      <td>132lbs</td>\n",
              "      <td>10.0</td>\n",
              "      <td>other</td>\n",
              "      <td>I rented this dress for a photo shoot. The the...</td>\n",
              "      <td>straight &amp; narrow</td>\n",
              "      <td>I felt so glamourous!!!</td>\n",
              "      <td>gown</td>\n",
              "      <td>5' 6\"</td>\n",
              "      <td>12</td>\n",
              "      <td>36.0</td>\n",
              "      <td>June 18, 2013</td>\n",
              "      <td>1</td>\n",
              "    </tr>\n",
              "    <tr>\n",
              "      <th>2</th>\n",
              "      <td>fit</td>\n",
              "      <td>360448</td>\n",
              "      <td>NaN</td>\n",
              "      <td>1063761</td>\n",
              "      <td>NaN</td>\n",
              "      <td>10.0</td>\n",
              "      <td>party</td>\n",
              "      <td>This hugged in all the right places! It was a ...</td>\n",
              "      <td>unspecified</td>\n",
              "      <td>It was a great time to celebrate the (almost) ...</td>\n",
              "      <td>sheath</td>\n",
              "      <td>5' 4\"</td>\n",
              "      <td>4</td>\n",
              "      <td>116.0</td>\n",
              "      <td>December 14, 2015</td>\n",
              "      <td>1</td>\n",
              "    </tr>\n",
              "    <tr>\n",
              "      <th>3</th>\n",
              "      <td>fit</td>\n",
              "      <td>909926</td>\n",
              "      <td>34c</td>\n",
              "      <td>126335</td>\n",
              "      <td>135lbs</td>\n",
              "      <td>8.0</td>\n",
              "      <td>formal affair</td>\n",
              "      <td>I rented this for my company's black tie award...</td>\n",
              "      <td>pear</td>\n",
              "      <td>Dress arrived on time and in perfect condition.</td>\n",
              "      <td>dress</td>\n",
              "      <td>5' 5\"</td>\n",
              "      <td>8</td>\n",
              "      <td>34.0</td>\n",
              "      <td>February 12, 2014</td>\n",
              "      <td>1</td>\n",
              "    </tr>\n",
              "    <tr>\n",
              "      <th>4</th>\n",
              "      <td>fit</td>\n",
              "      <td>151944</td>\n",
              "      <td>34b</td>\n",
              "      <td>616682</td>\n",
              "      <td>145lbs</td>\n",
              "      <td>10.0</td>\n",
              "      <td>wedding</td>\n",
              "      <td>I have always been petite in my upper body and...</td>\n",
              "      <td>athletic</td>\n",
              "      <td>Was in love with this dress !!!</td>\n",
              "      <td>gown</td>\n",
              "      <td>5' 9\"</td>\n",
              "      <td>12</td>\n",
              "      <td>27.0</td>\n",
              "      <td>September 26, 2016</td>\n",
              "      <td>1</td>\n",
              "    </tr>\n",
              "  </tbody>\n",
              "</table>\n",
              "</div>"
            ],
            "text/plain": [
              "   fit  user_id bust_size  item_id  ... size    age         review_date fit1\n",
              "0  fit   420272       34d  2260466  ...   14   28.0      April 20, 2016    1\n",
              "1  fit   273551       34b   153475  ...   12   36.0       June 18, 2013    1\n",
              "2  fit   360448       NaN  1063761  ...    4  116.0   December 14, 2015    1\n",
              "3  fit   909926       34c   126335  ...    8   34.0   February 12, 2014    1\n",
              "4  fit   151944       34b   616682  ...   12   27.0  September 26, 2016    1\n",
              "\n",
              "[5 rows x 16 columns]"
            ]
          },
          "metadata": {},
          "execution_count": 77
        }
      ]
    },
    {
      "cell_type": "code",
      "metadata": {
        "id": "QmrZxG3pDqEY",
        "colab": {
          "base_uri": "https://localhost:8080/",
          "height": 282
        },
        "outputId": "3d6648d4-d580-466f-b7a5-e03873ef4ac8"
      },
      "source": [
        "# create a histogram for the fit1 column\n",
        "# get a sense of the proportion of items that fit\n",
        "\n",
        "rent.fit1.hist()\n"
      ],
      "execution_count": null,
      "outputs": [
        {
          "output_type": "execute_result",
          "data": {
            "text/plain": [
              "<matplotlib.axes._subplots.AxesSubplot at 0x7f520bd7d850>"
            ]
          },
          "metadata": {},
          "execution_count": 64
        },
        {
          "output_type": "display_data",
          "data": {
            "image/png": "[encoded data removed]",
            "text/plain": [
              "<Figure size 432x288 with 1 Axes>"
            ]
          },
          "metadata": {
            "needs_background": "light"
          }
        }
      ]
    },
    {
      "cell_type": "code",
      "metadata": {
        "id": "vx9lR5NSFK_9"
      },
      "source": [
        "# Replace missing values of column rented for with \"unspecified\" using \n",
        "# rent.rented_for.fillna('unspecified', inplace = True)\n",
        "\n",
        "rent.rented_for.fillna('unspecified', inplace = True)\n"
      ],
      "execution_count": null,
      "outputs": []
    },
    {
      "cell_type": "code",
      "metadata": {
        "id": "AmexFmwcF3WS",
        "colab": {
          "base_uri": "https://localhost:8080/"
        },
        "outputId": "ac134876-28ae-429c-fdaa-63dbf2e3e352"
      },
      "source": [
        "# check the unique values in rented_for, \n",
        "# make sure there are no missing values NaN (i.e. you did the fillna step correctly)\n",
        "\n",
        "rent.rented_for.unique()"
      ],
      "execution_count": null,
      "outputs": [
        {
          "output_type": "execute_result",
          "data": {
            "text/plain": [
              "array(['vacation', 'other', 'party', 'formal affair', 'wedding', 'date',\n",
              "       'everyday', 'work', 'unspecified', 'party: cocktail'], dtype=object)"
            ]
          },
          "metadata": {},
          "execution_count": 66
        }
      ]
    },
    {
      "cell_type": "code",
      "metadata": {
        "id": "uz09m9-DDqHF",
        "colab": {
          "base_uri": "https://localhost:8080/",
          "height": 374
        },
        "outputId": "9773c142-0012-4941-99ea-20fb545edc6b"
      },
      "source": [
        "# replace missing values in body type column with \"unspecified\"\n",
        "\n",
        "rent.body_type.fillna('unspecified', inplace = True)\n",
        "rent['body_type'].replace({'NaN':'unspecified'}, inplace = True)\n",
        "rent.head()"
      ],
      "execution_count": null,
      "outputs": [
        {
          "output_type": "execute_result",
          "data": {
            "text/html": [
              "<div>\n",
              "<style scoped>\n",
              "    .dataframe tbody tr th:only-of-type {\n",
              "        vertical-align: middle;\n",
              "    }\n",
              "\n",
              "    .dataframe tbody tr th {\n",
              "        vertical-align: top;\n",
              "    }\n",
              "\n",
              "    .dataframe thead th {\n",
              "        text-align: right;\n",
              "    }\n",
              "</style>\n",
              "<table border=\"1\" class=\"dataframe\">\n",
              "  <thead>\n",
              "    <tr style=\"text-align: right;\">\n",
              "      <th></th>\n",
              "      <th>fit</th>\n",
              "      <th>user_id</th>\n",
              "      <th>bust_size</th>\n",
              "      <th>item_id</th>\n",
              "      <th>weight</th>\n",
              "      <th>rating</th>\n",
              "      <th>rented_for</th>\n",
              "      <th>review_text</th>\n",
              "      <th>body_type</th>\n",
              "      <th>review_summary</th>\n",
              "      <th>category</th>\n",
              "      <th>height</th>\n",
              "      <th>size</th>\n",
              "      <th>age</th>\n",
              "      <th>review_date</th>\n",
              "      <th>fit1</th>\n",
              "    </tr>\n",
              "  </thead>\n",
              "  <tbody>\n",
              "    <tr>\n",
              "      <th>0</th>\n",
              "      <td>fit</td>\n",
              "      <td>420272</td>\n",
              "      <td>34d</td>\n",
              "      <td>2260466</td>\n",
              "      <td>137lbs</td>\n",
              "      <td>10.0</td>\n",
              "      <td>vacation</td>\n",
              "      <td>An adorable romper! Belt and zipper were a lit...</td>\n",
              "      <td>hourglass</td>\n",
              "      <td>So many compliments!</td>\n",
              "      <td>romper</td>\n",
              "      <td>5' 8\"</td>\n",
              "      <td>14</td>\n",
              "      <td>28.0</td>\n",
              "      <td>April 20, 2016</td>\n",
              "      <td>1</td>\n",
              "    </tr>\n",
              "    <tr>\n",
              "      <th>1</th>\n",
              "      <td>fit</td>\n",
              "      <td>273551</td>\n",
              "      <td>34b</td>\n",
              "      <td>153475</td>\n",
              "      <td>132lbs</td>\n",
              "      <td>10.0</td>\n",
              "      <td>other</td>\n",
              "      <td>I rented this dress for a photo shoot. The the...</td>\n",
              "      <td>straight &amp; narrow</td>\n",
              "      <td>I felt so glamourous!!!</td>\n",
              "      <td>gown</td>\n",
              "      <td>5' 6\"</td>\n",
              "      <td>12</td>\n",
              "      <td>36.0</td>\n",
              "      <td>June 18, 2013</td>\n",
              "      <td>1</td>\n",
              "    </tr>\n",
              "    <tr>\n",
              "      <th>2</th>\n",
              "      <td>fit</td>\n",
              "      <td>360448</td>\n",
              "      <td>NaN</td>\n",
              "      <td>1063761</td>\n",
              "      <td>NaN</td>\n",
              "      <td>10.0</td>\n",
              "      <td>party</td>\n",
              "      <td>This hugged in all the right places! It was a ...</td>\n",
              "      <td>unspecified</td>\n",
              "      <td>It was a great time to celebrate the (almost) ...</td>\n",
              "      <td>sheath</td>\n",
              "      <td>5' 4\"</td>\n",
              "      <td>4</td>\n",
              "      <td>116.0</td>\n",
              "      <td>December 14, 2015</td>\n",
              "      <td>1</td>\n",
              "    </tr>\n",
              "    <tr>\n",
              "      <th>3</th>\n",
              "      <td>fit</td>\n",
              "      <td>909926</td>\n",
              "      <td>34c</td>\n",
              "      <td>126335</td>\n",
              "      <td>135lbs</td>\n",
              "      <td>8.0</td>\n",
              "      <td>formal affair</td>\n",
              "      <td>I rented this for my company's black tie award...</td>\n",
              "      <td>pear</td>\n",
              "      <td>Dress arrived on time and in perfect condition.</td>\n",
              "      <td>dress</td>\n",
              "      <td>5' 5\"</td>\n",
              "      <td>8</td>\n",
              "      <td>34.0</td>\n",
              "      <td>February 12, 2014</td>\n",
              "      <td>1</td>\n",
              "    </tr>\n",
              "    <tr>\n",
              "      <th>4</th>\n",
              "      <td>fit</td>\n",
              "      <td>151944</td>\n",
              "      <td>34b</td>\n",
              "      <td>616682</td>\n",
              "      <td>145lbs</td>\n",
              "      <td>10.0</td>\n",
              "      <td>wedding</td>\n",
              "      <td>I have always been petite in my upper body and...</td>\n",
              "      <td>athletic</td>\n",
              "      <td>Was in love with this dress !!!</td>\n",
              "      <td>gown</td>\n",
              "      <td>5' 9\"</td>\n",
              "      <td>12</td>\n",
              "      <td>27.0</td>\n",
              "      <td>September 26, 2016</td>\n",
              "      <td>1</td>\n",
              "    </tr>\n",
              "  </tbody>\n",
              "</table>\n",
              "</div>"
            ],
            "text/plain": [
              "   fit  user_id bust_size  item_id  ... size    age         review_date fit1\n",
              "0  fit   420272       34d  2260466  ...   14   28.0      April 20, 2016    1\n",
              "1  fit   273551       34b   153475  ...   12   36.0       June 18, 2013    1\n",
              "2  fit   360448       NaN  1063761  ...    4  116.0   December 14, 2015    1\n",
              "3  fit   909926       34c   126335  ...    8   34.0   February 12, 2014    1\n",
              "4  fit   151944       34b   616682  ...   12   27.0  September 26, 2016    1\n",
              "\n",
              "[5 rows x 16 columns]"
            ]
          },
          "metadata": {},
          "execution_count": 67
        }
      ]
    },
    {
      "cell_type": "code",
      "metadata": {
        "id": "jI-VL9ZcF-ar",
        "colab": {
          "base_uri": "https://localhost:8080/"
        },
        "outputId": "9fce5880-8b07-4f41-f3a6-3b013df97806"
      },
      "source": [
        "# check the unique values in body_type, \n",
        "# make sure there are no missing values NaN (i.e. you did the fillna step correctly)\n",
        "\n",
        "rent.body_type.unique()"
      ],
      "execution_count": null,
      "outputs": [
        {
          "output_type": "execute_result",
          "data": {
            "text/plain": [
              "array(['hourglass', 'straight & narrow', 'unspecified', 'pear',\n",
              "       'athletic', 'full bust', 'petite', 'apple'], dtype=object)"
            ]
          },
          "metadata": {},
          "execution_count": 68
        }
      ]
    },
    {
      "cell_type": "markdown",
      "metadata": {
        "id": "v9gCi4xdGH0I"
      },
      "source": [
        "\n",
        "Run the following regression\n",
        "\n",
        "$$\n",
        "Logit(fit1) = \\beta_0 + \\sum_{Occassion\\ne everyday}\\beta_{Occassion}+ \\sum_{BodyType\\ne petite}\\beta_{BodyType} + e\n",
        "$$\n",
        "\n",
        "e.g. use occassion (rented_for) and body type as explanatory variables, but explciitly use the 'everyday' category as the reference group for occassion and the 'petite' category as the reference group for body type. If you don't know what this means, review the Module 6 notes on categorical variables and dummy coding."
      ]
    },
    {
      "cell_type": "code",
      "metadata": {
        "id": "Cp_VpAfVGLjU",
        "colab": {
          "base_uri": "https://localhost:8080/"
        },
        "outputId": "1c045e42-1773-4909-974d-c7c6442d634e"
      },
      "source": [
        "# estimate the logit model\n",
        "# Recall from Module 6 notes, you can specify a reference group using C(varname, Treatment(reference = \"reference group\")),\n",
        "# where \"reference group\" here would be \"everyday\" if the varname is rented_for\n",
        "\n",
        "res = smf.logit('fit1 ~ C(rented_for, Treatment(reference = \"everyday\")) + C(body_type, Treatment(reference = \"petite\"))', data = rent).fit()"
      ],
      "execution_count": null,
      "outputs": [
        {
          "output_type": "stream",
          "name": "stdout",
          "text": [
            "Warning: Maximum number of iterations has been exceeded.\n",
            "         Current function value: 0.573855\n",
            "         Iterations: 35\n"
          ]
        },
        {
          "output_type": "stream",
          "name": "stderr",
          "text": [
            "/usr/local/lib/python3.7/dist-packages/statsmodels/base/model.py:512: ConvergenceWarning: Maximum Likelihood optimization failed to converge. Check mle_retvals\n",
            "  \"Check mle_retvals\", ConvergenceWarning)\n"
          ]
        }
      ]
    },
    {
      "cell_type": "code",
      "metadata": {
        "id": "6QI8lAe8GLmb",
        "colab": {
          "base_uri": "https://localhost:8080/"
        },
        "outputId": "b4d37563-60e4-4981-86a9-401bb2de8265"
      },
      "source": [
        "# print the summary stats table for the logit model\n",
        "\n",
        "print(res.summary())"
      ],
      "execution_count": null,
      "outputs": [
        {
          "output_type": "stream",
          "name": "stdout",
          "text": [
            "                           Logit Regression Results                           \n",
            "==============================================================================\n",
            "Dep. Variable:                   fit1   No. Observations:               192544\n",
            "Model:                          Logit   Df Residuals:                   192527\n",
            "Method:                           MLE   Df Model:                           16\n",
            "Date:                Wed, 10 Nov 2021   Pseudo R-squ.:                0.002600\n",
            "Time:                        03:29:33   Log-Likelihood:            -1.1049e+05\n",
            "converged:                      False   LL-Null:                   -1.1078e+05\n",
            "Covariance Type:            nonrobust   LLR p-value:                2.720e-112\n",
            "=====================================================================================================================================\n",
            "                                                                        coef    std err          z      P>|z|      [0.025      0.975]\n",
            "-------------------------------------------------------------------------------------------------------------------------------------\n",
            "Intercept                                                             0.8292      0.022     37.464      0.000       0.786       0.873\n",
            "C(rented_for, Treatment(reference=\"everyday\"))[T.date]                0.1046      0.031      3.413      0.001       0.045       0.165\n",
            "C(rented_for, Treatment(reference=\"everyday\"))[T.formal affair]       0.4041      0.020     19.772      0.000       0.364       0.444\n",
            "C(rented_for, Treatment(reference=\"everyday\"))[T.other]               0.2260      0.025      9.125      0.000       0.177       0.275\n",
            "C(rented_for, Treatment(reference=\"everyday\"))[T.party]               0.1754      0.020      8.565      0.000       0.135       0.216\n",
            "C(rented_for, Treatment(reference=\"everyday\"))[T.party: cocktail]    13.6468   1391.353      0.010      0.992   -2713.354    2740.648\n",
            "C(rented_for, Treatment(reference=\"everyday\"))[T.unspecified]         1.3947      1.054      1.323      0.186      -0.672       3.461\n",
            "C(rented_for, Treatment(reference=\"everyday\"))[T.vacation]            0.1205      0.039      3.128      0.002       0.045       0.196\n",
            "C(rented_for, Treatment(reference=\"everyday\"))[T.wedding]             0.2759      0.019     14.342      0.000       0.238       0.314\n",
            "C(rented_for, Treatment(reference=\"everyday\"))[T.work]                0.1525      0.025      6.179      0.000       0.104       0.201\n",
            "C(body_type, Treatment(reference=\"petite\"))[T.apple]                 -0.1423      0.035     -4.030      0.000      -0.212      -0.073\n",
            "C(body_type, Treatment(reference=\"petite\"))[T.athletic]              -0.0014      0.019     -0.075      0.940      -0.038       0.036\n",
            "C(body_type, Treatment(reference=\"petite\"))[T.full bust]             -0.1250      0.024     -5.249      0.000      -0.172      -0.078\n",
            "C(body_type, Treatment(reference=\"petite\"))[T.hourglass]             -0.0256      0.018     -1.406      0.160      -0.061       0.010\n",
            "C(body_type, Treatment(reference=\"petite\"))[T.pear]                  -0.0736      0.022     -3.408      0.001      -0.116      -0.031\n",
            "C(body_type, Treatment(reference=\"petite\"))[T.straight & narrow]      0.0209      0.024      0.856      0.392      -0.027       0.069\n",
            "C(body_type, Treatment(reference=\"petite\"))[T.unspecified]            0.0020      0.024      0.083      0.934      -0.046       0.050\n",
            "=====================================================================================================================================\n"
          ]
        }
      ]
    },
    {
      "cell_type": "markdown",
      "metadata": {
        "id": "8YS3svQoH8Wr"
      },
      "source": [
        "**Answer these questions**\n",
        "\n",
        "Based on the logit results table above, answer the following:\n",
        "\n",
        "1. Which *body types*, if any, have statistically *better* likelihood of fitting compared to those with \"petite\" body types? List them below.\n",
        "    * **None**\n",
        "\n",
        "1. Which *body types*, if any, have statistically *worse* likelihood of fitting compared to those with \"petite\" body types? List them below.\n",
        "    * **Apple**\n",
        "    * **Full Bust**\n",
        "    * **Pear**\n",
        "    * **Straight & Narrow**\n",
        "\n",
        "1. Which *occassions*, if any, have statistically *better* likelihood of fitting compared to \"everyday\" occassion? List them below.\n",
        "    * **Date**\n",
        "    * **Formal**\n",
        "    * **Affair**\n",
        "    * **Other**\n",
        "    * **Party**\n",
        "    * **Vacation**\n",
        "    * **Wedding**\n",
        "    * **Work**\n",
        "\n",
        "1. Which *occassions*, if any, have statistically *worse* likelihood of fitting compared to \"everyday\" occassion? List them below.\n",
        "    * **None**\n",
        "\n",
        "1. Why can't you directly interpret the quantity of these coefficients in an intuitive manner (can only interpret their signs)? What do you need to do to interpret the independent variables' impact on the *probability* of fit?\n",
        "    * \n",
        "\n",
        "\n",
        "*Note that statistically better/worse requires you to interpret the p-values for statistical significance, i.e. check where there is enough evidence to reject the null that there is no difference (coefficient = 0), in addition to the sign of the coefficient."
      ]
    },
    {
      "cell_type": "code",
      "metadata": {
        "id": "35J6it08HssK",
        "colab": {
          "base_uri": "https://localhost:8080/"
        },
        "outputId": "28069cd9-8d90-45ac-b8a8-e94b444bcfca"
      },
      "source": [
        "# calculate the marginal effects table for the logit model\n",
        "\n",
        "mfx = res.get_margeff()\n",
        "\n",
        "# print the marginal effects summary table below\n",
        "\n",
        "print(mfx.summary())"
      ],
      "execution_count": null,
      "outputs": [
        {
          "output_type": "stream",
          "name": "stdout",
          "text": [
            "        Logit Marginal Effects       \n",
            "=====================================\n",
            "Dep. Variable:                   fit1\n",
            "Method:                          dydx\n",
            "At:                           overall\n",
            "=====================================================================================================================================\n",
            "                                                                       dy/dx    std err          z      P>|z|      [0.025      0.975]\n",
            "-------------------------------------------------------------------------------------------------------------------------------------\n",
            "C(rented_for, Treatment(reference=\"everyday\"))[T.date]                0.0202      0.006      3.413      0.001       0.009       0.032\n",
            "C(rented_for, Treatment(reference=\"everyday\"))[T.formal affair]       0.0779      0.004     19.830      0.000       0.070       0.086\n",
            "C(rented_for, Treatment(reference=\"everyday\"))[T.other]               0.0436      0.005      9.131      0.000       0.034       0.053\n",
            "C(rented_for, Treatment(reference=\"everyday\"))[T.party]               0.0338      0.004      8.570      0.000       0.026       0.042\n",
            "C(rented_for, Treatment(reference=\"everyday\"))[T.party: cocktail]     2.6321    268.354      0.010      0.992    -523.331     528.595\n",
            "C(rented_for, Treatment(reference=\"everyday\"))[T.unspecified]         0.2690      0.203      1.323      0.186      -0.130       0.668\n",
            "C(rented_for, Treatment(reference=\"everyday\"))[T.vacation]            0.0232      0.007      3.128      0.002       0.009       0.038\n",
            "C(rented_for, Treatment(reference=\"everyday\"))[T.wedding]             0.0532      0.004     14.365      0.000       0.046       0.060\n",
            "C(rented_for, Treatment(reference=\"everyday\"))[T.work]                0.0294      0.005      6.180      0.000       0.020       0.039\n",
            "C(body_type, Treatment(reference=\"petite\"))[T.apple]                 -0.0274      0.007     -4.031      0.000      -0.041      -0.014\n",
            "C(body_type, Treatment(reference=\"petite\"))[T.athletic]              -0.0003      0.004     -0.075      0.940      -0.007       0.007\n",
            "C(body_type, Treatment(reference=\"petite\"))[T.full bust]             -0.0241      0.005     -5.250      0.000      -0.033      -0.015\n",
            "C(body_type, Treatment(reference=\"petite\"))[T.hourglass]             -0.0049      0.004     -1.406      0.160      -0.012       0.002\n",
            "C(body_type, Treatment(reference=\"petite\"))[T.pear]                  -0.0142      0.004     -3.408      0.001      -0.022      -0.006\n",
            "C(body_type, Treatment(reference=\"petite\"))[T.straight & narrow]      0.0040      0.005      0.856      0.392      -0.005       0.013\n",
            "C(body_type, Treatment(reference=\"petite\"))[T.unspecified]            0.0004      0.005      0.083      0.934      -0.009       0.010\n",
            "=====================================================================================================================================\n"
          ]
        }
      ]
    },
    {
      "cell_type": "markdown",
      "metadata": {
        "id": "DtdIEJfwJZp2"
      },
      "source": [
        "**Answer these questions**\n",
        "\n",
        "1. Which occassion has the highest, statistically significant, average marginal effect on fit? Interpret the marginal effect.\n",
        "    \n",
        "    * **Dates are the least statisically significant type of occassions, as its P-value is .001**\n",
        "\n",
        "1. Which body type has the lowest, statistically signifiant, average marginal effect on fit? Interpret the marginal effect.\n",
        "    \n",
        "    *  **Athletic bodies  are the least statisically significant among body types, as its P-value is .940**\n"
      ]
    },
    {
      "cell_type": "markdown",
      "metadata": {
        "id": "dsgSZp1WtWs2"
      },
      "source": [
        "# Problem 2 (5+1 points)\n",
        "\n",
        "Use the orange telecom churn data to estimate a logit model of customer churn. Recall here that Churn means that the customer left their contract for the cell phone plan. These plans are from the 2010's when phone plans had potentially different rates for days and nights.\n",
        "\n",
        "1. Convert the \"Churn\" variable to integer type, e.g. `df.Churn = df.Churn.astype(int)`\n",
        "1. List at least 3 variables that you think might be predictive of churn. Give a brief explanation for each variable's relationship with potential churn. You may want to avoid using categorical variables with **too many** unique values, such as area code, as it makes the model difficult to interpret and may take too long to estimate / may not run. You may also want to create composite variables, a variable derived from other variables in the dataframe, such as average rate paid (charge/ minutes). You may also want to include log transformations or quadratic components if you believe there may be nonlinearities such as diminishing returns, for example. (up to 1 bonus point for creativity here)\n",
        "1. Specify and estimate a model of churn.\n",
        "1. Obtain the marginal effects for the model you've estimated. Interpret these results.\n",
        "1. Given your model results, what is a suggestion to management about potential interventions to deter churn?"
      ]
    },
    {
      "cell_type": "code",
      "metadata": {
        "id": "zl7jhI9rCFW4"
      },
      "source": [
        "# read in the dataset\n",
        "\n",
        "orange = pd.read_csv(fpath + 'telecom_churn.csv')"
      ],
      "execution_count": null,
      "outputs": []
    },
    {
      "cell_type": "code",
      "metadata": {
        "id": "FKrvbiIOEp4_"
      },
      "source": [
        "# replace column name spaces with underscores\n",
        "\n",
        "orange.columns = [c.replace(' ', '_') for c in orange.columns]"
      ],
      "execution_count": null,
      "outputs": []
    },
    {
      "cell_type": "code",
      "metadata": {
        "id": "xnkV8uccEmsR",
        "colab": {
          "base_uri": "https://localhost:8080/",
          "height": 224
        },
        "outputId": "d8e6d583-bb1e-494b-cabf-cd4d808ce3e8"
      },
      "source": [
        "# preview the dataset to get a sense of its contents\n",
        "\n",
        "orange.head()"
      ],
      "execution_count": null,
      "outputs": [
        {
          "output_type": "execute_result",
          "data": {
            "text/html": [
              "<div>\n",
              "<style scoped>\n",
              "    .dataframe tbody tr th:only-of-type {\n",
              "        vertical-align: middle;\n",
              "    }\n",
              "\n",
              "    .dataframe tbody tr th {\n",
              "        vertical-align: top;\n",
              "    }\n",
              "\n",
              "    .dataframe thead th {\n",
              "        text-align: right;\n",
              "    }\n",
              "</style>\n",
              "<table border=\"1\" class=\"dataframe\">\n",
              "  <thead>\n",
              "    <tr style=\"text-align: right;\">\n",
              "      <th></th>\n",
              "      <th>State</th>\n",
              "      <th>Account_length</th>\n",
              "      <th>Area_code</th>\n",
              "      <th>International_plan</th>\n",
              "      <th>Voice_mail_plan</th>\n",
              "      <th>Number_vmail_messages</th>\n",
              "      <th>Total_day_minutes</th>\n",
              "      <th>Total_day_calls</th>\n",
              "      <th>Total_day_charge</th>\n",
              "      <th>Total_eve_minutes</th>\n",
              "      <th>Total_eve_calls</th>\n",
              "      <th>Total_eve_charge</th>\n",
              "      <th>Total_night_minutes</th>\n",
              "      <th>Total_night_calls</th>\n",
              "      <th>Total_night_charge</th>\n",
              "      <th>Total_intl_minutes</th>\n",
              "      <th>Total_intl_calls</th>\n",
              "      <th>Total_intl_charge</th>\n",
              "      <th>Customer_service_calls</th>\n",
              "      <th>Churn</th>\n",
              "    </tr>\n",
              "  </thead>\n",
              "  <tbody>\n",
              "    <tr>\n",
              "      <th>0</th>\n",
              "      <td>KS</td>\n",
              "      <td>128</td>\n",
              "      <td>415</td>\n",
              "      <td>No</td>\n",
              "      <td>Yes</td>\n",
              "      <td>25</td>\n",
              "      <td>265.1</td>\n",
              "      <td>110</td>\n",
              "      <td>45.07</td>\n",
              "      <td>197.4</td>\n",
              "      <td>99</td>\n",
              "      <td>16.78</td>\n",
              "      <td>244.7</td>\n",
              "      <td>91</td>\n",
              "      <td>11.01</td>\n",
              "      <td>10.0</td>\n",
              "      <td>3</td>\n",
              "      <td>2.70</td>\n",
              "      <td>1</td>\n",
              "      <td>0</td>\n",
              "    </tr>\n",
              "    <tr>\n",
              "      <th>1</th>\n",
              "      <td>OH</td>\n",
              "      <td>107</td>\n",
              "      <td>415</td>\n",
              "      <td>No</td>\n",
              "      <td>Yes</td>\n",
              "      <td>26</td>\n",
              "      <td>161.6</td>\n",
              "      <td>123</td>\n",
              "      <td>27.47</td>\n",
              "      <td>195.5</td>\n",
              "      <td>103</td>\n",
              "      <td>16.62</td>\n",
              "      <td>254.4</td>\n",
              "      <td>103</td>\n",
              "      <td>11.45</td>\n",
              "      <td>13.7</td>\n",
              "      <td>3</td>\n",
              "      <td>3.70</td>\n",
              "      <td>1</td>\n",
              "      <td>0</td>\n",
              "    </tr>\n",
              "    <tr>\n",
              "      <th>2</th>\n",
              "      <td>NJ</td>\n",
              "      <td>137</td>\n",
              "      <td>415</td>\n",
              "      <td>No</td>\n",
              "      <td>No</td>\n",
              "      <td>0</td>\n",
              "      <td>243.4</td>\n",
              "      <td>114</td>\n",
              "      <td>41.38</td>\n",
              "      <td>121.2</td>\n",
              "      <td>110</td>\n",
              "      <td>10.30</td>\n",
              "      <td>162.6</td>\n",
              "      <td>104</td>\n",
              "      <td>7.32</td>\n",
              "      <td>12.2</td>\n",
              "      <td>5</td>\n",
              "      <td>3.29</td>\n",
              "      <td>0</td>\n",
              "      <td>0</td>\n",
              "    </tr>\n",
              "    <tr>\n",
              "      <th>3</th>\n",
              "      <td>OH</td>\n",
              "      <td>84</td>\n",
              "      <td>408</td>\n",
              "      <td>Yes</td>\n",
              "      <td>No</td>\n",
              "      <td>0</td>\n",
              "      <td>299.4</td>\n",
              "      <td>71</td>\n",
              "      <td>50.90</td>\n",
              "      <td>61.9</td>\n",
              "      <td>88</td>\n",
              "      <td>5.26</td>\n",
              "      <td>196.9</td>\n",
              "      <td>89</td>\n",
              "      <td>8.86</td>\n",
              "      <td>6.6</td>\n",
              "      <td>7</td>\n",
              "      <td>1.78</td>\n",
              "      <td>2</td>\n",
              "      <td>0</td>\n",
              "    </tr>\n",
              "    <tr>\n",
              "      <th>4</th>\n",
              "      <td>OK</td>\n",
              "      <td>75</td>\n",
              "      <td>415</td>\n",
              "      <td>Yes</td>\n",
              "      <td>No</td>\n",
              "      <td>0</td>\n",
              "      <td>166.7</td>\n",
              "      <td>113</td>\n",
              "      <td>28.34</td>\n",
              "      <td>148.3</td>\n",
              "      <td>122</td>\n",
              "      <td>12.61</td>\n",
              "      <td>186.9</td>\n",
              "      <td>121</td>\n",
              "      <td>8.41</td>\n",
              "      <td>10.1</td>\n",
              "      <td>3</td>\n",
              "      <td>2.73</td>\n",
              "      <td>3</td>\n",
              "      <td>0</td>\n",
              "    </tr>\n",
              "  </tbody>\n",
              "</table>\n",
              "</div>"
            ],
            "text/plain": [
              "  State  Account_length  ...  Customer_service_calls Churn\n",
              "0    KS             128  ...                       1     0\n",
              "1    OH             107  ...                       1     0\n",
              "2    NJ             137  ...                       0     0\n",
              "3    OH              84  ...                       2     0\n",
              "4    OK              75  ...                       3     0\n",
              "\n",
              "[5 rows x 20 columns]"
            ]
          },
          "metadata": {},
          "execution_count": 76
        }
      ]
    },
    {
      "cell_type": "code",
      "metadata": {
        "id": "UiF16UcOE0YG"
      },
      "source": [
        "# Convert column \"Churn\" to integer type\n",
        "\n",
        "orange.Churn = orange.Churn.astype(int)"
      ],
      "execution_count": null,
      "outputs": []
    },
    {
      "cell_type": "code",
      "metadata": {
        "id": "YamJ9c9AvrlB"
      },
      "source": [
        "orange['Churn'] = 0\n",
        "orange.loc[orange.Churn == 'True', 'Churn'] = 1"
      ],
      "execution_count": null,
      "outputs": []
    },
    {
      "cell_type": "code",
      "metadata": {
        "id": "U7kUprnUJicZ"
      },
      "source": [
        "# use scratch cells here to explore the dataset (graphically) to come up with variables to include in the model"
      ],
      "execution_count": null,
      "outputs": []
    },
    {
      "cell_type": "code",
      "metadata": {
        "colab": {
          "base_uri": "https://localhost:8080/",
          "height": 51
        },
        "id": "0NyCDYqqtd1H",
        "outputId": "abdc6edf-a3c0-4a1d-d508-8bf783c1c586"
      },
      "source": [
        "plt.figure(figsize = (10,8))"
      ],
      "execution_count": null,
      "outputs": [
        {
          "output_type": "execute_result",
          "data": {
            "text/plain": [
              "<Figure size 720x576 with 0 Axes>"
            ]
          },
          "metadata": {},
          "execution_count": 36
        },
        {
          "output_type": "display_data",
          "data": {
            "text/plain": [
              "<Figure size 720x576 with 0 Axes>"
            ]
          },
          "metadata": {}
        }
      ]
    },
    {
      "cell_type": "code",
      "metadata": {
        "id": "997OjIMPJies",
        "colab": {
          "base_uri": "https://localhost:8080/",
          "height": 303
        },
        "outputId": "59902b4c-d730-4655-ad1f-e41b44f9a297"
      },
      "source": [
        "orange.groupby('State')['Churn'].mean().plot(kind = 'bar')"
      ],
      "execution_count": null,
      "outputs": [
        {
          "output_type": "execute_result",
          "data": {
            "text/plain": [
              "<matplotlib.axes._subplots.AxesSubplot at 0x7f520be0f710>"
            ]
          },
          "metadata": {},
          "execution_count": 37
        },
        {
          "output_type": "display_data",
          "data": {
            "image/png": "[encoded data removed]",
            "text/plain": [
              "<Figure size 432x288 with 1 Axes>"
            ]
          },
          "metadata": {
            "needs_background": "light"
          }
        }
      ]
    },
    {
      "cell_type": "code",
      "metadata": {
        "id": "abvixVA-JihM",
        "colab": {
          "base_uri": "https://localhost:8080/",
          "height": 282
        },
        "outputId": "f919569e-4af5-464a-b0a4-3db88a5ddf0f"
      },
      "source": [
        "plt.scatter(orange.Account_length, orange.Churn)"
      ],
      "execution_count": null,
      "outputs": [
        {
          "output_type": "execute_result",
          "data": {
            "text/plain": [
              "<matplotlib.collections.PathCollection at 0x7f520bcc4b10>"
            ]
          },
          "metadata": {},
          "execution_count": 86
        },
        {
          "output_type": "display_data",
          "data": {
            "image/png": "[encoded data removed]",
            "text/plain": [
              "<Figure size 432x288 with 1 Axes>"
            ]
          },
          "metadata": {
            "needs_background": "light"
          }
        }
      ]
    },
    {
      "cell_type": "code",
      "metadata": {
        "id": "e6LQ81FPJikE"
      },
      "source": [
        ""
      ],
      "execution_count": null,
      "outputs": []
    },
    {
      "cell_type": "markdown",
      "metadata": {
        "id": "k6OsJftiE-03"
      },
      "source": [
        "**Answer these**\n",
        "\n",
        "List some (at least 3) explanatory variables from the dataframe, or that you can make using existing variables in the dataframe, that can influence churn. For each, give a brief explanation of the potential relationship, and make a prediction about the direction of the prediction (increase or decrease churn).\n",
        "\n",
        "1. **Total Day Minutes**\n",
        "    1. **Total Day Charged has a direct correlation**\n",
        "    1. **Increase**\n",
        "1. \n",
        "    1. \n",
        "    1. \n",
        "1. \n",
        "    1. \n",
        "    1. \n",
        "1. \n",
        "    1. \n",
        "    1. \n",
        "\n",
        "add as many as you wish "
      ]
    },
    {
      "cell_type": "markdown",
      "metadata": {
        "id": "A5zWKKQCFivv"
      },
      "source": [
        "**Edit this**\n",
        "Write the regression equation below with the appropriate explanatory variables as posited in your answers above: \n",
        "\n",
        "$$\n",
        "logit(Churn) = \\beta_0 + \\beta_1 x_1..... + e\n",
        "$$\n",
        "\n",
        "FYI, if you are using a categorical variable with 2 possible outcomes, say International_Plan (yes or no), include it in the regression equation as (baseline is assumed to be no): \n",
        "$$\n",
        "+\\beta_{IntlPlan}\n",
        "$$\n",
        "\n",
        "\n",
        "If you are using the a categorical variable with many outcomes, say State, include it using: \n",
        "$$\n",
        "+ \\sum_{state \\ne PA }\\beta_{state},\n",
        "$$\n",
        "where PA is the baseline reference group. Feel free to change PA to any other reference group, but be sure to do so when you run the regression as well."
      ]
    },
    {
      "cell_type": "code",
      "metadata": {
        "id": "5tZSv9QNHWRr",
        "colab": {
          "base_uri": "https://localhost:8080/"
        },
        "outputId": "70aff8aa-3181-4b8e-c789-5e46e5778541"
      },
      "source": [
        "# Esitmate the logit model you've specified above here using statsmodels (smf)\n",
        "\n",
        "res_ols = smf.logit('Churn ~ C(State, Treatment(reference = \"PA\")) + International_plan', data = orange).fit()"
      ],
      "execution_count": null,
      "outputs": [
        {
          "output_type": "stream",
          "name": "stdout",
          "text": [
            "Optimization terminated successfully.\n",
            "         Current function value: 0.374864\n",
            "         Iterations 7\n"
          ]
        }
      ]
    },
    {
      "cell_type": "code",
      "metadata": {
        "id": "pgOd36h_HaN-",
        "colab": {
          "base_uri": "https://localhost:8080/"
        },
        "outputId": "6a4b03e5-c681-499b-c1c8-53e0e6d8c790"
      },
      "source": [
        "# print the summary table of your logit model\n",
        "\n",
        "print(res_ols.summary())"
      ],
      "execution_count": null,
      "outputs": [
        {
          "output_type": "stream",
          "name": "stdout",
          "text": [
            "                           Logit Regression Results                           \n",
            "==============================================================================\n",
            "Dep. Variable:                  Churn   No. Observations:                 3333\n",
            "Model:                          Logit   Df Residuals:                     3281\n",
            "Method:                           MLE   Df Model:                           51\n",
            "Date:                Wed, 10 Nov 2021   Pseudo R-squ.:                 0.09406\n",
            "Time:                        03:36:11   Log-Likelihood:                -1249.4\n",
            "converged:                       True   LL-Null:                       -1379.1\n",
            "Covariance Type:            nonrobust   LLR p-value:                 1.075e-29\n",
            "=============================================================================================================\n",
            "                                                coef    std err          z      P>|z|      [0.025      0.975]\n",
            "-------------------------------------------------------------------------------------------------------------\n",
            "Intercept                                    -1.8952      0.412     -4.599      0.000      -2.703      -1.088\n",
            "C(State, Treatment(reference=\"PA\"))[T.AK]    -1.1852      0.733     -1.616      0.106      -2.623       0.252\n",
            "C(State, Treatment(reference=\"PA\"))[T.AL]    -0.6303      0.564     -1.118      0.263      -1.735       0.474\n",
            "C(State, Treatment(reference=\"PA\"))[T.AR]     0.1298      0.544      0.239      0.811      -0.936       1.196\n",
            "C(State, Treatment(reference=\"PA\"))[T.AZ]    -0.9905      0.667     -1.486      0.137      -2.297       0.316\n",
            "C(State, Treatment(reference=\"PA\"))[T.CA]     0.6045      0.579      1.044      0.297      -0.531       1.740\n",
            "C(State, Treatment(reference=\"PA\"))[T.CO]    -0.1348      0.552     -0.244      0.807      -1.217       0.948\n",
            "C(State, Treatment(reference=\"PA\"))[T.CT]    -0.0530      0.527     -0.101      0.920      -1.085       0.979\n",
            "C(State, Treatment(reference=\"PA\"))[T.DC]    -0.6982      0.635     -1.099      0.272      -1.943       0.547\n",
            "C(State, Treatment(reference=\"PA\"))[T.DE]    -0.3302      0.560     -0.589      0.556      -1.428       0.768\n",
            "C(State, Treatment(reference=\"PA\"))[T.FL]    -0.4191      0.570     -0.735      0.462      -1.537       0.699\n",
            "C(State, Treatment(reference=\"PA\"))[T.GA]    -0.0718      0.571     -0.126      0.900      -1.190       1.047\n",
            "C(State, Treatment(reference=\"PA\"))[T.HI]    -1.1347      0.731     -1.552      0.121      -2.568       0.298\n",
            "C(State, Treatment(reference=\"PA\"))[T.IA]    -0.7197      0.726     -0.991      0.322      -2.143       0.704\n",
            "C(State, Treatment(reference=\"PA\"))[T.ID]    -0.3232      0.552     -0.586      0.558      -1.405       0.758\n",
            "C(State, Treatment(reference=\"PA\"))[T.IL]    -1.2389      0.638     -1.943      0.052      -2.489       0.011\n",
            "C(State, Treatment(reference=\"PA\"))[T.IN]    -0.1670      0.549     -0.304      0.761      -1.243       0.909\n",
            "C(State, Treatment(reference=\"PA\"))[T.KS]     0.1100      0.522      0.211      0.833      -0.913       1.133\n",
            "C(State, Treatment(reference=\"PA\"))[T.KY]    -0.1633      0.568     -0.287      0.774      -1.276       0.950\n",
            "C(State, Treatment(reference=\"PA\"))[T.LA]    -0.6406      0.667     -0.960      0.337      -1.949       0.668\n",
            "C(State, Treatment(reference=\"PA\"))[T.MA]    -0.0382      0.538     -0.071      0.943      -1.092       1.016\n",
            "C(State, Treatment(reference=\"PA\"))[T.MD]     0.4156      0.506      0.822      0.411      -0.576       1.407\n",
            "C(State, Treatment(reference=\"PA\"))[T.ME]     0.3216      0.524      0.613      0.540      -0.706       1.349\n",
            "C(State, Treatment(reference=\"PA\"))[T.MI]     0.3157      0.507      0.622      0.534      -0.679       1.310\n",
            "C(State, Treatment(reference=\"PA\"))[T.MN]     0.1090      0.507      0.215      0.830      -0.884       1.103\n",
            "C(State, Treatment(reference=\"PA\"))[T.MO]    -0.4893      0.584     -0.837      0.402      -1.634       0.656\n",
            "C(State, Treatment(reference=\"PA\"))[T.MS]     0.2916      0.519      0.562      0.574      -0.726       1.309\n",
            "C(State, Treatment(reference=\"PA\"))[T.MT]     0.4705      0.512      0.919      0.358      -0.533       1.474\n",
            "C(State, Treatment(reference=\"PA\"))[T.NC]    -0.2029      0.539     -0.377      0.706      -1.258       0.853\n",
            "C(State, Treatment(reference=\"PA\"))[T.ND]    -0.7572      0.607     -1.248      0.212      -1.946       0.432\n",
            "C(State, Treatment(reference=\"PA\"))[T.NE]    -0.6958      0.629     -1.106      0.269      -1.928       0.537\n",
            "C(State, Treatment(reference=\"PA\"))[T.NH]     0.0386      0.557      0.069      0.945      -1.053       1.130\n",
            "C(State, Treatment(reference=\"PA\"))[T.NJ]     0.6734      0.501      1.345      0.178      -0.308       1.654\n",
            "C(State, Treatment(reference=\"PA\"))[T.NM]    -0.6083      0.604     -1.007      0.314      -1.792       0.575\n",
            "C(State, Treatment(reference=\"PA\"))[T.NV]     0.2361      0.519      0.454      0.649      -0.782       1.254\n",
            "C(State, Treatment(reference=\"PA\"))[T.NY]     0.1218      0.507      0.240      0.810      -0.872       1.116\n",
            "C(State, Treatment(reference=\"PA\"))[T.OH]    -0.3736      0.542     -0.689      0.491      -1.436       0.688\n",
            "C(State, Treatment(reference=\"PA\"))[T.OK]    -0.0999      0.556     -0.180      0.857      -1.189       0.989\n",
            "C(State, Treatment(reference=\"PA\"))[T.OR]    -0.1794      0.532     -0.337      0.736      -1.222       0.863\n",
            "C(State, Treatment(reference=\"PA\"))[T.RI]    -0.8858      0.606     -1.461      0.144      -2.074       0.303\n",
            "C(State, Treatment(reference=\"PA\"))[T.SC]     0.6261      0.515      1.215      0.224      -0.384       1.636\n",
            "C(State, Treatment(reference=\"PA\"))[T.SD]    -0.2304      0.569     -0.405      0.685      -1.345       0.884\n",
            "C(State, Treatment(reference=\"PA\"))[T.TN]    -0.7400      0.637     -1.161      0.245      -1.989       0.509\n",
            "C(State, Treatment(reference=\"PA\"))[T.TX]     0.6021      0.499      1.207      0.227      -0.375       1.580\n",
            "C(State, Treatment(reference=\"PA\"))[T.UT]    -0.1797      0.542     -0.332      0.740      -1.241       0.882\n",
            "C(State, Treatment(reference=\"PA\"))[T.VA]    -1.1836      0.629     -1.883      0.060      -2.416       0.048\n",
            "C(State, Treatment(reference=\"PA\"))[T.VT]    -0.4656      0.564     -0.825      0.409      -1.572       0.640\n",
            "C(State, Treatment(reference=\"PA\"))[T.WA]     0.4302      0.515      0.836      0.403      -0.579       1.439\n",
            "C(State, Treatment(reference=\"PA\"))[T.WI]    -0.7661      0.580     -1.321      0.187      -1.903       0.371\n",
            "C(State, Treatment(reference=\"PA\"))[T.WV]    -0.5910      0.534     -1.107      0.268      -1.637       0.456\n",
            "C(State, Treatment(reference=\"PA\"))[T.WY]    -0.5304      0.553     -0.959      0.338      -1.614       0.554\n",
            "International_plan[T.Yes]                     1.8316      0.133     13.781      0.000       1.571       2.092\n",
            "=============================================================================================================\n"
          ]
        }
      ]
    },
    {
      "cell_type": "code",
      "metadata": {
        "id": "JXrx1fa0Hcgr"
      },
      "source": [
        "# obtain the marginal effects\n",
        "\n",
        "mfx1 = res_ols.get_margeff()\n"
      ],
      "execution_count": null,
      "outputs": []
    },
    {
      "cell_type": "code",
      "metadata": {
        "id": "-SsKUVO1HfsX",
        "colab": {
          "base_uri": "https://localhost:8080/"
        },
        "outputId": "923afe1c-0530-4ea0-e958-7b8d96b2bb37"
      },
      "source": [
        "# print the marginal effects summary table here\n",
        "\n",
        "print(mfx1.summary())"
      ],
      "execution_count": null,
      "outputs": [
        {
          "output_type": "stream",
          "name": "stdout",
          "text": [
            "        Logit Marginal Effects       \n",
            "=====================================\n",
            "Dep. Variable:                  Churn\n",
            "Method:                          dydx\n",
            "At:                           overall\n",
            "=============================================================================================================\n",
            "                                               dy/dx    std err          z      P>|z|      [0.025      0.975]\n",
            "-------------------------------------------------------------------------------------------------------------\n",
            "C(State, Treatment(reference=\"PA\"))[T.AK]    -0.1328      0.082     -1.616      0.106      -0.294       0.028\n",
            "C(State, Treatment(reference=\"PA\"))[T.AL]    -0.0706      0.063     -1.119      0.263      -0.194       0.053\n",
            "C(State, Treatment(reference=\"PA\"))[T.AR]     0.0145      0.061      0.239      0.811      -0.105       0.134\n",
            "C(State, Treatment(reference=\"PA\"))[T.AZ]    -0.1110      0.075     -1.486      0.137      -0.257       0.035\n",
            "C(State, Treatment(reference=\"PA\"))[T.CA]     0.0677      0.065      1.044      0.296      -0.059       0.195\n",
            "C(State, Treatment(reference=\"PA\"))[T.CO]    -0.0151      0.062     -0.244      0.807      -0.136       0.106\n",
            "C(State, Treatment(reference=\"PA\"))[T.CT]    -0.0059      0.059     -0.101      0.920      -0.122       0.110\n",
            "C(State, Treatment(reference=\"PA\"))[T.DC]    -0.0782      0.071     -1.099      0.272      -0.218       0.061\n",
            "C(State, Treatment(reference=\"PA\"))[T.DE]    -0.0370      0.063     -0.589      0.556      -0.160       0.086\n",
            "C(State, Treatment(reference=\"PA\"))[T.FL]    -0.0469      0.064     -0.735      0.462      -0.172       0.078\n",
            "C(State, Treatment(reference=\"PA\"))[T.GA]    -0.0080      0.064     -0.126      0.900      -0.133       0.117\n",
            "C(State, Treatment(reference=\"PA\"))[T.HI]    -0.1271      0.082     -1.552      0.121      -0.288       0.033\n",
            "C(State, Treatment(reference=\"PA\"))[T.IA]    -0.0806      0.081     -0.991      0.322      -0.240       0.079\n",
            "C(State, Treatment(reference=\"PA\"))[T.ID]    -0.0362      0.062     -0.586      0.558      -0.157       0.085\n",
            "C(State, Treatment(reference=\"PA\"))[T.IL]    -0.1388      0.071     -1.944      0.052      -0.279       0.001\n",
            "C(State, Treatment(reference=\"PA\"))[T.IN]    -0.0187      0.062     -0.304      0.761      -0.139       0.102\n",
            "C(State, Treatment(reference=\"PA\"))[T.KS]     0.0123      0.058      0.211      0.833      -0.102       0.127\n",
            "C(State, Treatment(reference=\"PA\"))[T.KY]    -0.0183      0.064     -0.287      0.774      -0.143       0.106\n",
            "C(State, Treatment(reference=\"PA\"))[T.LA]    -0.0718      0.075     -0.960      0.337      -0.218       0.075\n",
            "C(State, Treatment(reference=\"PA\"))[T.MA]    -0.0043      0.060     -0.071      0.943      -0.122       0.114\n",
            "C(State, Treatment(reference=\"PA\"))[T.MD]     0.0466      0.057      0.822      0.411      -0.064       0.158\n",
            "C(State, Treatment(reference=\"PA\"))[T.ME]     0.0360      0.059      0.614      0.540      -0.079       0.151\n",
            "C(State, Treatment(reference=\"PA\"))[T.MI]     0.0354      0.057      0.622      0.534      -0.076       0.147\n",
            "C(State, Treatment(reference=\"PA\"))[T.MN]     0.0122      0.057      0.215      0.830      -0.099       0.124\n",
            "C(State, Treatment(reference=\"PA\"))[T.MO]    -0.0548      0.065     -0.838      0.402      -0.183       0.073\n",
            "C(State, Treatment(reference=\"PA\"))[T.MS]     0.0327      0.058      0.562      0.574      -0.081       0.147\n",
            "C(State, Treatment(reference=\"PA\"))[T.MT]     0.0527      0.057      0.919      0.358      -0.060       0.165\n",
            "C(State, Treatment(reference=\"PA\"))[T.NC]    -0.0227      0.060     -0.377      0.706      -0.141       0.096\n",
            "C(State, Treatment(reference=\"PA\"))[T.ND]    -0.0848      0.068     -1.248      0.212      -0.218       0.048\n",
            "C(State, Treatment(reference=\"PA\"))[T.NE]    -0.0780      0.070     -1.106      0.269      -0.216       0.060\n",
            "C(State, Treatment(reference=\"PA\"))[T.NH]     0.0043      0.062      0.069      0.945      -0.118       0.127\n",
            "C(State, Treatment(reference=\"PA\"))[T.NJ]     0.0754      0.056      1.346      0.178      -0.034       0.185\n",
            "C(State, Treatment(reference=\"PA\"))[T.NM]    -0.0682      0.068     -1.007      0.314      -0.201       0.064\n",
            "C(State, Treatment(reference=\"PA\"))[T.NV]     0.0264      0.058      0.454      0.649      -0.088       0.140\n",
            "C(State, Treatment(reference=\"PA\"))[T.NY]     0.0136      0.057      0.240      0.810      -0.098       0.125\n",
            "C(State, Treatment(reference=\"PA\"))[T.OH]    -0.0418      0.061     -0.689      0.491      -0.161       0.077\n",
            "C(State, Treatment(reference=\"PA\"))[T.OK]    -0.0112      0.062     -0.180      0.857      -0.133       0.111\n",
            "C(State, Treatment(reference=\"PA\"))[T.OR]    -0.0201      0.060     -0.337      0.736      -0.137       0.097\n",
            "C(State, Treatment(reference=\"PA\"))[T.RI]    -0.0992      0.068     -1.461      0.144      -0.232       0.034\n",
            "C(State, Treatment(reference=\"PA\"))[T.SC]     0.0701      0.058      1.215      0.224      -0.043       0.183\n",
            "C(State, Treatment(reference=\"PA\"))[T.SD]    -0.0258      0.064     -0.405      0.685      -0.151       0.099\n",
            "C(State, Treatment(reference=\"PA\"))[T.TN]    -0.0829      0.071     -1.162      0.245      -0.223       0.057\n",
            "C(State, Treatment(reference=\"PA\"))[T.TX]     0.0675      0.056      1.208      0.227      -0.042       0.177\n",
            "C(State, Treatment(reference=\"PA\"))[T.UT]    -0.0201      0.061     -0.332      0.740      -0.139       0.099\n",
            "C(State, Treatment(reference=\"PA\"))[T.VA]    -0.1326      0.070     -1.883      0.060      -0.271       0.005\n",
            "C(State, Treatment(reference=\"PA\"))[T.VT]    -0.0522      0.063     -0.825      0.409      -0.176       0.072\n",
            "C(State, Treatment(reference=\"PA\"))[T.WA]     0.0482      0.058      0.836      0.403      -0.065       0.161\n",
            "C(State, Treatment(reference=\"PA\"))[T.WI]    -0.0858      0.065     -1.321      0.186      -0.213       0.042\n",
            "C(State, Treatment(reference=\"PA\"))[T.WV]    -0.0662      0.060     -1.107      0.268      -0.183       0.051\n",
            "C(State, Treatment(reference=\"PA\"))[T.WY]    -0.0594      0.062     -0.959      0.337      -0.181       0.062\n",
            "International_plan[T.Yes]                     0.2052      0.014     14.776      0.000       0.178       0.232\n",
            "=============================================================================================================\n"
          ]
        }
      ]
    },
    {
      "cell_type": "markdown",
      "metadata": {
        "id": "uGSBIR8KGS0Y"
      },
      "source": [
        "**Answer these prompts**\n",
        "\n",
        "\n",
        "Interpret at least 3 of the marginal effects from your model below, be sure to reference both the marginal effects and the p-values (and explain their meaning in the context of your specific model). Be sure to discuss whether the results conform to your predictions.* \n",
        "\n",
        "1. \n",
        "1. \n",
        "1. \n",
        "\n",
        "\n",
        "*If you have a lot of coefficients from one categorical variable, just interpret one of those (and then 2 other coefficients not from the same categorical variable). For instance, if you included state in your model, just interpret the coefficient for one state, don't need to interpret all states' coefficients. "
      ]
    },
    {
      "cell_type": "markdown",
      "metadata": {
        "id": "NdAa9ycKH7Pr"
      },
      "source": [
        "**Answer this**\n",
        "\n",
        "Based on your model, what recommendations do you have for the telecom service provider?\n",
        "\n",
        "Answer: "
      ]
    }
  ]
}