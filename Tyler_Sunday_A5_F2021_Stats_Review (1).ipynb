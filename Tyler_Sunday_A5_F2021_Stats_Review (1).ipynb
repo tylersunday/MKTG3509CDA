{
  "nbformat": 4,
  "nbformat_minor": 0,
  "metadata": {
    "colab": {
      "name": "Tyler_Sunday_A5 F2021 Stats Review.ipynb",
      "provenance": [],
      "collapsed_sections": []
    },
    "kernelspec": {
      "name": "python3",
      "display_name": "Python 3"
    }
  },
  "cells": [
    {
      "cell_type": "markdown",
      "metadata": {
        "id": "I_GfWSOmUL9h"
      },
      "source": [
        "**Rationale** Hypothesis testing is foundational to the entire field of statistics. Without the Central Limit Theorem and hypothesis testing, we would not have modern day (social) science. In marketing, this is generally most important when doing A/B testing of ads. In this assignment, you will practice computing basic summary statistics and conducting hypothesis tests. \n",
        "\n",
        "[Datasets](https://drive.google.com/drive/folders/1D6D-zRU3oiP12c0dFMQjs66JDhBZBtax?usp=sharing) required:\n",
        "1. [FB ad campaign data](https://drive.google.com/file/d/1JfwvumxS2oys8ZcQtsb8GGmeRfnkzFdy/view?usp=sharing).\n",
        "1. [Starbucks Promos](https://drive.google.com/file/d/1W7x5_PU5KszT8mqXqqEmRfXuR8CRr1DX/view?usp=sharing)"
      ]
    },
    {
      "cell_type": "markdown",
      "metadata": {
        "id": "DdmKkAgxwLZB"
      },
      "source": [
        "# 1. (2 points) FB Ad campaigns\n",
        "\n",
        "1. Use a groupby operation create a dataframe called `sumstats` consisting of the total impressions and clicks for each `xyz_campaign_id`.\n",
        "1. Using `sumstats`, create a new column called `ctr` that represents the [click through rate](https://support.google.com/google-ads/answer/2615875?hl=en) for each campaign. Which campaign had the highest CTR?\n",
        "1. Create a column for `sd` for standard deviation of the click through rate. \n",
        "\n",
        "Hint: Recall from the notes that the standard deviation of a binomial distribution with $Pr(Success) = p$ is $SD(p) = \\sqrt{p(1-p)}$. So if the probability of a binary outcome (such as clicking on an ad) is observed to be .3, the standard deviation is $\\sqrt{.3(.7)}=\\sqrt{.21}$."
      ]
    },
    {
      "cell_type": "code",
      "metadata": {
        "id": "5zHCASKUwPwY",
        "colab": {
          "base_uri": "https://localhost:8080/"
        },
        "outputId": "3354c20e-232d-4e12-bc1a-d249657a3963"
      },
      "source": [
        "# imports and mount google drive\n",
        "import os, pandas as pd, numpy as np\n",
        "from scipy import stats\n",
        "\n",
        "from google.colab import drive\n",
        "drive.mount('drive')"
      ],
      "execution_count": null,
      "outputs": [
        {
          "output_type": "stream",
          "name": "stdout",
          "text": [
            "Mounted at drive\n"
          ]
        }
      ]
    },
    {
      "cell_type": "code",
      "metadata": {
        "id": "C_ztJAU1pYyA"
      },
      "source": [
        "import os, pandas as pd, numpy as np\n",
        "from google.colab import drive"
      ],
      "execution_count": null,
      "outputs": []
    },
    {
      "cell_type": "code",
      "metadata": {
        "colab": {
          "base_uri": "https://localhost:8080/"
        },
        "id": "ZW1ToU_2rUXQ",
        "outputId": "82050f9c-e4f9-485a-f545-715a74cc693f"
      },
      "source": [
        "drive.mount('drive')"
      ],
      "execution_count": null,
      "outputs": [
        {
          "output_type": "stream",
          "name": "stdout",
          "text": [
            "Drive already mounted at drive; to attempt to forcibly remount, call drive.mount(\"drive\", force_remount=True).\n"
          ]
        }
      ]
    },
    {
      "cell_type": "code",
      "metadata": {
        "id": "ESbG6pozyvic"
      },
      "source": [
        "fpath = 'drive/My Drive/MKTG 3509/'"
      ],
      "execution_count": null,
      "outputs": []
    },
    {
      "cell_type": "code",
      "metadata": {
        "colab": {
          "base_uri": "https://localhost:8080/"
        },
        "id": "C5rBaEC0wyc3",
        "outputId": "3504a2ad-1f54-477c-df75-f123dee7ad48"
      },
      "source": [
        "os.listdir('drive/MyDrive/MKTG 3509/')"
      ],
      "execution_count": null,
      "outputs": [
        {
          "output_type": "execute_result",
          "data": {
            "text/plain": [
              "['Module 1.ipynb',\n",
              " 'Assignment 1',\n",
              " 'A1 Tyler Sunday.ipynb',\n",
              " 'module 2.ipynb',\n",
              " 'A2 Tyler Sunday.ipynb',\n",
              " 'Copy of Copy of avocado.xlsx',\n",
              " 'Copy of avocado.json',\n",
              " 'avocado.csv',\n",
              " 'Colab',\n",
              " 'movies.csv',\n",
              " 'ratings_time.csv',\n",
              " 'renttherunway_final_data.json',\n",
              " 'telecom_churn.csv',\n",
              " 'facebook_ads.csv',\n",
              " 'starbucks_promos.csv',\n",
              " 'starbucks_promos.gsheet',\n",
              " 'Tyler_Sunday_A4_Visualization.ipynb',\n",
              " 'Module 3.ipynb',\n",
              " 'Tyler_Sunday_A5 F2021 Stats Review.ipynb']"
            ]
          },
          "metadata": {},
          "execution_count": 11
        }
      ]
    },
    {
      "cell_type": "code",
      "metadata": {
        "id": "wSiz5MJwy_5R"
      },
      "source": [
        "fb = pd.read_csv(fpath + 'facebook_ads.csv')"
      ],
      "execution_count": null,
      "outputs": []
    },
    {
      "cell_type": "code",
      "metadata": {
        "colab": {
          "base_uri": "https://localhost:8080/",
          "height": 204
        },
        "id": "5N-Ai1xK04tm",
        "outputId": "df5a9831-b064-45e9-e936-03db92bc444c"
      },
      "source": [
        "fb.head()"
      ],
      "execution_count": null,
      "outputs": [
        {
          "output_type": "execute_result",
          "data": {
            "text/html": [
              "<div>\n",
              "<style scoped>\n",
              "    .dataframe tbody tr th:only-of-type {\n",
              "        vertical-align: middle;\n",
              "    }\n",
              "\n",
              "    .dataframe tbody tr th {\n",
              "        vertical-align: top;\n",
              "    }\n",
              "\n",
              "    .dataframe thead th {\n",
              "        text-align: right;\n",
              "    }\n",
              "</style>\n",
              "<table border=\"1\" class=\"dataframe\">\n",
              "  <thead>\n",
              "    <tr style=\"text-align: right;\">\n",
              "      <th></th>\n",
              "      <th>ad_id</th>\n",
              "      <th>xyz_campaign_id</th>\n",
              "      <th>fb_campaign_id</th>\n",
              "      <th>age</th>\n",
              "      <th>gender</th>\n",
              "      <th>interest</th>\n",
              "      <th>Impressions</th>\n",
              "      <th>Clicks</th>\n",
              "      <th>Spent</th>\n",
              "      <th>Total_Conversion</th>\n",
              "      <th>Approved_Conversion</th>\n",
              "    </tr>\n",
              "  </thead>\n",
              "  <tbody>\n",
              "    <tr>\n",
              "      <th>0</th>\n",
              "      <td>708746</td>\n",
              "      <td>916</td>\n",
              "      <td>103916</td>\n",
              "      <td>30-34</td>\n",
              "      <td>M</td>\n",
              "      <td>15</td>\n",
              "      <td>7350</td>\n",
              "      <td>1</td>\n",
              "      <td>1.43</td>\n",
              "      <td>2</td>\n",
              "      <td>1</td>\n",
              "    </tr>\n",
              "    <tr>\n",
              "      <th>1</th>\n",
              "      <td>708749</td>\n",
              "      <td>916</td>\n",
              "      <td>103917</td>\n",
              "      <td>30-34</td>\n",
              "      <td>M</td>\n",
              "      <td>16</td>\n",
              "      <td>17861</td>\n",
              "      <td>2</td>\n",
              "      <td>1.82</td>\n",
              "      <td>2</td>\n",
              "      <td>0</td>\n",
              "    </tr>\n",
              "    <tr>\n",
              "      <th>2</th>\n",
              "      <td>708771</td>\n",
              "      <td>916</td>\n",
              "      <td>103920</td>\n",
              "      <td>30-34</td>\n",
              "      <td>M</td>\n",
              "      <td>20</td>\n",
              "      <td>693</td>\n",
              "      <td>0</td>\n",
              "      <td>0.00</td>\n",
              "      <td>1</td>\n",
              "      <td>0</td>\n",
              "    </tr>\n",
              "    <tr>\n",
              "      <th>3</th>\n",
              "      <td>708815</td>\n",
              "      <td>916</td>\n",
              "      <td>103928</td>\n",
              "      <td>30-34</td>\n",
              "      <td>M</td>\n",
              "      <td>28</td>\n",
              "      <td>4259</td>\n",
              "      <td>1</td>\n",
              "      <td>1.25</td>\n",
              "      <td>1</td>\n",
              "      <td>0</td>\n",
              "    </tr>\n",
              "    <tr>\n",
              "      <th>4</th>\n",
              "      <td>708818</td>\n",
              "      <td>916</td>\n",
              "      <td>103928</td>\n",
              "      <td>30-34</td>\n",
              "      <td>M</td>\n",
              "      <td>28</td>\n",
              "      <td>4133</td>\n",
              "      <td>1</td>\n",
              "      <td>1.29</td>\n",
              "      <td>1</td>\n",
              "      <td>1</td>\n",
              "    </tr>\n",
              "  </tbody>\n",
              "</table>\n",
              "</div>"
            ],
            "text/plain": [
              "    ad_id  xyz_campaign_id  ...  Total_Conversion Approved_Conversion\n",
              "0  708746              916  ...                 2                   1\n",
              "1  708749              916  ...                 2                   0\n",
              "2  708771              916  ...                 1                   0\n",
              "3  708815              916  ...                 1                   0\n",
              "4  708818              916  ...                 1                   1\n",
              "\n",
              "[5 rows x 11 columns]"
            ]
          },
          "metadata": {},
          "execution_count": 13
        }
      ]
    },
    {
      "cell_type": "code",
      "metadata": {
        "id": "KtbO2M-n1qL8"
      },
      "source": [
        "sumstats = fb.groupby('xyz_campaign_id')[['Impressions', 'Clicks']].head().reset_index()"
      ],
      "execution_count": null,
      "outputs": []
    },
    {
      "cell_type": "code",
      "metadata": {
        "id": "AQLM0nXq3VOC"
      },
      "source": [
        "sumstats[\"ctr\"] = fb[\"Clicks\"] / fb[\"Impressions\"]"
      ],
      "execution_count": null,
      "outputs": []
    },
    {
      "cell_type": "code",
      "metadata": {
        "colab": {
          "base_uri": "https://localhost:8080/",
          "height": 514
        },
        "id": "qg9RsMth5SEH",
        "outputId": "36298125-1570-4f3d-c130-ea196fcf4264"
      },
      "source": [
        "sumstats"
      ],
      "execution_count": null,
      "outputs": [
        {
          "output_type": "execute_result",
          "data": {
            "text/html": [
              "<div>\n",
              "<style scoped>\n",
              "    .dataframe tbody tr th:only-of-type {\n",
              "        vertical-align: middle;\n",
              "    }\n",
              "\n",
              "    .dataframe tbody tr th {\n",
              "        vertical-align: top;\n",
              "    }\n",
              "\n",
              "    .dataframe thead th {\n",
              "        text-align: right;\n",
              "    }\n",
              "</style>\n",
              "<table border=\"1\" class=\"dataframe\">\n",
              "  <thead>\n",
              "    <tr style=\"text-align: right;\">\n",
              "      <th></th>\n",
              "      <th>index</th>\n",
              "      <th>Impressions</th>\n",
              "      <th>Clicks</th>\n",
              "      <th>ctr</th>\n",
              "      <th>ctr_sd</th>\n",
              "    </tr>\n",
              "  </thead>\n",
              "  <tbody>\n",
              "    <tr>\n",
              "      <th>0</th>\n",
              "      <td>0</td>\n",
              "      <td>7350</td>\n",
              "      <td>1</td>\n",
              "      <td>0.000136</td>\n",
              "      <td>0.000097</td>\n",
              "    </tr>\n",
              "    <tr>\n",
              "      <th>1</th>\n",
              "      <td>1</td>\n",
              "      <td>17861</td>\n",
              "      <td>2</td>\n",
              "      <td>0.000112</td>\n",
              "      <td>0.000097</td>\n",
              "    </tr>\n",
              "    <tr>\n",
              "      <th>2</th>\n",
              "      <td>2</td>\n",
              "      <td>693</td>\n",
              "      <td>0</td>\n",
              "      <td>0.000000</td>\n",
              "      <td>0.000097</td>\n",
              "    </tr>\n",
              "    <tr>\n",
              "      <th>3</th>\n",
              "      <td>3</td>\n",
              "      <td>4259</td>\n",
              "      <td>1</td>\n",
              "      <td>0.000235</td>\n",
              "      <td>0.000097</td>\n",
              "    </tr>\n",
              "    <tr>\n",
              "      <th>4</th>\n",
              "      <td>4</td>\n",
              "      <td>4133</td>\n",
              "      <td>1</td>\n",
              "      <td>0.000242</td>\n",
              "      <td>0.000097</td>\n",
              "    </tr>\n",
              "    <tr>\n",
              "      <th>5</th>\n",
              "      <td>54</td>\n",
              "      <td>1772</td>\n",
              "      <td>0</td>\n",
              "      <td>0.000000</td>\n",
              "      <td>0.000097</td>\n",
              "    </tr>\n",
              "    <tr>\n",
              "      <th>6</th>\n",
              "      <td>55</td>\n",
              "      <td>13329</td>\n",
              "      <td>4</td>\n",
              "      <td>0.000192</td>\n",
              "      <td>0.000097</td>\n",
              "    </tr>\n",
              "    <tr>\n",
              "      <th>7</th>\n",
              "      <td>56</td>\n",
              "      <td>13659</td>\n",
              "      <td>3</td>\n",
              "      <td>0.000091</td>\n",
              "      <td>0.000097</td>\n",
              "    </tr>\n",
              "    <tr>\n",
              "      <th>8</th>\n",
              "      <td>57</td>\n",
              "      <td>739</td>\n",
              "      <td>0</td>\n",
              "      <td>0.000425</td>\n",
              "      <td>0.000097</td>\n",
              "    </tr>\n",
              "    <tr>\n",
              "      <th>9</th>\n",
              "      <td>58</td>\n",
              "      <td>605</td>\n",
              "      <td>0</td>\n",
              "      <td>0.000316</td>\n",
              "      <td>0.000097</td>\n",
              "    </tr>\n",
              "    <tr>\n",
              "      <th>10</th>\n",
              "      <td>518</td>\n",
              "      <td>1194718</td>\n",
              "      <td>141</td>\n",
              "      <td>0.000000</td>\n",
              "      <td>0.000097</td>\n",
              "    </tr>\n",
              "    <tr>\n",
              "      <th>11</th>\n",
              "      <td>519</td>\n",
              "      <td>637648</td>\n",
              "      <td>67</td>\n",
              "      <td>0.000000</td>\n",
              "      <td>0.000097</td>\n",
              "    </tr>\n",
              "    <tr>\n",
              "      <th>12</th>\n",
              "      <td>520</td>\n",
              "      <td>24362</td>\n",
              "      <td>0</td>\n",
              "      <td>0.000000</td>\n",
              "      <td>0.000097</td>\n",
              "    </tr>\n",
              "    <tr>\n",
              "      <th>13</th>\n",
              "      <td>521</td>\n",
              "      <td>459690</td>\n",
              "      <td>50</td>\n",
              "      <td>0.000000</td>\n",
              "      <td>0.000097</td>\n",
              "    </tr>\n",
              "    <tr>\n",
              "      <th>14</th>\n",
              "      <td>522</td>\n",
              "      <td>750060</td>\n",
              "      <td>86</td>\n",
              "      <td>0.000477</td>\n",
              "      <td>0.000097</td>\n",
              "    </tr>\n",
              "  </tbody>\n",
              "</table>\n",
              "</div>"
            ],
            "text/plain": [
              "    index  Impressions  Clicks       ctr    ctr_sd\n",
              "0       0         7350       1  0.000136  0.000097\n",
              "1       1        17861       2  0.000112  0.000097\n",
              "2       2          693       0  0.000000  0.000097\n",
              "3       3         4259       1  0.000235  0.000097\n",
              "4       4         4133       1  0.000242  0.000097\n",
              "5      54         1772       0  0.000000  0.000097\n",
              "6      55        13329       4  0.000192  0.000097\n",
              "7      56        13659       3  0.000091  0.000097\n",
              "8      57          739       0  0.000425  0.000097\n",
              "9      58          605       0  0.000316  0.000097\n",
              "10    518      1194718     141  0.000000  0.000097\n",
              "11    519       637648      67  0.000000  0.000097\n",
              "12    520        24362       0  0.000000  0.000097\n",
              "13    521       459690      50  0.000000  0.000097\n",
              "14    522       750060      86  0.000477  0.000097"
            ]
          },
          "metadata": {},
          "execution_count": 28
        }
      ]
    },
    {
      "cell_type": "code",
      "metadata": {
        "id": "whB7lmTmwPBy"
      },
      "source": [
        "# take a look at the whole sumstats dataframe\n",
        "\n"
      ],
      "execution_count": null,
      "outputs": []
    },
    {
      "cell_type": "code",
      "metadata": {
        "id": "sNZV4eY15yVe"
      },
      "source": [
        "sumstats[\"ctr_sd\"] = sumstats[\"ctr\"].std(ddof = 0)"
      ],
      "execution_count": null,
      "outputs": []
    },
    {
      "cell_type": "code",
      "metadata": {
        "colab": {
          "base_uri": "https://localhost:8080/",
          "height": 514
        },
        "id": "Iin_yFw9kVFV",
        "outputId": "cf05dd94-5540-454d-d201-efd87d64d40b"
      },
      "source": [
        "sumstats"
      ],
      "execution_count": null,
      "outputs": [
        {
          "output_type": "execute_result",
          "data": {
            "text/html": [
              "<div>\n",
              "<style scoped>\n",
              "    .dataframe tbody tr th:only-of-type {\n",
              "        vertical-align: middle;\n",
              "    }\n",
              "\n",
              "    .dataframe tbody tr th {\n",
              "        vertical-align: top;\n",
              "    }\n",
              "\n",
              "    .dataframe thead th {\n",
              "        text-align: right;\n",
              "    }\n",
              "</style>\n",
              "<table border=\"1\" class=\"dataframe\">\n",
              "  <thead>\n",
              "    <tr style=\"text-align: right;\">\n",
              "      <th></th>\n",
              "      <th>index</th>\n",
              "      <th>Impressions</th>\n",
              "      <th>Clicks</th>\n",
              "      <th>ctr</th>\n",
              "      <th>ctr_sd</th>\n",
              "    </tr>\n",
              "  </thead>\n",
              "  <tbody>\n",
              "    <tr>\n",
              "      <th>0</th>\n",
              "      <td>0</td>\n",
              "      <td>7350</td>\n",
              "      <td>1</td>\n",
              "      <td>0.000136</td>\n",
              "      <td>0.000157</td>\n",
              "    </tr>\n",
              "    <tr>\n",
              "      <th>1</th>\n",
              "      <td>1</td>\n",
              "      <td>17861</td>\n",
              "      <td>2</td>\n",
              "      <td>0.000112</td>\n",
              "      <td>0.000157</td>\n",
              "    </tr>\n",
              "    <tr>\n",
              "      <th>2</th>\n",
              "      <td>2</td>\n",
              "      <td>693</td>\n",
              "      <td>0</td>\n",
              "      <td>0.000000</td>\n",
              "      <td>0.000157</td>\n",
              "    </tr>\n",
              "    <tr>\n",
              "      <th>3</th>\n",
              "      <td>3</td>\n",
              "      <td>4259</td>\n",
              "      <td>1</td>\n",
              "      <td>0.000235</td>\n",
              "      <td>0.000157</td>\n",
              "    </tr>\n",
              "    <tr>\n",
              "      <th>4</th>\n",
              "      <td>4</td>\n",
              "      <td>4133</td>\n",
              "      <td>1</td>\n",
              "      <td>0.000242</td>\n",
              "      <td>0.000157</td>\n",
              "    </tr>\n",
              "    <tr>\n",
              "      <th>5</th>\n",
              "      <td>54</td>\n",
              "      <td>1772</td>\n",
              "      <td>0</td>\n",
              "      <td>0.000000</td>\n",
              "      <td>0.000157</td>\n",
              "    </tr>\n",
              "    <tr>\n",
              "      <th>6</th>\n",
              "      <td>55</td>\n",
              "      <td>13329</td>\n",
              "      <td>4</td>\n",
              "      <td>0.000192</td>\n",
              "      <td>0.000157</td>\n",
              "    </tr>\n",
              "    <tr>\n",
              "      <th>7</th>\n",
              "      <td>56</td>\n",
              "      <td>13659</td>\n",
              "      <td>3</td>\n",
              "      <td>0.000091</td>\n",
              "      <td>0.000157</td>\n",
              "    </tr>\n",
              "    <tr>\n",
              "      <th>8</th>\n",
              "      <td>57</td>\n",
              "      <td>739</td>\n",
              "      <td>0</td>\n",
              "      <td>0.000425</td>\n",
              "      <td>0.000157</td>\n",
              "    </tr>\n",
              "    <tr>\n",
              "      <th>9</th>\n",
              "      <td>58</td>\n",
              "      <td>605</td>\n",
              "      <td>0</td>\n",
              "      <td>0.000316</td>\n",
              "      <td>0.000157</td>\n",
              "    </tr>\n",
              "    <tr>\n",
              "      <th>10</th>\n",
              "      <td>518</td>\n",
              "      <td>1194718</td>\n",
              "      <td>141</td>\n",
              "      <td>0.000000</td>\n",
              "      <td>0.000157</td>\n",
              "    </tr>\n",
              "    <tr>\n",
              "      <th>11</th>\n",
              "      <td>519</td>\n",
              "      <td>637648</td>\n",
              "      <td>67</td>\n",
              "      <td>0.000000</td>\n",
              "      <td>0.000157</td>\n",
              "    </tr>\n",
              "    <tr>\n",
              "      <th>12</th>\n",
              "      <td>520</td>\n",
              "      <td>24362</td>\n",
              "      <td>0</td>\n",
              "      <td>0.000000</td>\n",
              "      <td>0.000157</td>\n",
              "    </tr>\n",
              "    <tr>\n",
              "      <th>13</th>\n",
              "      <td>521</td>\n",
              "      <td>459690</td>\n",
              "      <td>50</td>\n",
              "      <td>0.000000</td>\n",
              "      <td>0.000157</td>\n",
              "    </tr>\n",
              "    <tr>\n",
              "      <th>14</th>\n",
              "      <td>522</td>\n",
              "      <td>750060</td>\n",
              "      <td>86</td>\n",
              "      <td>0.000477</td>\n",
              "      <td>0.000157</td>\n",
              "    </tr>\n",
              "  </tbody>\n",
              "</table>\n",
              "</div>"
            ],
            "text/plain": [
              "    index  Impressions  Clicks       ctr    ctr_sd\n",
              "0       0         7350       1  0.000136  0.000157\n",
              "1       1        17861       2  0.000112  0.000157\n",
              "2       2          693       0  0.000000  0.000157\n",
              "3       3         4259       1  0.000235  0.000157\n",
              "4       4         4133       1  0.000242  0.000157\n",
              "5      54         1772       0  0.000000  0.000157\n",
              "6      55        13329       4  0.000192  0.000157\n",
              "7      56        13659       3  0.000091  0.000157\n",
              "8      57          739       0  0.000425  0.000157\n",
              "9      58          605       0  0.000316  0.000157\n",
              "10    518      1194718     141  0.000000  0.000157\n",
              "11    519       637648      67  0.000000  0.000157\n",
              "12    520        24362       0  0.000000  0.000157\n",
              "13    521       459690      50  0.000000  0.000157\n",
              "14    522       750060      86  0.000477  0.000157"
            ]
          },
          "metadata": {},
          "execution_count": 30
        }
      ]
    },
    {
      "cell_type": "code",
      "metadata": {
        "colab": {
          "base_uri": "https://localhost:8080/"
        },
        "id": "-K3KdWRUkdxW",
        "outputId": "2f1c29ab-6368-443e-e15c-43d9b87e8ee7"
      },
      "source": [
        "sumstats.mean()"
      ],
      "execution_count": null,
      "outputs": [
        {
          "output_type": "execute_result",
          "data": {
            "text/plain": [
              "index             192.666667\n",
              "Impressions    208725.200000\n",
              "Clicks             23.733333\n",
              "ctr                 0.000148\n",
              "ctr_sd              0.000157\n",
              "dtype: float64"
            ]
          },
          "metadata": {},
          "execution_count": 33
        }
      ]
    },
    {
      "cell_type": "markdown",
      "metadata": {
        "id": "8HRyqz1Exl4Y"
      },
      "source": [
        "## Answer (edit this cell)\n",
        "The campaign with the highest CTR is: **____14___________**\n"
      ]
    },
    {
      "cell_type": "markdown",
      "metadata": {
        "id": "cEYwuOWowQaF"
      },
      "source": [
        "# 2. (4 points) Hypothesis testing and confidence intervals\n",
        "\n",
        "1. Compute the 95% confidence interval for the CTR for each campaign. Compare the confidence intervals of campaign 916 and 936. What can you conclude about the relative perfrmance of the 2 ads in the population (e.g. are they very different, similar, etc.)? How about 916 vs. 1178?\n",
        "1. Was campaign 936 statistically different compared to campaign 916? How about 936 vs. 1178? Use the `ttest_2sample` function from the notes. Remember, you must define it in your Colab session in order to use it (execute the cell w/ the function).\n",
        "\n",
        "Given these statistical tests what would you recommend in terms of allocation of the ad budget? "
      ]
    },
    {
      "cell_type": "code",
      "metadata": {
        "id": "ofP91ZApmOvz"
      },
      "source": [
        "mean = sumstats[\"\"]"
      ],
      "execution_count": null,
      "outputs": []
    },
    {
      "cell_type": "code",
      "metadata": {
        "id": "DJdbML1BCQ7X"
      },
      "source": [
        "# use stats.norm.ppf([.025, .975], mean, std error)\n",
        "# where mean is sample mean and std error is std dev / sqrt(obs) (from Central Limit Theorem)\n",
        "\n",
        "# confidence interval for ad 916\n",
        "\n"
      ],
      "execution_count": null,
      "outputs": []
    },
    {
      "cell_type": "code",
      "metadata": {
        "id": "5iw0uMWEyzX1"
      },
      "source": [
        "# confidence interval for ad 936\n",
        "\n"
      ],
      "execution_count": null,
      "outputs": []
    },
    {
      "cell_type": "code",
      "metadata": {
        "id": "z2rG1Vd2y3GH"
      },
      "source": [
        "# confidence interval for ad 1178\n",
        "\n"
      ],
      "execution_count": null,
      "outputs": []
    },
    {
      "cell_type": "markdown",
      "metadata": {
        "id": "a3WMsEHX9VOa"
      },
      "source": [
        "**Edit this cell**\n",
        "\n",
        "1. (write 1-2 sentences to compare the confidence interval of 916 vs 936's CTR)\n",
        "1. (write 1-2 sentences to compare the confidence interval of 916 vs 1178's CTR)"
      ]
    },
    {
      "cell_type": "code",
      "metadata": {
        "id": "u_jk2UHrAGoX"
      },
      "source": [
        "# Use this custom funciton\n",
        "\n",
        "def ttest_2sample(m1,sd1,N1,m2,sd2,N2, twotail = True, equalvar = False):\n",
        "    \"\"\"\n",
        "    This function requires you tu supply:\n",
        "    m1: mean of sample 1\n",
        "    sd1: std. dev of sample 1\n",
        "    N1: number of obs of sample 1\n",
        "    m2: mean of sample 2\n",
        "    sd2: std dev of sample 2\n",
        "    N2: number of obs of sample 2\n",
        "\n",
        "    Optional inputs:\n",
        "    twotail = True (default) / False. If False, then 1 tail\n",
        "    equalvar = True / False (default). If True, assumes equal population variance.\n",
        "    \"\"\"\n",
        "\n",
        "    # The difference between equal and unequal variance is only in how to compute\n",
        "    # the test statistic and degree of freedom.\n",
        "    if equalvar:\n",
        "        spsquare = ((N1-1)*sd1**2+(N2-1)*sd2**2)/(N1+N2-2) \n",
        "        T = (m1-m2)/np.sqrt(spsquare*(1/N1+1/N2))\n",
        "        nu = N1+N2-2\n",
        "    else:\n",
        "        nu = (sd1**2/N1+sd2**2/N2)**2/((sd1**2/N1)**2/(N1-1)+(sd2**2/N2)**2/(N2-1)) # new degree of freedom\n",
        "        T = (m1-m2)/(np.sqrt(sd1**2/N1+sd2**2/N2))\n",
        "    \n",
        "    # If the first mean is bigger, we need to do 1- cdf\n",
        "    # Otherwise just compute cdf\n",
        "    if m1>m2:\n",
        "        pval = 1-stats.t.cdf(T, df = nu)\n",
        "    else:\n",
        "        pval = stats.t.cdf(T, df = nu)\n",
        "\n",
        "    # return p values\n",
        "    # If 2 tail, we must multiply by 2\n",
        "    # otherwise we just return the computed pval\n",
        "    if twotail == True:\n",
        "        return pval*2\n",
        "    else:\n",
        "        return pval"
      ],
      "execution_count": null,
      "outputs": []
    },
    {
      "cell_type": "code",
      "metadata": {
        "id": "IInYMY2dBHLv"
      },
      "source": [
        "# run a 2 tail 2 sample t-test to compare the population CTRs for 936 and 916\n"
      ],
      "execution_count": null,
      "outputs": []
    },
    {
      "cell_type": "code",
      "metadata": {
        "id": "qvEZoE2iIagx"
      },
      "source": [
        "# run a 2 tail 2 sample t-test to compare the population CTRs for 936 and 1178\n"
      ],
      "execution_count": null,
      "outputs": []
    },
    {
      "cell_type": "markdown",
      "metadata": {
        "id": "4_YVpVfB08wW"
      },
      "source": [
        "**Edit this cell to answer**\n",
        "\n",
        "(Write a few sentences to describe how to proceed with the allocation of the ad budget going forward. Be sure to use the 2 tail t-tests above to support your strategy)"
      ]
    },
    {
      "cell_type": "markdown",
      "metadata": {
        "id": "ypanZDwVAOu2"
      },
      "source": [
        "# 3. (4 points)\n",
        "\n",
        "Using the Starbucks dataset, conduct an appropriate statistical test to determine:\n",
        "1. Is there any statistically appreciable difference in the redemption rates of BOGO vs. Discount promotions?\n",
        "1. Among those who redeemed an offer and reported their income, is there any statistical difference in the average income associated with BOGO vs. discount redemptions? Note that not every observation reports income (select only the observations that do)."
      ]
    },
    {
      "cell_type": "code",
      "metadata": {
        "id": "n090FpbanPSg"
      },
      "source": [
        "sb = pd.read_csv(fpath + 'starbucks_promos.csv', index_col = 0)"
      ],
      "execution_count": null,
      "outputs": []
    },
    {
      "cell_type": "code",
      "metadata": {
        "id": "SgSm9c_16egs",
        "colab": {
          "base_uri": "https://localhost:8080/",
          "height": 411
        },
        "outputId": "ca10ebcd-9385-419a-9ffd-4d947d433584"
      },
      "source": [
        "sb.head()"
      ],
      "execution_count": null,
      "outputs": [
        {
          "output_type": "execute_result",
          "data": {
            "text/html": [
              "<div>\n",
              "<style scoped>\n",
              "    .dataframe tbody tr th:only-of-type {\n",
              "        vertical-align: middle;\n",
              "    }\n",
              "\n",
              "    .dataframe tbody tr th {\n",
              "        vertical-align: top;\n",
              "    }\n",
              "\n",
              "    .dataframe thead th {\n",
              "        text-align: right;\n",
              "    }\n",
              "</style>\n",
              "<table border=\"1\" class=\"dataframe\">\n",
              "  <thead>\n",
              "    <tr style=\"text-align: right;\">\n",
              "      <th></th>\n",
              "      <th>uid</th>\n",
              "      <th>event</th>\n",
              "      <th>time</th>\n",
              "      <th>gender</th>\n",
              "      <th>age</th>\n",
              "      <th>register_date</th>\n",
              "      <th>income</th>\n",
              "      <th>offer_id</th>\n",
              "      <th>offer_reward</th>\n",
              "      <th>channels</th>\n",
              "      <th>difficulty</th>\n",
              "      <th>duration</th>\n",
              "      <th>offer_type</th>\n",
              "      <th>offer_time</th>\n",
              "      <th>transaction_amount</th>\n",
              "      <th>redeem_time</th>\n",
              "      <th>redeemed</th>\n",
              "    </tr>\n",
              "  </thead>\n",
              "  <tbody>\n",
              "    <tr>\n",
              "      <th>1</th>\n",
              "      <td>0020c2b971eb4e9188eac86d93036a77</td>\n",
              "      <td>offer received</td>\n",
              "      <td>0</td>\n",
              "      <td>F</td>\n",
              "      <td>59</td>\n",
              "      <td>20160304</td>\n",
              "      <td>90000.0</td>\n",
              "      <td>fafdcd668e3743c1bb461111dcafc2a4</td>\n",
              "      <td>2.0</td>\n",
              "      <td>['web', 'email', 'mobile', 'social']</td>\n",
              "      <td>10.0</td>\n",
              "      <td>240.0</td>\n",
              "      <td>discount</td>\n",
              "      <td>0.0</td>\n",
              "      <td>17.63</td>\n",
              "      <td>54.0</td>\n",
              "      <td>1</td>\n",
              "    </tr>\n",
              "    <tr>\n",
              "      <th>4</th>\n",
              "      <td>005500a7188546ff8a767329a2f7c76a</td>\n",
              "      <td>offer received</td>\n",
              "      <td>0</td>\n",
              "      <td>M</td>\n",
              "      <td>56</td>\n",
              "      <td>20171209</td>\n",
              "      <td>47000.0</td>\n",
              "      <td>ae264e3637204a6fb9bb56bc8210ddfd</td>\n",
              "      <td>10.0</td>\n",
              "      <td>['email', 'mobile', 'social']</td>\n",
              "      <td>10.0</td>\n",
              "      <td>168.0</td>\n",
              "      <td>bogo</td>\n",
              "      <td>0.0</td>\n",
              "      <td>NaN</td>\n",
              "      <td>NaN</td>\n",
              "      <td>0</td>\n",
              "    </tr>\n",
              "    <tr>\n",
              "      <th>5</th>\n",
              "      <td>0056df74b63b4298809f0b375a304cf4</td>\n",
              "      <td>offer received</td>\n",
              "      <td>0</td>\n",
              "      <td>M</td>\n",
              "      <td>54</td>\n",
              "      <td>20160821</td>\n",
              "      <td>91000.0</td>\n",
              "      <td>9b98b8c7a33c4b65b9aebfe6a799e6d9</td>\n",
              "      <td>5.0</td>\n",
              "      <td>['web', 'email', 'mobile']</td>\n",
              "      <td>5.0</td>\n",
              "      <td>168.0</td>\n",
              "      <td>bogo</td>\n",
              "      <td>0.0</td>\n",
              "      <td>27.86</td>\n",
              "      <td>132.0</td>\n",
              "      <td>1</td>\n",
              "    </tr>\n",
              "    <tr>\n",
              "      <th>6</th>\n",
              "      <td>00715b6e55c3431cb56ff7307eb19675</td>\n",
              "      <td>offer received</td>\n",
              "      <td>0</td>\n",
              "      <td>F</td>\n",
              "      <td>58</td>\n",
              "      <td>20171207</td>\n",
              "      <td>119000.0</td>\n",
              "      <td>ae264e3637204a6fb9bb56bc8210ddfd</td>\n",
              "      <td>10.0</td>\n",
              "      <td>['email', 'mobile', 'social']</td>\n",
              "      <td>10.0</td>\n",
              "      <td>168.0</td>\n",
              "      <td>bogo</td>\n",
              "      <td>0.0</td>\n",
              "      <td>27.26</td>\n",
              "      <td>12.0</td>\n",
              "      <td>1</td>\n",
              "    </tr>\n",
              "    <tr>\n",
              "      <th>8</th>\n",
              "      <td>00840a2ca5d2408e982d56544dc14ffd</td>\n",
              "      <td>offer received</td>\n",
              "      <td>0</td>\n",
              "      <td>M</td>\n",
              "      <td>26</td>\n",
              "      <td>20141221</td>\n",
              "      <td>61000.0</td>\n",
              "      <td>2906b810c7d4411798c6938adc9daaa5</td>\n",
              "      <td>2.0</td>\n",
              "      <td>['web', 'email', 'mobile']</td>\n",
              "      <td>10.0</td>\n",
              "      <td>168.0</td>\n",
              "      <td>discount</td>\n",
              "      <td>0.0</td>\n",
              "      <td>6.05</td>\n",
              "      <td>540.0</td>\n",
              "      <td>1</td>\n",
              "    </tr>\n",
              "  </tbody>\n",
              "</table>\n",
              "</div>"
            ],
            "text/plain": [
              "                                uid           event  ...  redeem_time redeemed\n",
              "1  0020c2b971eb4e9188eac86d93036a77  offer received  ...         54.0        1\n",
              "4  005500a7188546ff8a767329a2f7c76a  offer received  ...          NaN        0\n",
              "5  0056df74b63b4298809f0b375a304cf4  offer received  ...        132.0        1\n",
              "6  00715b6e55c3431cb56ff7307eb19675  offer received  ...         12.0        1\n",
              "8  00840a2ca5d2408e982d56544dc14ffd  offer received  ...        540.0        1\n",
              "\n",
              "[5 rows x 17 columns]"
            ]
          },
          "metadata": {},
          "execution_count": 38
        }
      ]
    },
    {
      "cell_type": "code",
      "metadata": {
        "id": "DuX3D411oIbB"
      },
      "source": [
        "disc = disco"
      ],
      "execution_count": null,
      "outputs": []
    },
    {
      "cell_type": "code",
      "metadata": {
        "id": "iC8EEC4kJS6L"
      },
      "source": [
        "# select the redemed column for discount offers, name this data the variable disc\n",
        "\n"
      ],
      "execution_count": null,
      "outputs": []
    },
    {
      "cell_type": "code",
      "metadata": {
        "id": "pGo0BwRTKYRb"
      },
      "source": [
        "# select the redemed column for buy one get one (bogo) offers, name this data the variable bogo\n",
        "\n"
      ],
      "execution_count": null,
      "outputs": []
    },
    {
      "cell_type": "code",
      "metadata": {
        "id": "WpAY07u7Kbez"
      },
      "source": [
        "# use stats.ttest_ind to test whether the 2 types of offers yield different redemption rates\n",
        "\n"
      ],
      "execution_count": null,
      "outputs": []
    },
    {
      "cell_type": "code",
      "metadata": {
        "id": "vdcPjmahLwPn"
      },
      "source": [
        "# Select the income column for those who redeemed the BOGO offer, call this the variable bogo_income\n",
        "# note you need to use 3 condtitions for the row selection: one for redeemed, one for bogo offer, and one for income is not missing\n",
        "# FYI: dataframe.somecolumn.notnull() is the Boolean evaluation for whether the somecolumn is not missing data\n",
        "\n"
      ],
      "execution_count": null,
      "outputs": []
    },
    {
      "cell_type": "code",
      "metadata": {
        "id": "9giiAZ1P6El-"
      },
      "source": [
        "# Select the income column for those who redeemed the discount offer, call this the variable disc_income\n",
        "# note you need to use 3 condtitions for the row selection: one for redeemed, one for discount offer,  and one for income is not missing\n",
        "# FYI: dataframe.somecolumn.notnull() is the Boolean evaluation for whether the somecolumn is not missing data\n",
        "\n"
      ],
      "execution_count": null,
      "outputs": []
    },
    {
      "cell_type": "code",
      "metadata": {
        "id": "vt9kRYVh7J2N"
      },
      "source": [
        "# What is the average income for bogo redeemers (bogo_income.mean())?\n",
        "\n"
      ],
      "execution_count": null,
      "outputs": []
    },
    {
      "cell_type": "code",
      "metadata": {
        "id": "GvoIFMFr7Ow1"
      },
      "source": [
        "# What is the average income for discount redeemers?\n",
        "\n"
      ],
      "execution_count": null,
      "outputs": []
    },
    {
      "cell_type": "code",
      "metadata": {
        "id": "zV-OOhTT6RY8"
      },
      "source": [
        "# use stats.ttest_ind to test whether the average income of the redeemers of the 2 offer types are different\n",
        "\n"
      ],
      "execution_count": null,
      "outputs": []
    },
    {
      "cell_type": "markdown",
      "metadata": {
        "id": "bhAXZ0kO6a5B"
      },
      "source": [
        "**Edit this cell**\n",
        "1. (Write a sentence to describe the relative redemption rates of the 2 offer types based on the result of the t-test).\n",
        "1. (Write a sentence to describe the relative incomes of the redeemers of the 2 offer types based on the result of the t-test)."
      ]
    }
  ]
}