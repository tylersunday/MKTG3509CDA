{
  "nbformat": 4,
  "nbformat_minor": 0,
  "metadata": {
    "colab": {
      "name": "Tyler_Sunday_A10_Text_Analysis_Tutorial.ipynb",
      "provenance": [],
      "collapsed_sections": []
    },
    "kernelspec": {
      "name": "python3",
      "display_name": "Python 3"
    }
  },
  "cells": [
    {
      "cell_type": "markdown",
      "metadata": {
        "id": "KPwEyELGoIzD"
      },
      "source": [
        "**Rationale** Texts have become one of the most ubiquitous forms of marketing data in the digital economy. Perhaps nowhere is this more prevalent than in the online reviews domain. In our notes, we examined how natural language processing (NLP) techniques can be applied to Yelp restaurant reviews. On this homework assignment, you will apply the same tools to mine TripAdvisor hotel reviews. This dataset includes all TripAdvisor reviews written in 2015 (through part of 2016) for high review volume Vegas resorts and was collected as part of a large web crawl of over 50 Million online reviews at over 428k worldwide hotels by your professor and his colleague, Dr. Alex Chaudhry in 2016. \n",
        "\n",
        "* [Dataset](https://drive.google.com/drive/folders/16eyzTI32aKsKiLf9oPMzL3v2U30afd01?usp=sharing)\n",
        "\n",
        "You will only need:\n",
        "* vegas_2015_reviews.csv contains the reviews \n",
        "* vegas_info.csv contains a list of venues in Vegas\n",
        "\n",
        "Get started early on this assignment, some components **take a while to run**. "
      ]
    },
    {
      "cell_type": "markdown",
      "metadata": {
        "id": "RDtd9GIbopTs"
      },
      "source": [
        "This assignment will be slightly different. Please follow all prompts.\n",
        "\n",
        "1. This is a walkthrough tutorial, mostly. I have provided you with most of the necessary code. Your job is to run it, read it, understand how it relates to NLP concepts.\n",
        "1. There are many questions throughout. You will primarily be graded on these.\n",
        "1. There are a few places where I ask you to write some code. Pay attention to every cell, make sure you don't skip a cell that you must fill in on accident. Hopefully, this foces you to read through the code thoroughly."
      ]
    },
    {
      "cell_type": "markdown",
      "metadata": {
        "id": "fQ2JaIGTmQgL"
      },
      "source": [
        "# Imports and helper functions (execute these cells first)"
      ]
    },
    {
      "cell_type": "code",
      "metadata": {
        "id": "J_ikf5j2tfCa",
        "colab": {
          "base_uri": "https://localhost:8080/"
        },
        "outputId": "94366c49-5e84-4d2a-deef-0d4bcb1b3559"
      },
      "source": [
        "from google.colab import drive\n",
        "drive.mount('drive/')"
      ],
      "execution_count": null,
      "outputs": [
        {
          "output_type": "stream",
          "name": "stdout",
          "text": [
            "Drive already mounted at drive/; to attempt to forcibly remount, call drive.mount(\"drive/\", force_remount=True).\n"
          ]
        }
      ]
    },
    {
      "cell_type": "code",
      "metadata": {
        "id": "LpFdjrLUtiZu"
      },
      "source": [
        "import pandas as pd, numpy as np, matplotlib.pyplot as plt, os\n",
        "from textblob import TextBlob \n"
      ],
      "execution_count": null,
      "outputs": []
    },
    {
      "cell_type": "code",
      "metadata": {
        "id": "qHuXou0em8_y",
        "colab": {
          "base_uri": "https://localhost:8080/"
        },
        "outputId": "63528da1-47c4-4e98-809b-1f32b6b4e626"
      },
      "source": [
        "# imports\n",
        "\n",
        "import nltk\n",
        "nltk.download('stopwords') # download stopwords from NLTK servers\n",
        "from nltk.corpus import stopwords # import them\n",
        "sw = stopwords.words('english')\n",
        "\n",
        "\n",
        "import pandas as pd, numpy as np, matplotlib.pyplot as plt, os, time # standard imports\n",
        "from itertools import chain\n",
        "\n",
        "# for sentiment analysis\n",
        "from textblob import TextBlob \n",
        "\n",
        "# for doing text processing and LDA\n",
        "import spacy\n",
        "from gensim.models.ldamulticore import LdaMulticore # this is the multi-core version\n",
        "from gensim import corpora # import the corpora module\n",
        "from gensim.models import Phrases\n",
        "from gensim.models import tfidfmodel\n",
        "from gensim.models.word2vec import LineSentence\n",
        "from sklearn.model_selection import train_test_split"
      ],
      "execution_count": null,
      "outputs": [
        {
          "output_type": "stream",
          "name": "stdout",
          "text": [
            "[nltk_data] Downloading package stopwords to /root/nltk_data...\n",
            "[nltk_data]   Package stopwords is already up-to-date!\n"
          ]
        }
      ]
    },
    {
      "cell_type": "code",
      "metadata": {
        "id": "gV4n5r35nEdQ"
      },
      "source": [
        "# Helper Functions\n",
        "def line_doc(filename, encode = 'utf-8'):\n",
        "    \"\"\"\n",
        "    generator function to read in reviews from the file\n",
        "    and un-escape the original line breaks in the text\n",
        "    \"\"\"\n",
        "    with open(filename, 'r', encoding = encode) as f:\n",
        "        for txt in f:\n",
        "            # yield returns next line\n",
        "            yield txt.replace('\\\\n', '\\n')\n",
        "            # and get rid of any line breaks\n",
        "\n",
        "# parsing to be done per sentence\n",
        "def lemmatize(s, exclude):\n",
        "    return [w.lemma_.lower() for w in s if (w.lemma_ not in exclude)&(~w.is_punct)]\n",
        "\n",
        "\n",
        "# next will be a function that will pass a filename to the line_doc function\n",
        "# and generate the parsed versions of ***EVERY SENTENCE***\n",
        "# this function streams a file at filename and yields one parsed sentence at a time\n",
        "def lemmatize_sentence_corpus(filename,nlp, batch_size, n_threads, sw=[], exclusions=[], encode = 'utf-8'):\n",
        "    nlp.disable_pipes([\"ner\"]) # disable ner and tagger makes it a little faster\n",
        "    # batch_size is the number of documents to parse in memory at a time\n",
        "    # n_threads it the number of parallel (simultaneous processes to run)\n",
        "    # n_threads is limited by the number of virtual cpu's on the system\n",
        "    # the default free Colab system has only 2 virtual cores\n",
        "    # most modern computers have at least 4\n",
        "    exclude = set(sw + exclusions)\n",
        "    for parsed_txt in nlp.pipe(line_doc(filename, encode = encode),batch_size=batch_size, n_threads=n_threads):\n",
        "            for sent in parsed_txt.sents:\n",
        "                yield ' '.join(lemmatize(sent, exclude))\n",
        "\n",
        "\n",
        "def write_parsed_sentence_corpus(readfile, writefile, nlp, batch_size, n_threads, sw=[], exclusions =[], encode = 'utf-8'):\n",
        "    streamingfile = lemmatize_sentence_corpus(readfile,nlp, batch_size, n_threads, sw=sw, exclusions=exclusions, encode = encode)\n",
        "    with open(writefile, 'w', encoding = encode) as f:\n",
        "        for sentence in streamingfile:\n",
        "            if len(sentence)>0: # write sentence if includes non stopwords\n",
        "                f.write(sentence+'\\n')\n",
        "    print('Success')\n",
        "\n",
        "\n",
        "def phrase_detection(parsedfile, folderpath, passes = 2, returnmodels = True,threshold=10., encode = 'utf-8'):\n",
        "    \"\"\"\n",
        "    parsedfile is the file location and name of the parsed sentence file\n",
        "    folderpath is where the models and phrase detected texts need to be stored\n",
        "\n",
        "    This function does phrase modeling. User specifies the number of passes.\n",
        "    Each additional pass detects longer phrases. The maximum detectable phrase length for\n",
        "    each pass, n, is 2^n.\n",
        "    Returns the list of models by default. Also saves models and intermediary\n",
        "    phrased sentences for each pass.\n",
        "    \"\"\"\n",
        "    ngram = list()\n",
        "    for it in range(passes):\n",
        "        gen = LineSentence(parsedfile)\n",
        "        gram=Phrases(gen, threshold = threshold)\n",
        "        ngram.append(gram)\n",
        "        modelpath = folderpath+'phrase_model_{}.phrasemodel'.format(it+1)\n",
        "        textpath = folderpath+'sent_gram_{}.txt'.format(it+1)\n",
        "        parsedfile = textpath\n",
        "        gram.save(modelpath)\n",
        "        # Write sentence n-gram\n",
        "        with open(textpath, 'w', encoding=encode) as f:\n",
        "            for sent in gen:\n",
        "                new_sent = ' '.join(gram[sent])\n",
        "                f.write(new_sent + '\\n')\n",
        "\n",
        "    if returnmodels == True:\n",
        "        return ngram\n",
        "\n",
        "\n",
        "def phrase_prediction(rawfilepath, outpath,nlp, grams, sw =[], exclusions = [], batch_size = 500, n_threads = 2, encode = 'utf-8'):\n",
        "    \"\"\"\n",
        "    rawfilepath is where the raw reviews (where 1 line = 1 review) are saved \n",
        "    outpath is where to save the resulting parsed and phrase modeled reviews\n",
        "    nlp is the spacy parser object\n",
        "    grams is a list of phrasemodels\n",
        "    sw is a list of stopwords\n",
        "    exclusions are additional words to exclude\n",
        "\n",
        "    \"\"\"\n",
        "    with open(outpath, 'w', encoding = encode) as f:\n",
        "        \n",
        "        nlp.disable_pipes([\"ner\"]) # disable ner and tagger makes it a little faster\n",
        "        exclude = set(sw + exclusions)\n",
        "        \n",
        "        for parsed_txt in nlp.pipe(line_doc(rawfilepath, encode = encode),batch_size=batch_size, n_threads=n_threads):\n",
        "            doc = list()\n",
        "            for sent in parsed_txt.sents:\n",
        "                parsed = lemmatize(sent, exclude)\n",
        "                for gram in grams: # loop through phrase models\n",
        "                    parsed = gram[parsed] # apply phrase model transformation to sentence\n",
        "                doc.append(' '.join(parsed).strip()) # append resulting phrase modeled sentence to list \"doc\"\n",
        "            # write the transformed review as a single line in the new file\n",
        "            txt_gram = ' '.join(doc).strip() # join all sentences in doc together as txt_gram\n",
        "            f.write(txt_gram + '\\n') # write the entire phrase modeled and parsed doc as one line in file"
      ],
      "execution_count": null,
      "outputs": []
    },
    {
      "cell_type": "markdown",
      "metadata": {
        "id": "nXCg7OX2nMPr"
      },
      "source": [
        "# Put together the dataset (1 point)"
      ]
    },
    {
      "cell_type": "code",
      "metadata": {
        "id": "Lo4zawFItov6",
        "colab": {
          "base_uri": "https://localhost:8080/"
        },
        "outputId": "c2146cc5-e36f-493e-8f95-24912c2d358b"
      },
      "source": [
        "fpath = 'drive/My Drive/MKTG 3509/' # change this filepath\n",
        "os.listdir(fpath)"
      ],
      "execution_count": null,
      "outputs": [
        {
          "output_type": "execute_result",
          "data": {
            "text/plain": [
              "['Module 1.ipynb',\n",
              " 'Assignment 1',\n",
              " 'A1 Tyler Sunday.ipynb',\n",
              " 'module 2.ipynb',\n",
              " 'A2 Tyler Sunday.ipynb',\n",
              " 'Copy of Copy of avocado.xlsx',\n",
              " 'Copy of avocado.json',\n",
              " 'avocado (1).csv',\n",
              " 'movies.csv',\n",
              " 'ratings_time.csv',\n",
              " 'Copy of InClass_Module_3.ipynb',\n",
              " 'renttherunway_final_data.json',\n",
              " 'telecom_churn.csv',\n",
              " 'facebook_ads.csv',\n",
              " 'starbucks_promos.csv',\n",
              " 'starbucks_promos.gsheet',\n",
              " 'Tyler_Sunday_A4_Visualization.ipynb',\n",
              " 'Module 3.ipynb',\n",
              " 'temple_traffic.csv',\n",
              " 'avocado.csv',\n",
              " 'Tyler_Sunday_A8  F2021 - Logit.ipynb',\n",
              " 'online_invoices.gsheet',\n",
              " 'online_invoices.csv',\n",
              " 'Tyler_Sunday_A5 F2021 Stats Review.ipynb',\n",
              " 'nlp',\n",
              " 'vegas2015reviews.csv',\n",
              " 'vegas_vinfo.csv',\n",
              " 'Tyler_Sunday_A9 F2021 Segmentation.ipynb',\n",
              " 'Tyler_Sunday_A7 F2021 Regression 2.ipynb',\n",
              " 'Tyler_Sunday_A10_Text_Analysis_Tutorial.ipynb']"
            ]
          },
          "metadata": {},
          "execution_count": 37
        }
      ]
    },
    {
      "cell_type": "code",
      "metadata": {
        "id": "adDi-gF9yrh-",
        "colab": {
          "base_uri": "https://localhost:8080/",
          "height": 345
        },
        "outputId": "bc7ddfd8-a793-4857-d850-e399ffb48a9b"
      },
      "source": [
        "# read in the vegas_vinfo file (vegas venue info)\n",
        "df_biz = pd.read_csv(fpath + 'vegas_vinfo.csv', index_col = 0)\n",
        "df_biz.head()"
      ],
      "execution_count": null,
      "outputs": [
        {
          "output_type": "execute_result",
          "data": {
            "text/html": [
              "<div>\n",
              "<style scoped>\n",
              "    .dataframe tbody tr th:only-of-type {\n",
              "        vertical-align: middle;\n",
              "    }\n",
              "\n",
              "    .dataframe tbody tr th {\n",
              "        vertical-align: top;\n",
              "    }\n",
              "\n",
              "    .dataframe thead th {\n",
              "        text-align: right;\n",
              "    }\n",
              "</style>\n",
              "<table border=\"1\" class=\"dataframe\">\n",
              "  <thead>\n",
              "    <tr style=\"text-align: right;\">\n",
              "      <th></th>\n",
              "      <th>ranking</th>\n",
              "      <th>rating_vol</th>\n",
              "      <th>rdetails</th>\n",
              "      <th>lnglat</th>\n",
              "      <th>rsubrating</th>\n",
              "      <th>vtype</th>\n",
              "      <th>amenities</th>\n",
              "      <th>details</th>\n",
              "      <th>v_name</th>\n",
              "      <th>rating_cat</th>\n",
              "      <th>gd</th>\n",
              "    </tr>\n",
              "  </thead>\n",
              "  <tbody>\n",
              "    <tr>\n",
              "      <th>0</th>\n",
              "      <td>[10, 33]</td>\n",
              "      <td>60.0</td>\n",
              "      <td>NaN</td>\n",
              "      <td>[-115.06332, 36.1191]</td>\n",
              "      <td>{}</td>\n",
              "      <td>Hotel_Review</td>\n",
              "      <td>{'Services': 'Free Parking Banquet Room Self-S...</td>\n",
              "      <td>{'Number of rooms:': '398 ', 'Address:': '3890...</td>\n",
              "      <td>Las Vegas RV Resort</td>\n",
              "      <td>4.0</td>\n",
              "      <td>g45963-d3600552</td>\n",
              "    </tr>\n",
              "    <tr>\n",
              "      <th>1</th>\n",
              "      <td>[209, 267]</td>\n",
              "      <td>63.0</td>\n",
              "      <td>NaN</td>\n",
              "      <td>[-115.08308, 36.127922]</td>\n",
              "      <td>{}</td>\n",
              "      <td>Hotel_Review</td>\n",
              "      <td>{'Things to do': 'Pool Fitness Center with Gym...</td>\n",
              "      <td>{'Address:': '4240 Boulder Hwy, Las Vegas, NV ...</td>\n",
              "      <td>Crossland Economy Studios - Las Vegas - Boulde...</td>\n",
              "      <td>2.5</td>\n",
              "      <td>g45963-d97850</td>\n",
              "    </tr>\n",
              "    <tr>\n",
              "      <th>2</th>\n",
              "      <td>[197, 267]</td>\n",
              "      <td>100.0</td>\n",
              "      <td>NaN</td>\n",
              "      <td>[-115.19604, 36.20166]</td>\n",
              "      <td>{}</td>\n",
              "      <td>Hotel_Review</td>\n",
              "      <td>{'Room types': 'Non-Smoking Rooms ', 'Services...</td>\n",
              "      <td>{'Address:': '2400 N Rancho Dr, Las Vegas, NV ...</td>\n",
              "      <td>Fiesta Rancho Hotel and Casino</td>\n",
              "      <td>2.5</td>\n",
              "      <td>g45963-d121329</td>\n",
              "    </tr>\n",
              "    <tr>\n",
              "      <th>3</th>\n",
              "      <td>[228, 267]</td>\n",
              "      <td>27.0</td>\n",
              "      <td>NaN</td>\n",
              "      <td>[-115.19868, 36.201473]</td>\n",
              "      <td>{}</td>\n",
              "      <td>Hotel_Review</td>\n",
              "      <td>{'Things to do': 'Pool ', 'About the property'...</td>\n",
              "      <td>{'Also Known As:': 'Budget Suites Of America N...</td>\n",
              "      <td>Budget Suites of America North Rancho Drive</td>\n",
              "      <td>1.5</td>\n",
              "      <td>g45963-d91750</td>\n",
              "    </tr>\n",
              "    <tr>\n",
              "      <th>4</th>\n",
              "      <td>[1, 33]</td>\n",
              "      <td>271.0</td>\n",
              "      <td>NaN</td>\n",
              "      <td>[-115.1785, 36.040703]</td>\n",
              "      <td>{}</td>\n",
              "      <td>Hotel_Review</td>\n",
              "      <td>{'Services': 'Self-Serve Laundry Free Parking ...</td>\n",
              "      <td>{'Also Known As:': 'Oasis Las Vegas Rv Hotel L...</td>\n",
              "      <td>Oasis Las Vegas RV Resort</td>\n",
              "      <td>4.5</td>\n",
              "      <td>g45963-d226809</td>\n",
              "    </tr>\n",
              "  </tbody>\n",
              "</table>\n",
              "</div>"
            ],
            "text/plain": [
              "      ranking  rating_vol  ...  rating_cat               gd\n",
              "0    [10, 33]        60.0  ...         4.0  g45963-d3600552\n",
              "1  [209, 267]        63.0  ...         2.5    g45963-d97850\n",
              "2  [197, 267]       100.0  ...         2.5   g45963-d121329\n",
              "3  [228, 267]        27.0  ...         1.5    g45963-d91750\n",
              "4     [1, 33]       271.0  ...         4.5   g45963-d226809\n",
              "\n",
              "[5 rows x 11 columns]"
            ]
          },
          "metadata": {},
          "execution_count": 38
        }
      ]
    },
    {
      "cell_type": "markdown",
      "metadata": {
        "id": "kbjtLQLXpNGr"
      },
      "source": [
        "Variable definitions\n",
        "1. ranking: list [hotel rank, total hotels in neighborhood]\n",
        "1. rating_vol: total ratings\n",
        "1. rdetails: ignore, none of hotels have this field (only restaurants do)\n",
        "1. lnglat: [longitude,latitude] of hotel\n",
        "1. rsubrating: ignore, only restaurants have this\n",
        "1. amenities: a dictionary of amenities categories mapped to amenities list\n",
        "1. details: a dictionary of hotel information fields mapped to hotel data (like addrese, phone, website, etc.)\n",
        "1. v_name: the official name of the hotel \n",
        "1. rating_cat: The summary star rating (in half star increments) displayed to the user. \n",
        "1. gd: The unique hotel identifier."
      ]
    },
    {
      "cell_type": "code",
      "metadata": {
        "id": "Or-scSN3d5iJ",
        "colab": {
          "base_uri": "https://localhost:8080/"
        },
        "outputId": "07bbd626-0402-4a7f-b32b-c63ec3843b3d"
      },
      "source": [
        "# return the shape of df_biz:\n",
        "\n",
        "df_biz.shape"
      ],
      "execution_count": null,
      "outputs": [
        {
          "output_type": "execute_result",
          "data": {
            "text/plain": [
              "(237, 11)"
            ]
          },
          "metadata": {},
          "execution_count": 39
        }
      ]
    },
    {
      "cell_type": "code",
      "metadata": {
        "id": "ygm_bvoeneF3",
        "colab": {
          "base_uri": "https://localhost:8080/",
          "height": 380
        },
        "outputId": "abdfb503-3250-4c53-b5da-b55215255c7e"
      },
      "source": [
        "# preview df_biz\n",
        "\n",
        "df_biz.tail()"
      ],
      "execution_count": null,
      "outputs": [
        {
          "output_type": "execute_result",
          "data": {
            "text/html": [
              "<div>\n",
              "<style scoped>\n",
              "    .dataframe tbody tr th:only-of-type {\n",
              "        vertical-align: middle;\n",
              "    }\n",
              "\n",
              "    .dataframe tbody tr th {\n",
              "        vertical-align: top;\n",
              "    }\n",
              "\n",
              "    .dataframe thead th {\n",
              "        text-align: right;\n",
              "    }\n",
              "</style>\n",
              "<table border=\"1\" class=\"dataframe\">\n",
              "  <thead>\n",
              "    <tr style=\"text-align: right;\">\n",
              "      <th></th>\n",
              "      <th>ranking</th>\n",
              "      <th>rating_vol</th>\n",
              "      <th>rdetails</th>\n",
              "      <th>lnglat</th>\n",
              "      <th>rsubrating</th>\n",
              "      <th>vtype</th>\n",
              "      <th>amenities</th>\n",
              "      <th>details</th>\n",
              "      <th>v_name</th>\n",
              "      <th>rating_cat</th>\n",
              "      <th>gd</th>\n",
              "    </tr>\n",
              "  </thead>\n",
              "  <tbody>\n",
              "    <tr>\n",
              "      <th>232</th>\n",
              "      <td>[26, 267]</td>\n",
              "      <td>1965.0</td>\n",
              "      <td>NaN</td>\n",
              "      <td>[-115.17187, 36.11503]</td>\n",
              "      <td>{}</td>\n",
              "      <td>Hotel_Review</td>\n",
              "      <td>{'Things to do': 'Pool Restaurant Bar/Lounge C...</td>\n",
              "      <td>{'Address:': '3595 Las Vegas Boulevard South, ...</td>\n",
              "      <td>The Cromwell</td>\n",
              "      <td>4.5</td>\n",
              "      <td>g45963-d6537691</td>\n",
              "    </tr>\n",
              "    <tr>\n",
              "      <th>233</th>\n",
              "      <td>[47, 267]</td>\n",
              "      <td>3007.0</td>\n",
              "      <td>NaN</td>\n",
              "      <td>[-115.195, 36.11422]</td>\n",
              "      <td>{}</td>\n",
              "      <td>Hotel_Review</td>\n",
              "      <td>{'Things to do': 'Fitness Center with Gym / Wo...</td>\n",
              "      <td>{'Address:': '4321 West Flamingo Road, Las Veg...</td>\n",
              "      <td>Palms Casino Resort</td>\n",
              "      <td>4.0</td>\n",
              "      <td>g45963-d208820</td>\n",
              "    </tr>\n",
              "    <tr>\n",
              "      <th>234</th>\n",
              "      <td>[100, 267]</td>\n",
              "      <td>546.0</td>\n",
              "      <td>NaN</td>\n",
              "      <td>[-115.14454, 36.1732]</td>\n",
              "      <td>{}</td>\n",
              "      <td>Hotel_Review</td>\n",
              "      <td>{'Things to do': 'Pool Restaurant Casino and G...</td>\n",
              "      <td>{'Address:': '12 E Ogden Ave, Las Vegas, NV 89...</td>\n",
              "      <td>California Hotel</td>\n",
              "      <td>3.5</td>\n",
              "      <td>g45963-d91763</td>\n",
              "    </tr>\n",
              "    <tr>\n",
              "      <th>235</th>\n",
              "      <td>[2, 33]</td>\n",
              "      <td>727.0</td>\n",
              "      <td>NaN</td>\n",
              "      <td>[-115.21856, 36.113987]</td>\n",
              "      <td>{}</td>\n",
              "      <td>Hotel_Review</td>\n",
              "      <td>{'Room types': 'Kitchenette Suites Non-Smoking...</td>\n",
              "      <td>{'Address:': '5625 W Flamingo Rd, Las Vegas, N...</td>\n",
              "      <td>Westgate Flamingo Bay Resort</td>\n",
              "      <td>4.0</td>\n",
              "      <td>g45963-d234835</td>\n",
              "    </tr>\n",
              "    <tr>\n",
              "      <th>236</th>\n",
              "      <td>[24, 267]</td>\n",
              "      <td>758.0</td>\n",
              "      <td>NaN</td>\n",
              "      <td>[-115.15479, 36.13437]</td>\n",
              "      <td>{}</td>\n",
              "      <td>Hotel_Review</td>\n",
              "      <td>{'Things to do': 'Pool Fitness Center with Gym...</td>\n",
              "      <td>{'Address:': '2989 Paradise Rd, Las Vegas, NV ...</td>\n",
              "      <td>SpringHill Suites Las Vegas Convention Center</td>\n",
              "      <td>4.5</td>\n",
              "      <td>g45963-d1200920</td>\n",
              "    </tr>\n",
              "  </tbody>\n",
              "</table>\n",
              "</div>"
            ],
            "text/plain": [
              "        ranking  rating_vol  ...  rating_cat               gd\n",
              "232   [26, 267]      1965.0  ...         4.5  g45963-d6537691\n",
              "233   [47, 267]      3007.0  ...         4.0   g45963-d208820\n",
              "234  [100, 267]       546.0  ...         3.5    g45963-d91763\n",
              "235     [2, 33]       727.0  ...         4.0   g45963-d234835\n",
              "236   [24, 267]       758.0  ...         4.5  g45963-d1200920\n",
              "\n",
              "[5 rows x 11 columns]"
            ]
          },
          "metadata": {},
          "execution_count": 40
        }
      ]
    },
    {
      "cell_type": "markdown",
      "metadata": {
        "id": "hcYaXxKvnjFW"
      },
      "source": [
        "**Answer these**\n",
        "1. What does 1 row of `df_biz` represent (e.g., reviewers, hotels, cities, etc.)? **Hotels** \\\n",
        "1. How many hotels are in this dataset? **236**\n"
      ]
    },
    {
      "cell_type": "code",
      "metadata": {
        "id": "A-RoSIxhtulp"
      },
      "source": [
        "# read in the vegas2015reviews.csv file\n",
        "df = pd.read_csv(fpath + 'vegas2015reviews.csv', index_col = 0)"
      ],
      "execution_count": null,
      "outputs": []
    },
    {
      "cell_type": "markdown",
      "metadata": {
        "id": "RpBfqV4rEyno"
      },
      "source": [
        "Variable definitions\n",
        "\n",
        "1. gd: hotel identifier\n",
        "1. helpful_num: number of helpful votes\n",
        "1. location: location of the reviewer\n",
        "1. mgrRspnDummy: whether a manager responded to the review\n",
        "1. mgr_res_date: when the manager responded\n",
        "1. mrtext: reply of the manager\n",
        "1. ratingDate: when the review was written\n",
        "1. review_id: unique identifer for each review\n",
        "1. reviewrating: rationg (1-5) given by the reviewer\n",
        "1. reviewtext: the text of the review\n",
        "1. reviewtitle: title of the review\n",
        "1. stay_month: 1-12 month of the stay\n",
        "1. stay_year: year of the stay\n",
        "1. travel_category: stated purpose of the stay\n",
        "1. username: user's tripadvisor screen name"
      ]
    },
    {
      "cell_type": "code",
      "metadata": {
        "id": "nnpy50gJoFbq"
      },
      "source": [
        "# convert ratingDate column to pandas datetime format using the pd.to_datetime function\n",
        "\n",
        "df.ratingDate = pd.to_datetime(df.ratingDate)"
      ],
      "execution_count": null,
      "outputs": []
    },
    {
      "cell_type": "code",
      "metadata": {
        "id": "CCTgIq2koMiQ",
        "colab": {
          "base_uri": "https://localhost:8080/",
          "height": 504
        },
        "outputId": "13b1bc03-52e6-4191-a2ea-a454e037d9ea"
      },
      "source": [
        "# check the ratingDate column to ensure the data are now pandas timestamps\n",
        "\n",
        "df.head()"
      ],
      "execution_count": null,
      "outputs": [
        {
          "output_type": "execute_result",
          "data": {
            "text/html": [
              "<div>\n",
              "<style scoped>\n",
              "    .dataframe tbody tr th:only-of-type {\n",
              "        vertical-align: middle;\n",
              "    }\n",
              "\n",
              "    .dataframe tbody tr th {\n",
              "        vertical-align: top;\n",
              "    }\n",
              "\n",
              "    .dataframe thead th {\n",
              "        text-align: right;\n",
              "    }\n",
              "</style>\n",
              "<table border=\"1\" class=\"dataframe\">\n",
              "  <thead>\n",
              "    <tr style=\"text-align: right;\">\n",
              "      <th></th>\n",
              "      <th>gd</th>\n",
              "      <th>helpful_num</th>\n",
              "      <th>location</th>\n",
              "      <th>mgrRspnDummy</th>\n",
              "      <th>mgr_res_date</th>\n",
              "      <th>mrtext</th>\n",
              "      <th>ratingDate</th>\n",
              "      <th>review_id</th>\n",
              "      <th>reviewrating</th>\n",
              "      <th>reviewtext</th>\n",
              "      <th>reviewtitle</th>\n",
              "      <th>stay_month</th>\n",
              "      <th>stay_year</th>\n",
              "      <th>travel_category</th>\n",
              "      <th>username</th>\n",
              "    </tr>\n",
              "  </thead>\n",
              "  <tbody>\n",
              "    <tr>\n",
              "      <th>15044</th>\n",
              "      <td>g45963-d1123368</td>\n",
              "      <td>NaN</td>\n",
              "      <td>Walnut Creek, California</td>\n",
              "      <td>0</td>\n",
              "      <td>NaN</td>\n",
              "      <td>NaN</td>\n",
              "      <td>2015-07-01</td>\n",
              "      <td>284818340</td>\n",
              "      <td>5</td>\n",
              "      <td>An excellent property! The rooms are very nice...</td>\n",
              "      <td>“At the top of its game”</td>\n",
              "      <td>6.0</td>\n",
              "      <td>2015.0</td>\n",
              "      <td>business</td>\n",
              "      <td>cadby</td>\n",
              "    </tr>\n",
              "    <tr>\n",
              "      <th>15045</th>\n",
              "      <td>g45963-d1123368</td>\n",
              "      <td>NaN</td>\n",
              "      <td>Maidstone, United Kingdom</td>\n",
              "      <td>0</td>\n",
              "      <td>NaN</td>\n",
              "      <td>NaN</td>\n",
              "      <td>2015-07-01</td>\n",
              "      <td>284776986</td>\n",
              "      <td>5</td>\n",
              "      <td>My first visit to Las Vegas and WOW!! Whilst a...</td>\n",
              "      <td>“ wow!! ”</td>\n",
              "      <td>9.0</td>\n",
              "      <td>2014.0</td>\n",
              "      <td>couple</td>\n",
              "      <td>Sonia H</td>\n",
              "    </tr>\n",
              "    <tr>\n",
              "      <th>15046</th>\n",
              "      <td>g45963-d1123368</td>\n",
              "      <td>NaN</td>\n",
              "      <td>Brussels</td>\n",
              "      <td>0</td>\n",
              "      <td>NaN</td>\n",
              "      <td>NaN</td>\n",
              "      <td>2015-06-30</td>\n",
              "      <td>284187374</td>\n",
              "      <td>5</td>\n",
              "      <td>Some of the most beautiful hotel rooms in the ...</td>\n",
              "      <td>“ Mass market but luxery hotel at north end of...</td>\n",
              "      <td>6.0</td>\n",
              "      <td>2015.0</td>\n",
              "      <td>couple</td>\n",
              "      <td>Globaliser</td>\n",
              "    </tr>\n",
              "    <tr>\n",
              "      <th>15047</th>\n",
              "      <td>g45963-d1123368</td>\n",
              "      <td>NaN</td>\n",
              "      <td>Colchester, United Kingdom</td>\n",
              "      <td>0</td>\n",
              "      <td>NaN</td>\n",
              "      <td>NaN</td>\n",
              "      <td>2015-06-13</td>\n",
              "      <td>279887884</td>\n",
              "      <td>5</td>\n",
              "      <td>This Hotel is exceptional, its beautifully set...</td>\n",
              "      <td>“ Highlight of Vegas ”</td>\n",
              "      <td>5.0</td>\n",
              "      <td>2015.0</td>\n",
              "      <td>couple</td>\n",
              "      <td>Sharcoates</td>\n",
              "    </tr>\n",
              "    <tr>\n",
              "      <th>15058</th>\n",
              "      <td>g45963-d1123368</td>\n",
              "      <td>NaN</td>\n",
              "      <td>Denver, Colorado, United States</td>\n",
              "      <td>0</td>\n",
              "      <td>NaN</td>\n",
              "      <td>NaN</td>\n",
              "      <td>2015-06-13</td>\n",
              "      <td>279841140</td>\n",
              "      <td>5</td>\n",
              "      <td>My husband and I stayed here during a trip,to ...</td>\n",
              "      <td>“ Beautiful hotel, great location ”</td>\n",
              "      <td>6.0</td>\n",
              "      <td>2015.0</td>\n",
              "      <td>couple</td>\n",
              "      <td>Kimberly A</td>\n",
              "    </tr>\n",
              "  </tbody>\n",
              "</table>\n",
              "</div>"
            ],
            "text/plain": [
              "                    gd  helpful_num  ... travel_category    username\n",
              "15044  g45963-d1123368          NaN  ...        business       cadby\n",
              "15045  g45963-d1123368          NaN  ...          couple     Sonia H\n",
              "15046  g45963-d1123368          NaN  ...          couple  Globaliser\n",
              "15047  g45963-d1123368          NaN  ...          couple  Sharcoates\n",
              "15058  g45963-d1123368          NaN  ...          couple  Kimberly A\n",
              "\n",
              "[5 rows x 15 columns]"
            ]
          },
          "metadata": {},
          "execution_count": 44
        }
      ]
    },
    {
      "cell_type": "code",
      "metadata": {
        "id": "To0eDV4W2XUk",
        "colab": {
          "base_uri": "https://localhost:8080/"
        },
        "outputId": "cc7ce3e1-d8d1-46c8-f2f9-4b9518a2d272"
      },
      "source": [
        "# get the shape of the dataframe df\n",
        "\n",
        "df.shape"
      ],
      "execution_count": null,
      "outputs": [
        {
          "output_type": "execute_result",
          "data": {
            "text/plain": [
              "(46644, 15)"
            ]
          },
          "metadata": {},
          "execution_count": 46
        }
      ]
    },
    {
      "cell_type": "code",
      "metadata": {
        "id": "Fj2p-EKSowid",
        "colab": {
          "base_uri": "https://localhost:8080/",
          "height": 504
        },
        "outputId": "6a6f2e33-e5c9-4394-a150-afcb6687a216"
      },
      "source": [
        "# preview df\n",
        "df.head()"
      ],
      "execution_count": null,
      "outputs": [
        {
          "output_type": "execute_result",
          "data": {
            "text/html": [
              "<div>\n",
              "<style scoped>\n",
              "    .dataframe tbody tr th:only-of-type {\n",
              "        vertical-align: middle;\n",
              "    }\n",
              "\n",
              "    .dataframe tbody tr th {\n",
              "        vertical-align: top;\n",
              "    }\n",
              "\n",
              "    .dataframe thead th {\n",
              "        text-align: right;\n",
              "    }\n",
              "</style>\n",
              "<table border=\"1\" class=\"dataframe\">\n",
              "  <thead>\n",
              "    <tr style=\"text-align: right;\">\n",
              "      <th></th>\n",
              "      <th>gd</th>\n",
              "      <th>helpful_num</th>\n",
              "      <th>location</th>\n",
              "      <th>mgrRspnDummy</th>\n",
              "      <th>mgr_res_date</th>\n",
              "      <th>mrtext</th>\n",
              "      <th>ratingDate</th>\n",
              "      <th>review_id</th>\n",
              "      <th>reviewrating</th>\n",
              "      <th>reviewtext</th>\n",
              "      <th>reviewtitle</th>\n",
              "      <th>stay_month</th>\n",
              "      <th>stay_year</th>\n",
              "      <th>travel_category</th>\n",
              "      <th>username</th>\n",
              "    </tr>\n",
              "  </thead>\n",
              "  <tbody>\n",
              "    <tr>\n",
              "      <th>15044</th>\n",
              "      <td>g45963-d1123368</td>\n",
              "      <td>NaN</td>\n",
              "      <td>Walnut Creek, California</td>\n",
              "      <td>0</td>\n",
              "      <td>NaN</td>\n",
              "      <td>NaN</td>\n",
              "      <td>2015-07-01</td>\n",
              "      <td>284818340</td>\n",
              "      <td>5</td>\n",
              "      <td>An excellent property! The rooms are very nice...</td>\n",
              "      <td>“At the top of its game”</td>\n",
              "      <td>6.0</td>\n",
              "      <td>2015.0</td>\n",
              "      <td>business</td>\n",
              "      <td>cadby</td>\n",
              "    </tr>\n",
              "    <tr>\n",
              "      <th>15045</th>\n",
              "      <td>g45963-d1123368</td>\n",
              "      <td>NaN</td>\n",
              "      <td>Maidstone, United Kingdom</td>\n",
              "      <td>0</td>\n",
              "      <td>NaN</td>\n",
              "      <td>NaN</td>\n",
              "      <td>2015-07-01</td>\n",
              "      <td>284776986</td>\n",
              "      <td>5</td>\n",
              "      <td>My first visit to Las Vegas and WOW!! Whilst a...</td>\n",
              "      <td>“ wow!! ”</td>\n",
              "      <td>9.0</td>\n",
              "      <td>2014.0</td>\n",
              "      <td>couple</td>\n",
              "      <td>Sonia H</td>\n",
              "    </tr>\n",
              "    <tr>\n",
              "      <th>15046</th>\n",
              "      <td>g45963-d1123368</td>\n",
              "      <td>NaN</td>\n",
              "      <td>Brussels</td>\n",
              "      <td>0</td>\n",
              "      <td>NaN</td>\n",
              "      <td>NaN</td>\n",
              "      <td>2015-06-30</td>\n",
              "      <td>284187374</td>\n",
              "      <td>5</td>\n",
              "      <td>Some of the most beautiful hotel rooms in the ...</td>\n",
              "      <td>“ Mass market but luxery hotel at north end of...</td>\n",
              "      <td>6.0</td>\n",
              "      <td>2015.0</td>\n",
              "      <td>couple</td>\n",
              "      <td>Globaliser</td>\n",
              "    </tr>\n",
              "    <tr>\n",
              "      <th>15047</th>\n",
              "      <td>g45963-d1123368</td>\n",
              "      <td>NaN</td>\n",
              "      <td>Colchester, United Kingdom</td>\n",
              "      <td>0</td>\n",
              "      <td>NaN</td>\n",
              "      <td>NaN</td>\n",
              "      <td>2015-06-13</td>\n",
              "      <td>279887884</td>\n",
              "      <td>5</td>\n",
              "      <td>This Hotel is exceptional, its beautifully set...</td>\n",
              "      <td>“ Highlight of Vegas ”</td>\n",
              "      <td>5.0</td>\n",
              "      <td>2015.0</td>\n",
              "      <td>couple</td>\n",
              "      <td>Sharcoates</td>\n",
              "    </tr>\n",
              "    <tr>\n",
              "      <th>15058</th>\n",
              "      <td>g45963-d1123368</td>\n",
              "      <td>NaN</td>\n",
              "      <td>Denver, Colorado, United States</td>\n",
              "      <td>0</td>\n",
              "      <td>NaN</td>\n",
              "      <td>NaN</td>\n",
              "      <td>2015-06-13</td>\n",
              "      <td>279841140</td>\n",
              "      <td>5</td>\n",
              "      <td>My husband and I stayed here during a trip,to ...</td>\n",
              "      <td>“ Beautiful hotel, great location ”</td>\n",
              "      <td>6.0</td>\n",
              "      <td>2015.0</td>\n",
              "      <td>couple</td>\n",
              "      <td>Kimberly A</td>\n",
              "    </tr>\n",
              "  </tbody>\n",
              "</table>\n",
              "</div>"
            ],
            "text/plain": [
              "                    gd  helpful_num  ... travel_category    username\n",
              "15044  g45963-d1123368          NaN  ...        business       cadby\n",
              "15045  g45963-d1123368          NaN  ...          couple     Sonia H\n",
              "15046  g45963-d1123368          NaN  ...          couple  Globaliser\n",
              "15047  g45963-d1123368          NaN  ...          couple  Sharcoates\n",
              "15058  g45963-d1123368          NaN  ...          couple  Kimberly A\n",
              "\n",
              "[5 rows x 15 columns]"
            ]
          },
          "metadata": {},
          "execution_count": 49
        }
      ]
    },
    {
      "cell_type": "code",
      "metadata": {
        "id": "uAKT30tkop86",
        "colab": {
          "base_uri": "https://localhost:8080/"
        },
        "outputId": "8c9f6037-95e9-43ec-eb6e-58e83f6125df"
      },
      "source": [
        "# look at the columns of df (e.g. df.columns)\n",
        "df.columns"
      ],
      "execution_count": null,
      "outputs": [
        {
          "output_type": "execute_result",
          "data": {
            "text/plain": [
              "Index(['gd', 'helpful_num', 'location', 'mgrRspnDummy', 'mgr_res_date',\n",
              "       'mrtext', 'ratingDate', 'review_id', 'reviewrating', 'reviewtext',\n",
              "       'reviewtitle', 'stay_month', 'stay_year', 'travel_category',\n",
              "       'username'],\n",
              "      dtype='object')"
            ]
          },
          "metadata": {},
          "execution_count": 50
        }
      ]
    },
    {
      "cell_type": "code",
      "metadata": {
        "id": "E5RJLe-DoyWq",
        "colab": {
          "base_uri": "https://localhost:8080/"
        },
        "outputId": "6b9c28fb-f2fa-424b-f0c3-7493eef66933"
      },
      "source": [
        "# what are the columns that belong to both df and df_biz?\n",
        "set(df.columns).intersection(set(df_biz.columns))"
      ],
      "execution_count": null,
      "outputs": [
        {
          "output_type": "execute_result",
          "data": {
            "text/plain": [
              "{'gd'}"
            ]
          },
          "metadata": {},
          "execution_count": 51
        }
      ]
    },
    {
      "cell_type": "markdown",
      "metadata": {
        "id": "XhMYdN6jocJ8"
      },
      "source": [
        "**Answer this**\n",
        "\n",
        "Which variable or variables will allow you to merge df with df_biz? **Hotel Identifer**"
      ]
    },
    {
      "cell_type": "code",
      "metadata": {
        "id": "QrZclScpyvho"
      },
      "source": [
        "# merge df (left) with df_biz (right) using an *inner* merge (keep only matched rows)\n",
        "# call the reuslting dataframe, df (replace df with the merge result)\n",
        "\n",
        "df = df.merge(df_biz, how = 'inner', on = 'gd') # fill in this"
      ],
      "execution_count": null,
      "outputs": []
    },
    {
      "cell_type": "code",
      "metadata": {
        "id": "tqoXuQyY21aa",
        "colab": {
          "base_uri": "https://localhost:8080/"
        },
        "outputId": "b5c73a25-eda0-4a71-b66e-b19f7e294792"
      },
      "source": [
        "# check the # of rows and columns of df\n",
        "# this should bee (46644,25)\n",
        "\n",
        "df.shape"
      ],
      "execution_count": null,
      "outputs": [
        {
          "output_type": "execute_result",
          "data": {
            "text/plain": [
              "(46644, 25)"
            ]
          },
          "metadata": {},
          "execution_count": 53
        }
      ]
    },
    {
      "cell_type": "code",
      "metadata": {
        "id": "sdkMqhgA2HrZ",
        "colab": {
          "base_uri": "https://localhost:8080/",
          "height": 747
        },
        "outputId": "6a5f2d8b-a403-4357-8117-0e69e545e395"
      },
      "source": [
        "# preview your dataframe\n",
        "\n",
        "df.head()"
      ],
      "execution_count": null,
      "outputs": [
        {
          "output_type": "execute_result",
          "data": {
            "text/html": [
              "<div>\n",
              "<style scoped>\n",
              "    .dataframe tbody tr th:only-of-type {\n",
              "        vertical-align: middle;\n",
              "    }\n",
              "\n",
              "    .dataframe tbody tr th {\n",
              "        vertical-align: top;\n",
              "    }\n",
              "\n",
              "    .dataframe thead th {\n",
              "        text-align: right;\n",
              "    }\n",
              "</style>\n",
              "<table border=\"1\" class=\"dataframe\">\n",
              "  <thead>\n",
              "    <tr style=\"text-align: right;\">\n",
              "      <th></th>\n",
              "      <th>gd</th>\n",
              "      <th>helpful_num</th>\n",
              "      <th>location</th>\n",
              "      <th>mgrRspnDummy</th>\n",
              "      <th>mgr_res_date</th>\n",
              "      <th>mrtext</th>\n",
              "      <th>ratingDate</th>\n",
              "      <th>review_id</th>\n",
              "      <th>reviewrating</th>\n",
              "      <th>reviewtext</th>\n",
              "      <th>reviewtitle</th>\n",
              "      <th>stay_month</th>\n",
              "      <th>stay_year</th>\n",
              "      <th>travel_category</th>\n",
              "      <th>username</th>\n",
              "      <th>ranking</th>\n",
              "      <th>rating_vol</th>\n",
              "      <th>rdetails</th>\n",
              "      <th>lnglat</th>\n",
              "      <th>rsubrating</th>\n",
              "      <th>vtype</th>\n",
              "      <th>amenities</th>\n",
              "      <th>details</th>\n",
              "      <th>v_name</th>\n",
              "      <th>rating_cat</th>\n",
              "    </tr>\n",
              "  </thead>\n",
              "  <tbody>\n",
              "    <tr>\n",
              "      <th>0</th>\n",
              "      <td>g45963-d1123368</td>\n",
              "      <td>NaN</td>\n",
              "      <td>Walnut Creek, California</td>\n",
              "      <td>0</td>\n",
              "      <td>NaN</td>\n",
              "      <td>NaN</td>\n",
              "      <td>2015-07-01</td>\n",
              "      <td>284818340</td>\n",
              "      <td>5</td>\n",
              "      <td>An excellent property! The rooms are very nice...</td>\n",
              "      <td>“At the top of its game”</td>\n",
              "      <td>6.0</td>\n",
              "      <td>2015.0</td>\n",
              "      <td>business</td>\n",
              "      <td>cadby</td>\n",
              "      <td>[4, 267]</td>\n",
              "      <td>9453.0</td>\n",
              "      <td>NaN</td>\n",
              "      <td>[-115.164505, 36.12825]</td>\n",
              "      <td>{}</td>\n",
              "      <td>Hotel_Review</td>\n",
              "      <td>{'Room types': 'Suites Non-Smoking Rooms ', 'S...</td>\n",
              "      <td>{'Address:': '3121 Las Vegas Blvd. South, Las ...</td>\n",
              "      <td>Encore At Wynn Las Vegas</td>\n",
              "      <td>4.5</td>\n",
              "    </tr>\n",
              "    <tr>\n",
              "      <th>1</th>\n",
              "      <td>g45963-d1123368</td>\n",
              "      <td>NaN</td>\n",
              "      <td>Maidstone, United Kingdom</td>\n",
              "      <td>0</td>\n",
              "      <td>NaN</td>\n",
              "      <td>NaN</td>\n",
              "      <td>2015-07-01</td>\n",
              "      <td>284776986</td>\n",
              "      <td>5</td>\n",
              "      <td>My first visit to Las Vegas and WOW!! Whilst a...</td>\n",
              "      <td>“ wow!! ”</td>\n",
              "      <td>9.0</td>\n",
              "      <td>2014.0</td>\n",
              "      <td>couple</td>\n",
              "      <td>Sonia H</td>\n",
              "      <td>[4, 267]</td>\n",
              "      <td>9453.0</td>\n",
              "      <td>NaN</td>\n",
              "      <td>[-115.164505, 36.12825]</td>\n",
              "      <td>{}</td>\n",
              "      <td>Hotel_Review</td>\n",
              "      <td>{'Room types': 'Suites Non-Smoking Rooms ', 'S...</td>\n",
              "      <td>{'Address:': '3121 Las Vegas Blvd. South, Las ...</td>\n",
              "      <td>Encore At Wynn Las Vegas</td>\n",
              "      <td>4.5</td>\n",
              "    </tr>\n",
              "    <tr>\n",
              "      <th>2</th>\n",
              "      <td>g45963-d1123368</td>\n",
              "      <td>NaN</td>\n",
              "      <td>Brussels</td>\n",
              "      <td>0</td>\n",
              "      <td>NaN</td>\n",
              "      <td>NaN</td>\n",
              "      <td>2015-06-30</td>\n",
              "      <td>284187374</td>\n",
              "      <td>5</td>\n",
              "      <td>Some of the most beautiful hotel rooms in the ...</td>\n",
              "      <td>“ Mass market but luxery hotel at north end of...</td>\n",
              "      <td>6.0</td>\n",
              "      <td>2015.0</td>\n",
              "      <td>couple</td>\n",
              "      <td>Globaliser</td>\n",
              "      <td>[4, 267]</td>\n",
              "      <td>9453.0</td>\n",
              "      <td>NaN</td>\n",
              "      <td>[-115.164505, 36.12825]</td>\n",
              "      <td>{}</td>\n",
              "      <td>Hotel_Review</td>\n",
              "      <td>{'Room types': 'Suites Non-Smoking Rooms ', 'S...</td>\n",
              "      <td>{'Address:': '3121 Las Vegas Blvd. South, Las ...</td>\n",
              "      <td>Encore At Wynn Las Vegas</td>\n",
              "      <td>4.5</td>\n",
              "    </tr>\n",
              "    <tr>\n",
              "      <th>3</th>\n",
              "      <td>g45963-d1123368</td>\n",
              "      <td>NaN</td>\n",
              "      <td>Colchester, United Kingdom</td>\n",
              "      <td>0</td>\n",
              "      <td>NaN</td>\n",
              "      <td>NaN</td>\n",
              "      <td>2015-06-13</td>\n",
              "      <td>279887884</td>\n",
              "      <td>5</td>\n",
              "      <td>This Hotel is exceptional, its beautifully set...</td>\n",
              "      <td>“ Highlight of Vegas ”</td>\n",
              "      <td>5.0</td>\n",
              "      <td>2015.0</td>\n",
              "      <td>couple</td>\n",
              "      <td>Sharcoates</td>\n",
              "      <td>[4, 267]</td>\n",
              "      <td>9453.0</td>\n",
              "      <td>NaN</td>\n",
              "      <td>[-115.164505, 36.12825]</td>\n",
              "      <td>{}</td>\n",
              "      <td>Hotel_Review</td>\n",
              "      <td>{'Room types': 'Suites Non-Smoking Rooms ', 'S...</td>\n",
              "      <td>{'Address:': '3121 Las Vegas Blvd. South, Las ...</td>\n",
              "      <td>Encore At Wynn Las Vegas</td>\n",
              "      <td>4.5</td>\n",
              "    </tr>\n",
              "    <tr>\n",
              "      <th>4</th>\n",
              "      <td>g45963-d1123368</td>\n",
              "      <td>NaN</td>\n",
              "      <td>Denver, Colorado, United States</td>\n",
              "      <td>0</td>\n",
              "      <td>NaN</td>\n",
              "      <td>NaN</td>\n",
              "      <td>2015-06-13</td>\n",
              "      <td>279841140</td>\n",
              "      <td>5</td>\n",
              "      <td>My husband and I stayed here during a trip,to ...</td>\n",
              "      <td>“ Beautiful hotel, great location ”</td>\n",
              "      <td>6.0</td>\n",
              "      <td>2015.0</td>\n",
              "      <td>couple</td>\n",
              "      <td>Kimberly A</td>\n",
              "      <td>[4, 267]</td>\n",
              "      <td>9453.0</td>\n",
              "      <td>NaN</td>\n",
              "      <td>[-115.164505, 36.12825]</td>\n",
              "      <td>{}</td>\n",
              "      <td>Hotel_Review</td>\n",
              "      <td>{'Room types': 'Suites Non-Smoking Rooms ', 'S...</td>\n",
              "      <td>{'Address:': '3121 Las Vegas Blvd. South, Las ...</td>\n",
              "      <td>Encore At Wynn Las Vegas</td>\n",
              "      <td>4.5</td>\n",
              "    </tr>\n",
              "  </tbody>\n",
              "</table>\n",
              "</div>"
            ],
            "text/plain": [
              "                gd  helpful_num  ...                    v_name  rating_cat\n",
              "0  g45963-d1123368          NaN  ...  Encore At Wynn Las Vegas         4.5\n",
              "1  g45963-d1123368          NaN  ...  Encore At Wynn Las Vegas         4.5\n",
              "2  g45963-d1123368          NaN  ...  Encore At Wynn Las Vegas         4.5\n",
              "3  g45963-d1123368          NaN  ...  Encore At Wynn Las Vegas         4.5\n",
              "4  g45963-d1123368          NaN  ...  Encore At Wynn Las Vegas         4.5\n",
              "\n",
              "[5 rows x 25 columns]"
            ]
          },
          "metadata": {},
          "execution_count": 54
        }
      ]
    },
    {
      "cell_type": "code",
      "metadata": {
        "id": "B7ZJC3lxvSHl",
        "colab": {
          "base_uri": "https://localhost:8080/"
        },
        "outputId": "1956b26f-2ad3-4c6e-e99f-3ddc7502792e"
      },
      "source": [
        "# check unique number of gd's (recall the .nunique() method for pandas data series)\n",
        "\n",
        "df.gd.nunique()"
      ],
      "execution_count": null,
      "outputs": [
        {
          "output_type": "execute_result",
          "data": {
            "text/plain": [
              "34"
            ]
          },
          "metadata": {},
          "execution_count": 55
        }
      ]
    },
    {
      "cell_type": "markdown",
      "metadata": {
        "id": "IiNDsi_yEqMw"
      },
      "source": [
        "**answer this**\n",
        "\n",
        "How many hotels are there? **34**"
      ]
    },
    {
      "cell_type": "code",
      "metadata": {
        "id": "REcdj0Vd7ycV",
        "colab": {
          "base_uri": "https://localhost:8080/"
        },
        "outputId": "7855a565-cd3b-48bc-bbbf-4d5fb816d61a"
      },
      "source": [
        "# print out the unique hotel names\n",
        "print(df.v_name.unique())"
      ],
      "execution_count": null,
      "outputs": [
        {
          "output_type": "stream",
          "name": "stdout",
          "text": [
            "['Encore At Wynn Las Vegas' 'New York - New York Hotel and Casino'\n",
            " \"Bally's Las Vegas\" 'Venetian Resort Hotel Casino'\n",
            " 'Rio All-Suite Hotel & Casino' 'Wynn Las Vegas'\n",
            " 'MGM Grand Hotel and Casino'\n",
            " 'Tropicana Las Vegas - A DoubleTree by Hilton Hotel'\n",
            " 'Excalibur Hotel & Casino' 'Monte Carlo Resort & Casino'\n",
            " 'The LINQ Hotel & Casino' 'Hard Rock Hotel and Casino' 'Paris Las Vegas'\n",
            " 'The Mirage Hotel & Casino' 'Trump International Hotel Las Vegas'\n",
            " 'Plaza Hotel & Casino' 'Caesars Palace' 'Luxor Las Vegas'\n",
            " 'Signature at MGM' 'Planet Hollywood Resort & Casino' 'Vdara Hotel & Spa'\n",
            " 'Golden Nugget Hotel' 'Treasure Island - TI Hotel & Casino'\n",
            " 'Stratosphere Hotel, Casino and Tower' 'Mandalay Bay Resort & Casino'\n",
            " 'The Cosmopolitan of Las Vegas, Autograph Collection'\n",
            " 'SLS Las Vegas Hotel & Casino' 'Bellagio Las Vegas'\n",
            " 'Circus Circus Hotel & Casino Las Vegas'\n",
            " 'Flamingo Las Vegas Hotel & Casino' 'Delano Las Vegas'\n",
            " \"Harrah's Las Vegas\" 'The Palazzo Resort Hotel Casino'\n",
            " 'ARIA Resort & Casino']\n"
          ]
        }
      ]
    },
    {
      "cell_type": "markdown",
      "metadata": {
        "id": "JcigV3skE3Ej"
      },
      "source": [
        "# Sentiment Analysis (3 points)"
      ]
    },
    {
      "cell_type": "markdown",
      "metadata": {
        "id": "PeQhtf_3FNsX"
      },
      "source": [
        "## Remove non-English reviews"
      ]
    },
    {
      "cell_type": "markdown",
      "metadata": {
        "id": "G3CYr25fFS_1"
      },
      "source": [
        "**Answer this question**\n",
        "\n",
        "How can we use \"stopwords\" to detect non-English reviews? Describe in some detail the idea of this method **in your own words**. Do not explain the technical details of the code, conceptually describe the overall steps.\n",
        "\n",
        "**Answer below**\n",
        "\n",
        "Give big picture overview (replace w/ your answer).\n",
        "\n",
        "1. step 1.. (replace w/ your answer)\n",
        "1. step 2...\n",
        "1. add more steps as needed\n",
        "\n"
      ]
    },
    {
      "cell_type": "code",
      "metadata": {
        "id": "4B-hvtAeu0XF",
        "colab": {
          "base_uri": "https://localhost:8080/"
        },
        "outputId": "77a4706a-33db-4059-af16-9e516f8844c6"
      },
      "source": [
        "# import stopwords\n",
        "import nltk\n",
        "nltk.download('stopwords') # download stopwords from NLTK servers\n",
        "from nltk.corpus import stopwords # import them\n",
        "sw = stopwords.words('english')"
      ],
      "execution_count": null,
      "outputs": [
        {
          "output_type": "stream",
          "name": "stdout",
          "text": [
            "[nltk_data] Downloading package stopwords to /root/nltk_data...\n",
            "[nltk_data]   Package stopwords is already up-to-date!\n"
          ]
        }
      ]
    },
    {
      "cell_type": "code",
      "metadata": {
        "id": "EYlcVDlPFENX",
        "colab": {
          "base_uri": "https://localhost:8080/"
        },
        "outputId": "9e01c904-fd9d-45c2-daf5-5a83e17a1c60"
      },
      "source": [
        "# print the stopwords\n",
        "print(sw)"
      ],
      "execution_count": null,
      "outputs": [
        {
          "output_type": "stream",
          "name": "stdout",
          "text": [
            "['i', 'me', 'my', 'myself', 'we', 'our', 'ours', 'ourselves', 'you', \"you're\", \"you've\", \"you'll\", \"you'd\", 'your', 'yours', 'yourself', 'yourselves', 'he', 'him', 'his', 'himself', 'she', \"she's\", 'her', 'hers', 'herself', 'it', \"it's\", 'its', 'itself', 'they', 'them', 'their', 'theirs', 'themselves', 'what', 'which', 'who', 'whom', 'this', 'that', \"that'll\", 'these', 'those', 'am', 'is', 'are', 'was', 'were', 'be', 'been', 'being', 'have', 'has', 'had', 'having', 'do', 'does', 'did', 'doing', 'a', 'an', 'the', 'and', 'but', 'if', 'or', 'because', 'as', 'until', 'while', 'of', 'at', 'by', 'for', 'with', 'about', 'against', 'between', 'into', 'through', 'during', 'before', 'after', 'above', 'below', 'to', 'from', 'up', 'down', 'in', 'out', 'on', 'off', 'over', 'under', 'again', 'further', 'then', 'once', 'here', 'there', 'when', 'where', 'why', 'how', 'all', 'any', 'both', 'each', 'few', 'more', 'most', 'other', 'some', 'such', 'no', 'nor', 'not', 'only', 'own', 'same', 'so', 'than', 'too', 'very', 's', 't', 'can', 'will', 'just', 'don', \"don't\", 'should', \"should've\", 'now', 'd', 'll', 'm', 'o', 're', 've', 'y', 'ain', 'aren', \"aren't\", 'couldn', \"couldn't\", 'didn', \"didn't\", 'doesn', \"doesn't\", 'hadn', \"hadn't\", 'hasn', \"hasn't\", 'haven', \"haven't\", 'isn', \"isn't\", 'ma', 'mightn', \"mightn't\", 'mustn', \"mustn't\", 'needn', \"needn't\", 'shan', \"shan't\", 'shouldn', \"shouldn't\", 'wasn', \"wasn't\", 'weren', \"weren't\", 'won', \"won't\", 'wouldn', \"wouldn't\"]\n"
          ]
        }
      ]
    },
    {
      "cell_type": "code",
      "metadata": {
        "id": "dXq82hMgvITg"
      },
      "source": [
        "# compute the number of stopwords in each review\n",
        "df['nstopwords'] = df.reviewtext.str.lower().str.split().apply(lambda x: len([w for w in x if w in sw]))"
      ],
      "execution_count": null,
      "outputs": []
    },
    {
      "cell_type": "markdown",
      "metadata": {
        "id": "qFPWV4jSJE3A"
      },
      "source": [
        "**Answer below questions in your own words**\n",
        "\n",
        "1. What does `.str.lower()` do? \n",
        "    1. **Converts all uppercase letters to lower**\n",
        "1. What does `str.split()` do?\n",
        "    1. **Divides a string into a list of substrings to be split into an array**\n",
        "1. What is the purpose of `apply(lambda x: ...)`?\n",
        "    1. **To compare any row or column using a one lined expression**\n",
        "1. What does `[w for w in x if w in sw]` do?\n",
        "    1. **To filter out specific words in NLPs**\n",
        "1. What does `len(...)` do?\n",
        "    1. **Tells you the number of characters in a text**"
      ]
    },
    {
      "cell_type": "code",
      "metadata": {
        "id": "zbkmm6Gyvii_"
      },
      "source": [
        "# compute total number of words in review\n",
        "df['textlen'] = df.reviewtext.str.split().map(len)\n",
        "# compute percentage of stopwords\n",
        "df['pct_stopwords'] = df.nstopwords/df.textlen"
      ],
      "execution_count": null,
      "outputs": []
    },
    {
      "cell_type": "code",
      "metadata": {
        "id": "n82oyQkAvqwx",
        "colab": {
          "base_uri": "https://localhost:8080/",
          "height": 282
        },
        "outputId": "bf2ca8e7-a6ce-46b6-8ff2-0a8b664239d5"
      },
      "source": [
        "# Plot the histgraom of stopwords\n",
        "df.pct_stopwords.hist() # distribution of stopwords"
      ],
      "execution_count": null,
      "outputs": [
        {
          "output_type": "execute_result",
          "data": {
            "text/plain": [
              "<matplotlib.axes._subplots.AxesSubplot at 0x7ff1c234d850>"
            ]
          },
          "metadata": {},
          "execution_count": 61
        },
        {
          "output_type": "display_data",
          "data": {
            "image/png": "[encoded data removed]",
            "text/plain": [
              "<Figure size 432x288 with 1 Axes>"
            ]
          },
          "metadata": {
            "needs_background": "light"
          }
        }
      ]
    },
    {
      "cell_type": "code",
      "metadata": {
        "id": "oniK4hsgvulL",
        "colab": {
          "base_uri": "https://localhost:8080/"
        },
        "outputId": "dc4aa8c2-dbeb-41bd-ff12-e43420f29795"
      },
      "source": [
        "# select reviews with 0 percent stopwords\n",
        "# use df.loc[condition, 'reviewtext'] with the appropriate condition\n",
        "df.loc[df.pct_stopwords==.0, 'reviewtext']"
      ],
      "execution_count": null,
      "outputs": [
        {
          "output_type": "execute_result",
          "data": {
            "text/plain": [
              "2018     Good service csdgh jhggrr hfdsew bczss hgdsssa...\n",
              "8014     良かったところ： 高級感あふれるホテル内装の装飾が素敵でした。 とにかく何でも高価なので、高...\n",
              "38546    good value, nice pool & seafood buffet...........\n",
              "42284    Great stay. !!!!!!!!!!!!Great stay. !!!!!!!!!!...\n",
              "Name: reviewtext, dtype: object"
            ]
          },
          "metadata": {},
          "execution_count": 62
        }
      ]
    },
    {
      "cell_type": "markdown",
      "metadata": {
        "id": "DxqY5mhsKXMg"
      },
      "source": [
        "**Answer this**\n",
        "There should only be 1 non-English review above. What is its index number?\n",
        "\n",
        "1. **8014**"
      ]
    },
    {
      "cell_type": "code",
      "metadata": {
        "id": "I__OMSwvKjBV"
      },
      "source": [
        "# remove the non-english review\n",
        "# use df = df.loc[df.index != the non-english review index].reset_index()\n",
        "\n",
        "df = df.loc[df.index!= 'the non-english review index'].reset_index() # fill this in"
      ],
      "execution_count": null,
      "outputs": []
    },
    {
      "cell_type": "code",
      "metadata": {
        "id": "2TII4zujwhZr"
      },
      "source": [
        "# compute the polarity and subjectiity using the TextBlob library for every review\n",
        "# create 2 new columns for these values: 'polarity' and 'subjectivity'\n",
        "\n",
        "df['polarity'] = df['reviewtext'].apply(lambda x: TextBlob(x).sentiment.polarity) # calculate polarity and subjectivity in one shot\n",
        "df['subjectivity'] = df['reviewtext'].apply(lambda x: TextBlob(x).sentiment.subjectivity) # calculate polarity and subjectivity in one shot\n",
        "\n",
        "# this may take a few minutes to run"
      ],
      "execution_count": null,
      "outputs": []
    },
    {
      "cell_type": "code",
      "metadata": {
        "id": "pCp9yQnnxMji",
        "colab": {
          "base_uri": "https://localhost:8080/",
          "height": 143
        },
        "outputId": "8507a9fc-adc4-40d3-b92d-257ef6b6b52f"
      },
      "source": [
        "# compute the correlation matrix betwee reviewrating, polarity, and subjectivity\n",
        "df[['reviewrating', 'polarity', 'subjectivity']].corr()"
      ],
      "execution_count": null,
      "outputs": [
        {
          "output_type": "execute_result",
          "data": {
            "text/html": [
              "<div>\n",
              "<style scoped>\n",
              "    .dataframe tbody tr th:only-of-type {\n",
              "        vertical-align: middle;\n",
              "    }\n",
              "\n",
              "    .dataframe tbody tr th {\n",
              "        vertical-align: top;\n",
              "    }\n",
              "\n",
              "    .dataframe thead th {\n",
              "        text-align: right;\n",
              "    }\n",
              "</style>\n",
              "<table border=\"1\" class=\"dataframe\">\n",
              "  <thead>\n",
              "    <tr style=\"text-align: right;\">\n",
              "      <th></th>\n",
              "      <th>reviewrating</th>\n",
              "      <th>polarity</th>\n",
              "      <th>subjectivity</th>\n",
              "    </tr>\n",
              "  </thead>\n",
              "  <tbody>\n",
              "    <tr>\n",
              "      <th>reviewrating</th>\n",
              "      <td>1.000000</td>\n",
              "      <td>0.591409</td>\n",
              "      <td>0.237555</td>\n",
              "    </tr>\n",
              "    <tr>\n",
              "      <th>polarity</th>\n",
              "      <td>0.591409</td>\n",
              "      <td>1.000000</td>\n",
              "      <td>0.440563</td>\n",
              "    </tr>\n",
              "    <tr>\n",
              "      <th>subjectivity</th>\n",
              "      <td>0.237555</td>\n",
              "      <td>0.440563</td>\n",
              "      <td>1.000000</td>\n",
              "    </tr>\n",
              "  </tbody>\n",
              "</table>\n",
              "</div>"
            ],
            "text/plain": [
              "              reviewrating  polarity  subjectivity\n",
              "reviewrating      1.000000  0.591409      0.237555\n",
              "polarity          0.591409  1.000000      0.440563\n",
              "subjectivity      0.237555  0.440563      1.000000"
            ]
          },
          "metadata": {},
          "execution_count": 66
        }
      ]
    },
    {
      "cell_type": "markdown",
      "metadata": {
        "id": "P_UF2gMIMIbT"
      },
      "source": [
        "**Answer this**\n",
        "What does the correlation between review rating and subjectivity tell you about the information contained in the review text vs. the rating? Is review rating an adequate summary statistic about the review text's polarity?\n",
        "\n",
        "1. **The correlation shows us that it is super subjective, and extremely non-polar**\n",
        "\n",
        "What about the correlation between polarity and subjectivity, what can you conclude about reviewers' emotionality (subjectivity) as a function of polarity? (Review what correlation measures and then apply that logic to these 2 sentiment variables) \n",
        "\n",
        "1. **Answer here**"
      ]
    },
    {
      "cell_type": "code",
      "metadata": {
        "id": "3GfR6gb-x0qW",
        "colab": {
          "base_uri": "https://localhost:8080/",
          "height": 282
        },
        "outputId": "198c5c8a-a3e9-4616-de98-f95691b6ed76"
      },
      "source": [
        "# plot the histogram of review rating\n",
        "df.reviewrating.hist()"
      ],
      "execution_count": null,
      "outputs": [
        {
          "output_type": "execute_result",
          "data": {
            "text/plain": [
              "<matplotlib.axes._subplots.AxesSubplot at 0x7ff1bda09090>"
            ]
          },
          "metadata": {},
          "execution_count": 67
        },
        {
          "output_type": "display_data",
          "data": {
            "image/png": "[encoded data removed]",
            "text/plain": [
              "<Figure size 432x288 with 1 Axes>"
            ]
          },
          "metadata": {
            "needs_background": "light"
          }
        }
      ]
    },
    {
      "cell_type": "code",
      "metadata": {
        "id": "mYgsvYyyySat",
        "colab": {
          "base_uri": "https://localhost:8080/",
          "height": 285
        },
        "outputId": "bba4a5d0-5088-45e3-ee12-1b1ca38699b3"
      },
      "source": [
        "# plot the histogram of polarity\n",
        "df.polarity.hist()"
      ],
      "execution_count": null,
      "outputs": [
        {
          "output_type": "execute_result",
          "data": {
            "text/plain": [
              "<matplotlib.axes._subplots.AxesSubplot at 0x7ff1bf063050>"
            ]
          },
          "metadata": {},
          "execution_count": 68
        },
        {
          "output_type": "display_data",
          "data": {
            "image/png": "[encoded data removed]",
            "text/plain": [
              "<Figure size 432x288 with 1 Axes>"
            ]
          },
          "metadata": {
            "needs_background": "light"
          }
        }
      ]
    },
    {
      "cell_type": "code",
      "metadata": {
        "id": "sbh_m_lTMA4E",
        "colab": {
          "base_uri": "https://localhost:8080/",
          "height": 282
        },
        "outputId": "c4a44009-5d1d-41cb-8e17-1f4175395694"
      },
      "source": [
        "# plot the histogram of subjectivity\n",
        "df.subjectivity.hist()"
      ],
      "execution_count": null,
      "outputs": [
        {
          "output_type": "execute_result",
          "data": {
            "text/plain": [
              "<matplotlib.axes._subplots.AxesSubplot at 0x7ff1bd05e750>"
            ]
          },
          "metadata": {},
          "execution_count": 69
        },
        {
          "output_type": "display_data",
          "data": {
            "image/png": "[encoded data removed]",
            "text/plain": [
              "<Figure size 432x288 with 1 Axes>"
            ]
          },
          "metadata": {
            "needs_background": "light"
          }
        }
      ]
    },
    {
      "cell_type": "markdown",
      "metadata": {
        "id": "C8GYA4coM5lF"
      },
      "source": [
        "**Answer this**\n",
        "1. Are most reviews positive or negative?\n",
        "    1. **Positive**\n",
        "1. Are most reviews subjective or objective? (subjective >.5)\n",
        "    1. **Subjective**"
      ]
    },
    {
      "cell_type": "code",
      "metadata": {
        "id": "fCpET2bsyT3p",
        "colab": {
          "base_uri": "https://localhost:8080/",
          "height": 292
        },
        "outputId": "1d585be4-844b-448a-d29d-df56120a0037"
      },
      "source": [
        "# compute the average polarity and review rating by travel_category\n",
        "# use a groupby statement \n",
        "df.groupby('travel_category')['polarity', 'reviewrating'].mean().sort_values(by = 'polarity')"
      ],
      "execution_count": null,
      "outputs": [
        {
          "output_type": "stream",
          "name": "stderr",
          "text": [
            "/usr/local/lib/python3.7/dist-packages/ipykernel_launcher.py:3: FutureWarning: Indexing with multiple keys (implicitly converted to a tuple of keys) will be deprecated, use a list instead.\n",
            "  This is separate from the ipykernel package so we can avoid doing imports until\n"
          ]
        },
        {
          "output_type": "execute_result",
          "data": {
            "text/html": [
              "<div>\n",
              "<style scoped>\n",
              "    .dataframe tbody tr th:only-of-type {\n",
              "        vertical-align: middle;\n",
              "    }\n",
              "\n",
              "    .dataframe tbody tr th {\n",
              "        vertical-align: top;\n",
              "    }\n",
              "\n",
              "    .dataframe thead th {\n",
              "        text-align: right;\n",
              "    }\n",
              "</style>\n",
              "<table border=\"1\" class=\"dataframe\">\n",
              "  <thead>\n",
              "    <tr style=\"text-align: right;\">\n",
              "      <th></th>\n",
              "      <th>polarity</th>\n",
              "      <th>reviewrating</th>\n",
              "    </tr>\n",
              "    <tr>\n",
              "      <th>travel_category</th>\n",
              "      <th></th>\n",
              "      <th></th>\n",
              "    </tr>\n",
              "  </thead>\n",
              "  <tbody>\n",
              "    <tr>\n",
              "      <th>business</th>\n",
              "      <td>0.262430</td>\n",
              "      <td>3.900085</td>\n",
              "    </tr>\n",
              "    <tr>\n",
              "      <th>solo</th>\n",
              "      <td>0.279972</td>\n",
              "      <td>4.080357</td>\n",
              "    </tr>\n",
              "    <tr>\n",
              "      <th>friends</th>\n",
              "      <td>0.282550</td>\n",
              "      <td>3.988150</td>\n",
              "    </tr>\n",
              "    <tr>\n",
              "      <th>family</th>\n",
              "      <td>0.285446</td>\n",
              "      <td>4.054167</td>\n",
              "    </tr>\n",
              "    <tr>\n",
              "      <th>couple</th>\n",
              "      <td>0.286445</td>\n",
              "      <td>4.119497</td>\n",
              "    </tr>\n",
              "  </tbody>\n",
              "</table>\n",
              "</div>"
            ],
            "text/plain": [
              "                 polarity  reviewrating\n",
              "travel_category                        \n",
              "business         0.262430      3.900085\n",
              "solo             0.279972      4.080357\n",
              "friends          0.282550      3.988150\n",
              "family           0.285446      4.054167\n",
              "couple           0.286445      4.119497"
            ]
          },
          "metadata": {},
          "execution_count": 70
        }
      ]
    },
    {
      "cell_type": "markdown",
      "metadata": {
        "id": "lIOxge4lNYAP"
      },
      "source": [
        "**Answer this**\n",
        "\n",
        "Are the ranks of categories by review rating the same as the ranks by polarity? If not, posit some potential explanations.\n",
        "\n",
        "**Answer here**"
      ]
    },
    {
      "cell_type": "markdown",
      "metadata": {
        "id": "7vlDqmfWN6Ow"
      },
      "source": [
        "# Preprocessing for topic analysis (1)\n",
        "\n",
        "Before we can do topic analysis, we need to pre-process the texts.\n",
        "\n",
        "1. Lemmatization\n",
        "1. Phrase detection\n",
        "\n",
        "These steps may take some time.\n"
      ]
    },
    {
      "cell_type": "markdown",
      "metadata": {
        "id": "eZ7KVireN87X"
      },
      "source": [
        "## Lemmatization"
      ]
    },
    {
      "cell_type": "markdown",
      "metadata": {
        "id": "sDntp8gbN896"
      },
      "source": [
        "**Answer this** \n",
        "\n",
        "1. What is the purpose of lemmatization? \n",
        "    1. **Allows us to better figure what stopwords to choose to get the best results**\n",
        "1. How does lemmatization help simplify the topic modeling problem? \n",
        "    1. **Using the NLTK function to help deter stopwords**\n",
        "1. Give at least 3 examples of how some words may be lemmatized.\n",
        "    1. **May not be english or legible**\n",
        "    1. **Has many conjugates**\n",
        "    1. **Punctuations**"
      ]
    },
    {
      "cell_type": "code",
      "metadata": {
        "id": "pFz-jasROUS7"
      },
      "source": [
        "# Create an nlp subfolder if it doesn't yet exist\n",
        "# call this subfolder nlppath\n",
        "nlppath = fpath + 'nlppath/'\n",
        "try:\n",
        "    os.listdir(nlppath)\n",
        "except:\n",
        "    os.mkdir(nlppath)"
      ],
      "execution_count": null,
      "outputs": []
    },
    {
      "cell_type": "code",
      "metadata": {
        "id": "GJq5Kx_wQBHT"
      },
      "source": [
        "# remove any return or new line characters from the review texts\n",
        "# replace reviewtext column with the cleaned up review texts\n",
        "df['reviewtext'] = df.reviewtext.str.replace('\\r', '').str.replace('\\n', '')"
      ],
      "execution_count": null,
      "outputs": []
    },
    {
      "cell_type": "code",
      "metadata": {
        "id": "oXeWyiWxOUVL"
      },
      "source": [
        "# create a list of review texts from column of review texts\n",
        "texts = list(df.reviewtext)\n",
        "\n",
        "# write the raw texts to disk where 1 row = 1 review\n",
        "with open(nlppath + 'rawtexts.txt', 'w', encoding = 'utf-8') as f:\n",
        "    f.write('\\n'.join(texts))"
      ],
      "execution_count": null,
      "outputs": []
    },
    {
      "cell_type": "code",
      "metadata": {
        "id": "7S2oYsOPRi0o"
      },
      "source": [
        "# import stopwords again\n",
        "sw = stopwords.words('english')\n"
      ],
      "execution_count": null,
      "outputs": []
    },
    {
      "cell_type": "code",
      "metadata": {
        "id": "3HJAVD20RXhx"
      },
      "source": [
        "# use the spacy library, create the variable nlp which is the english language model\n",
        "# i.e. nlp = spacy.load(...)\n",
        "nlp = spacy.load('en_core_web_sm')"
      ],
      "execution_count": null,
      "outputs": []
    },
    {
      "cell_type": "code",
      "metadata": {
        "id": "gx3TThO5OUXv",
        "colab": {
          "base_uri": "https://localhost:8080/"
        },
        "outputId": "0e60956e-ded4-4771-a7c6-4167e7277bb6"
      },
      "source": [
        "# use the write_parsed_sentence_corpus function to lemmatize the reviews\n",
        "# do not stop this cell, if you do, you must reload the nlp function in previous cell before executing again\n",
        "\n",
        "readfile = nlppath + 'rawtexts.txt' # use the location of the raw review texts\n",
        "writefile = nlppath + 'review_sentences.txt' # specify a location for the lemmatized review sentences\n",
        "\n",
        "t0 = time.time() # time your code\n",
        "write_parsed_sentence_corpus(readfile, writefile, nlp, batch_size = 1000, n_threads = 1, sw=sw, exclusions = ['-PRON-'], encode = 'utf-8')\n",
        "td = (time.time()-t0)/60"
      ],
      "execution_count": null,
      "outputs": [
        {
          "output_type": "stream",
          "name": "stdout",
          "text": [
            "Success\n"
          ]
        }
      ]
    },
    {
      "cell_type": "code",
      "metadata": {
        "id": "BnxzkIzgP5Ei",
        "colab": {
          "base_uri": "https://localhost:8080/"
        },
        "outputId": "8a71598c-85b9-4188-e623-6551b07d0597"
      },
      "source": [
        "# print out how long it took to run\n",
        "print('Took {:.2f} minutes'.format(td)) "
      ],
      "execution_count": null,
      "outputs": [
        {
          "output_type": "stream",
          "name": "stdout",
          "text": [
            "Took 6.87 minutes\n"
          ]
        }
      ]
    },
    {
      "cell_type": "markdown",
      "metadata": {
        "id": "tgM-pwyk8GS-"
      },
      "source": [
        "**Answer these**\n",
        "1. Explain the logic behind how phrase detection (aka phrase modeling) works.\n",
        "    1. **It serves as a funnel or a filter which are comprised of words that will trickle them into different subtopics** \n",
        "1. If phrase modeling is run twice, what is the maximum length of a detected phrase?\n",
        "    1. **13 minutes and 44 seconds**"
      ]
    },
    {
      "cell_type": "code",
      "metadata": {
        "id": "mvc1E-DgP5HF",
        "colab": {
          "base_uri": "https://localhost:8080/"
        },
        "outputId": "32aad95d-de87-4978-f2e2-891c8b197f0c"
      },
      "source": [
        "# run phrase detection\n",
        "t0 = time.time() # time your code\n",
        "# ngrams = phrase_detection(....)\n",
        "ngrams = phrase_detection(nlppath + 'review_sentences.txt', nlppath)  # runs 2 iterations by default\n",
        "td = (time.time()-t0)/60 #calculate time difference"
      ],
      "execution_count": null,
      "outputs": [
        {
          "output_type": "stream",
          "name": "stderr",
          "text": [
            "/usr/local/lib/python3.7/dist-packages/gensim/models/phrases.py:598: UserWarning: For a faster implementation, use the gensim.models.phrases.Phraser class\n",
            "  warnings.warn(\"For a faster implementation, use the gensim.models.phrases.Phraser class\")\n"
          ]
        }
      ]
    },
    {
      "cell_type": "code",
      "metadata": {
        "id": "C7THUz0CP5MG",
        "colab": {
          "base_uri": "https://localhost:8080/"
        },
        "outputId": "e2f92ca9-1deb-4f45-950f-6f12e2909771"
      },
      "source": [
        "print('Took {:.2f} minutes'.format(td))"
      ],
      "execution_count": null,
      "outputs": [
        {
          "output_type": "stream",
          "name": "stdout",
          "text": [
            "Took 0.78 minutes\n"
          ]
        }
      ]
    },
    {
      "cell_type": "code",
      "metadata": {
        "id": "ha7cBhF0l7ve",
        "colab": {
          "base_uri": "https://localhost:8080/"
        },
        "outputId": "bb6e4b4f-a4c1-4769-8137-42f49d50e0f7"
      },
      "source": [
        "# list the nlppath directory\n",
        "os.listdir(nlppath)"
      ],
      "execution_count": null,
      "outputs": [
        {
          "output_type": "execute_result",
          "data": {
            "text/plain": [
              "['rawtexts.txt',\n",
              " 'review_sentences.txt',\n",
              " 'phrase_model_1.phrasemodel',\n",
              " 'sent_gram_1.txt',\n",
              " 'phrase_model_2.phrasemodel',\n",
              " 'sent_gram_2.txt']"
            ]
          },
          "metadata": {},
          "execution_count": 93
        }
      ]
    },
    {
      "cell_type": "code",
      "metadata": {
        "id": "al1G0LBTv82F"
      },
      "source": [
        "# use line_doc to preview a few sentences from sent_gram_2\n",
        "# construct line generator here, call it \"lines\":\n",
        "lines = line_doc(nlppath + 'sent_gram_2.txt')"
      ],
      "execution_count": null,
      "outputs": []
    },
    {
      "cell_type": "code",
      "metadata": {
        "id": "MkzfD8XgwGmJ",
        "colab": {
          "base_uri": "https://localhost:8080/",
          "height": 35
        },
        "outputId": "67ad702a-6bba-4c6b-a84c-42778be098c4"
      },
      "source": [
        "# preview sentences here, run this cell a few times, make sure you see some phrases\n",
        "# phrases are denoted by \"_\" combining 2 words\n",
        "next(lines) "
      ],
      "execution_count": null,
      "outputs": [
        {
          "output_type": "execute_result",
          "data": {
            "application/vnd.google.colaboratory.intrinsic+json": {
              "type": "string"
            },
            "text/plain": [
              "'excellent property\\n'"
            ]
          },
          "metadata": {},
          "execution_count": 95
        }
      ]
    },
    {
      "cell_type": "code",
      "metadata": {
        "id": "iXwseVWKwbrJ",
        "colab": {
          "base_uri": "https://localhost:8080/"
        },
        "outputId": "cbf59e92-1412-4b74-bdab-76af2e2ebcb3"
      },
      "source": [
        "# use phrase_prediction function to produce a file that is lemmatized and phrased and 1 line = 1 **review**\n",
        "# each review will be lemmatized and phrase-detected\n",
        "nlp = spacy.load('en_core_web_sm')\n",
        "\n",
        "t0 = time.time()\n",
        "phrase_prediction(nlppath + 'rawtexts.txt', nlppath + 'parsed_reviews.txt',nlp, ngrams, sw = sw, exclusions = ['-PRON-'], batch_size = 500, n_threads = 2, encode = 'utf-8')\n",
        "td = (time.time()-t0)/60 #calculate time difference"
      ],
      "execution_count": null,
      "outputs": [
        {
          "output_type": "stream",
          "name": "stderr",
          "text": [
            "/usr/local/lib/python3.7/dist-packages/gensim/models/phrases.py:598: UserWarning: For a faster implementation, use the gensim.models.phrases.Phraser class\n",
            "  warnings.warn(\"For a faster implementation, use the gensim.models.phrases.Phraser class\")\n"
          ]
        }
      ]
    },
    {
      "cell_type": "code",
      "metadata": {
        "id": "JKM4UVHKy7YC",
        "colab": {
          "base_uri": "https://localhost:8080/"
        },
        "outputId": "89971fd0-d638-403d-e45c-c9805b9df677"
      },
      "source": [
        "print('Took {:.2f} minutes'.format(td))"
      ],
      "execution_count": null,
      "outputs": [
        {
          "output_type": "stream",
          "name": "stdout",
          "text": [
            "Took 7.50 minutes\n"
          ]
        }
      ]
    },
    {
      "cell_type": "code",
      "metadata": {
        "id": "DNBQvgvMzTwG"
      },
      "source": [
        "# let's take a look at what we did\n",
        "# construct line generator here, call it \"lines\", to preview the output of the \n",
        "# phrase prediction step\n",
        "\n",
        "lines = line_doc(nlppath + 'parsed_reviews.txt')  # fill this in here"
      ],
      "execution_count": null,
      "outputs": []
    },
    {
      "cell_type": "code",
      "metadata": {
        "id": "B9US4fGqzTyi",
        "colab": {
          "base_uri": "https://localhost:8080/",
          "height": 53
        },
        "outputId": "c4f01993-92ff-4fc6-fca2-9ea4102b8acc"
      },
      "source": [
        "# look at a few reviews\n",
        "next(lines)"
      ],
      "execution_count": null,
      "outputs": [
        {
          "output_type": "execute_result",
          "data": {
            "application/vnd.google.colaboratory.intrinsic+json": {
              "type": "string"
            },
            "text/plain": [
              "'excellent property room nicely generous_size service top_notch art throughout property stunning everyone sight helpful_friendly stay several high_end property vegas nice experience price fair always depend time visit highly_recommend\\n'"
            ]
          },
          "metadata": {},
          "execution_count": 131
        }
      ]
    },
    {
      "cell_type": "code",
      "metadata": {
        "id": "bGMod-hd194f"
      },
      "source": [
        "# read in reviews file as list of reviews\n",
        "with open(nlppath + 'parsed_reviews.txt', 'r', encoding = 'utf-8') as f:\n",
        "    reviews = f.readlines()"
      ],
      "execution_count": null,
      "outputs": []
    },
    {
      "cell_type": "code",
      "metadata": {
        "id": "ioGk6u-72DOl",
        "colab": {
          "base_uri": "https://localhost:8080/"
        },
        "outputId": "8f1e9f1f-4b85-41d8-e7a9-16d26e13ddec"
      },
      "source": [
        "# make sure list of parsed reviews is the same length as the dataframe\n",
        "len(reviews), len(df)"
      ],
      "execution_count": null,
      "outputs": [
        {
          "output_type": "execute_result",
          "data": {
            "text/plain": [
              "(46644, 46644)"
            ]
          },
          "metadata": {},
          "execution_count": 133
        }
      ]
    },
    {
      "cell_type": "code",
      "metadata": {
        "id": "ONNKvay-2Jsl"
      },
      "source": [
        "# set column, parsed, to equal list of parsed reviews\n",
        "df['parsed'] = reviews"
      ],
      "execution_count": null,
      "outputs": []
    },
    {
      "cell_type": "code",
      "metadata": {
        "id": "wIGRY8u32PT3"
      },
      "source": [
        "# Save the dataframe\n",
        "if 1==1:\n",
        "    df.to_csv(nlppath + 'TripAdvisor_parsed.csv', encoding = 'utf-8')\n",
        "else:\n",
        "    df = pd.read_csv(nlppath + 'TripAdvisor_parsed.csv', index_col = 0, encoding = 'utf-8')"
      ],
      "execution_count": null,
      "outputs": []
    },
    {
      "cell_type": "markdown",
      "metadata": {
        "id": "7-yHBurtzT1R"
      },
      "source": [
        "# TFIDF Model (3 points)"
      ]
    },
    {
      "cell_type": "markdown",
      "metadata": {
        "id": "iqJTccg83E3x"
      },
      "source": [
        "**Answer these**\n",
        "1. What does TF-IDF stand for? \n",
        "    1. **Team Frequency Inverse Document Frequency**\n",
        "1. What are the 2 fundamental ways of counting word frequencies that is embedded into the logic of TF-IDF? In your own words, what is the logical relationship between each type of word frequency and the word's importance in representing a document.\n",
        "    1. **Subjectivity**\n",
        "        1. **Prevent bias**\n",
        "    1. **Calculate each firms IDF**\n",
        "        1. **giving each word frequency with a number**"
      ]
    },
    {
      "cell_type": "markdown",
      "metadata": {
        "id": "4TDs8ME81338"
      },
      "source": [
        "## Construct dictionary and corpus"
      ]
    },
    {
      "cell_type": "code",
      "metadata": {
        "id": "xGSAvnK-136y",
        "colab": {
          "base_uri": "https://localhost:8080/"
        },
        "outputId": "57db6aec-e494-4fa4-8030-33b5d84e8903"
      },
      "source": [
        "# list of documents as list of words where 1 document = all reviews for a business\n",
        "reviews = list(df.parsed.str.split()) # construct list of list of words (outer list is per review)\n",
        "\n",
        "# compute dictionary\n",
        "dictionary = corpora.Dictionary(reviews)\n",
        "\n",
        "# look at number of words in vocabulary\n",
        "print(len(dictionary))"
      ],
      "execution_count": null,
      "outputs": [
        {
          "output_type": "stream",
          "name": "stdout",
          "text": [
            "45544\n"
          ]
        }
      ]
    },
    {
      "cell_type": "markdown",
      "metadata": {
        "id": "yfoPujBq6YLd"
      },
      "source": [
        "**Answer these**\n",
        "\n",
        "1. Why might you want to filter out words that appear in too few documents?\n",
        "    1. **Answer this**\n",
        "1. Why might you want to filter out words that appear in too many documents?\n",
        "    1. **Answer this**\n"
      ]
    },
    {
      "cell_type": "code",
      "metadata": {
        "id": "IZG3bDY214BS",
        "colab": {
          "base_uri": "https://localhost:8080/"
        },
        "outputId": "dde8dc71-844c-4952-d6d8-f1e1b77b7539"
      },
      "source": [
        "# filter out too frequent or too infrequent words\n",
        "dictionary.filter_extremes(no_below=10, no_above=.10)\n",
        "# no_below is the lower qualifying limit of documents in which a word appears\n",
        "# no_above is the upper qualifying proportional limit in which a word appears\n",
        "print(len(dictionary))\n"
      ],
      "execution_count": null,
      "outputs": [
        {
          "output_type": "stream",
          "name": "stdout",
          "text": [
            "11403\n"
          ]
        }
      ]
    },
    {
      "cell_type": "code",
      "metadata": {
        "id": "mkmP3fri7FvH"
      },
      "source": [
        "# construct a corpus which is like list of bag of words\n",
        "# where each bag of words is a dictionary of word ID's mapped to word count in document\n",
        "corpus = [dictionary.doc2bow(r) for r in reviews]"
      ],
      "execution_count": null,
      "outputs": []
    },
    {
      "cell_type": "markdown",
      "metadata": {
        "id": "hFeARNh67Wkc"
      },
      "source": [
        "## Create the TF-IDF model, look at keywords for a few reviews"
      ]
    },
    {
      "cell_type": "code",
      "metadata": {
        "id": "58rvnaRs7Y9Z"
      },
      "source": [
        "tfidf = tfidfmodel.TfidfModel(corpus, dictionary = dictionary) # compute the tfidf model"
      ],
      "execution_count": null,
      "outputs": []
    },
    {
      "cell_type": "code",
      "metadata": {
        "id": "GThx0G177_s7"
      },
      "source": [
        "def tfidf_keywords(txt, tfidf, dictionary, topn = 5):\n",
        "    \"\"\"\n",
        "    Takes in a parsed string, txt\n",
        "    a tfidf mode, tfidf\n",
        "    a gensim dictionary, dictionary,\n",
        "    and parameter topn that defines the number of top keywords to return\n",
        "    outputs topk, a list of tuples (keyword, keyword tfidf score)\n",
        "    \"\"\"\n",
        "    topk = sorted([(dictionary[t],f) for t,f in tfidf[dictionary.doc2bow(txt)]], key=lambda x: -x[-1])[:topn]\n",
        "    return topk"
      ],
      "execution_count": null,
      "outputs": []
    },
    {
      "cell_type": "code",
      "metadata": {
        "id": "2SEdbnWu9ILA"
      },
      "source": [
        "# create column of top5 words\n",
        "df['top5_tfidf'] = df.parsed.str.split().apply(lambda x: tfidf_keywords(x, tfidf, dictionary, topn = 5))"
      ],
      "execution_count": null,
      "outputs": []
    },
    {
      "cell_type": "code",
      "metadata": {
        "id": "S68vfGBz-uB5",
        "colab": {
          "base_uri": "https://localhost:8080/"
        },
        "outputId": "cceb223a-afee-41d9-bc7c-4f3c91e22675"
      },
      "source": [
        "# randomly sample a review (run a few times)\n",
        "r = df.sample(1) # sample a single row, r\n",
        "txt = r.reviewtext.iloc[0] # extract review text\n",
        "rating = r.reviewrating.iloc[0]\n",
        "hotel = r.v_name.iloc[0]\n",
        "keywords = r.top5_tfidf.iloc[0] # extract TFIDF keywords \n",
        "print('{} star review'.format(rating), hotel)\n",
        "print(txt)\n",
        "print(keywords)"
      ],
      "execution_count": null,
      "outputs": [
        {
          "output_type": "stream",
          "name": "stdout",
          "text": [
            "4 star review Plaza Hotel & Casino\n",
            "We stayed over the Christmas period. By & large it was as good as it normally is. We stay at least twice a year & always for 2 weeks. We do gamble. it's why we visit Vegas. This visit, there were changes to the comps system, which took some adjustment but in the end we were content. The new VP has made many changes which, to their credit, the ever helpful, efficient hosts manfully coped with. As usual the cocktail ladies & the cage folk were excellent as were the rest of the staff. The room was as nice as usual & the room service ladies were good. We were however at a loss as to why the Plaza seemed to be encouraging whole, sometimes large families to occupy one room. There were kids sleeping on the sofas & the floors. One group was even cooking in their room! None of these families appeared to be gambling or using the restaurants.  Their children did run around the casino & up & down the room corridors though, which is not good! We don't go to Vegas to listen to children playing.  We have spent Christmas at the Plaza before & never encountered this situation before, its how I imagine Disneyland.\n",
            "[('christmas', 0.2617036020501526), ('plaza', 0.23068279812954431), ('usual', 0.22535765118132642), ('child', 0.21613596218389658), ('lady', 0.1898745466651922)]\n"
          ]
        }
      ]
    },
    {
      "cell_type": "markdown",
      "metadata": {
        "id": "ngDFbxIIAuLE"
      },
      "source": [
        "**Answer this**\n",
        "\n",
        "Try to sample a few reviews and their respective keywords, did they make sense? Explain.\n",
        "\n",
        "1. **Answer here**"
      ]
    },
    {
      "cell_type": "markdown",
      "metadata": {
        "id": "5Dzl3ZmeCOQ5"
      },
      "source": [
        "# Run LDA Model, explore topics (4 points)"
      ]
    },
    {
      "cell_type": "markdown",
      "metadata": {
        "id": "AqwinYyhCfOe"
      },
      "source": [
        "**Answer this**\n",
        "\n",
        "In your own words, 1) describe LDA model 2) what advantages does it have over TF-IDF?\n",
        "\n",
        "1. **Describe**\n",
        "2. **Advantages**"
      ]
    },
    {
      "cell_type": "code",
      "metadata": {
        "id": "FRB9ZBgQCe23",
        "colab": {
          "base_uri": "https://localhost:8080/"
        },
        "outputId": "45f78a09-a868-42c1-c43e-e48631c2c158"
      },
      "source": [
        "from gensim.models.ldamulticore import LdaMulticore # import lda function\n",
        "run = True\n",
        "if run:\n",
        "    t0 = time.time()\n",
        "    perplexity = list()\n",
        "    # define a training and testing set\n",
        "    corpus_train, corpus_test = train_test_split(corpus, test_size = .05)\n",
        "    for numtopics in range(20, 201, 20): # loop through 20,40,...200 topics\n",
        "        lda = LdaMulticore(corpus_train, id2word=dictionary, num_topics=numtopics)\n",
        "        lda.save(nlppath+'lda{}.lda'.format(numtopics)) # save the model so we can load it up again later w/o running the model\n",
        "        p = lda.log_perplexity(corpus_test) # compute the perplexity on testing set\n",
        "        # save numtopics,p to the perplexity list \n",
        "        perplexity.append([numtopics, p])\n",
        "        # print out number of topics\n",
        "        print(numtopics)\n",
        "    perplexity = pd.DataFrame(perplexity, columns = ['ntopics', 'perplexity'])\n",
        "    td = time.time()-t0\n",
        "    print('Took {:.2f} minutes'.format(td/60))"
      ],
      "execution_count": null,
      "outputs": [
        {
          "output_type": "stream",
          "name": "stdout",
          "text": [
            "20\n",
            "40\n",
            "60\n",
            "80\n"
          ]
        },
        {
          "output_type": "stream",
          "name": "stderr",
          "text": [
            "/usr/local/lib/python3.7/dist-packages/gensim/models/ldamodel.py:1023: RuntimeWarning: divide by zero encountered in log\n",
            "  diff = np.log(self.expElogbeta)\n"
          ]
        },
        {
          "output_type": "stream",
          "name": "stdout",
          "text": [
            "100\n",
            "120\n",
            "140\n",
            "160\n",
            "180\n",
            "200\n",
            "Took 17.61 minutes\n"
          ]
        }
      ]
    },
    {
      "cell_type": "code",
      "metadata": {
        "id": "AU4U0_oNUUUC",
        "colab": {
          "base_uri": "https://localhost:8080/",
          "height": 265
        },
        "outputId": "1b2ffe2f-c5ff-4f27-d462-ed4837dbb286"
      },
      "source": [
        "if run:\n",
        "    plt.plot(perplexity.ntopics, perplexity.perplexity)"
      ],
      "execution_count": null,
      "outputs": [
        {
          "output_type": "display_data",
          "data": {
            "image/png": "[encoded data removed]",
            "text/plain": [
              "<Figure size 432x288 with 1 Axes>"
            ]
          },
          "metadata": {
            "needs_background": "light"
          }
        }
      ]
    },
    {
      "cell_type": "markdown",
      "metadata": {
        "id": "tD7RJzfaUmWl"
      },
      "source": [
        "**Answer Question**\n",
        "\n",
        "How many topics appear to minimize perplexity? **Answer**"
      ]
    },
    {
      "cell_type": "code",
      "metadata": {
        "id": "HJARvor3YlX9"
      },
      "source": [
        "# Load lda best model\n",
        "ntopics = 200\n",
        "lda = LdaMulticore.load(nlppath + 'lda{}.lda'.format(ntopics))\n",
        "lda.minimum_probability = 0."
      ],
      "execution_count": null,
      "outputs": []
    },
    {
      "cell_type": "code",
      "metadata": {
        "id": "t0loLA6GDqwd",
        "colab": {
          "base_uri": "https://localhost:8080/"
        },
        "outputId": "3fa57fe6-1ffe-4901-a144-a81c41385c9a"
      },
      "source": [
        "# view all topics\n",
        "lda.show_topics(ntopics)"
      ],
      "execution_count": null,
      "outputs": [
        {
          "output_type": "execute_result",
          "data": {
            "text/plain": [
              "[(0,\n",
              "  '0.037*\"fly\" + 0.027*\"heavy\" + 0.021*\"beware\" + 0.019*\"bus_stop\" + 0.016*\"station\" + 0.016*\"sport_bar\" + 0.014*\"casinos\" + 0.013*\"reflect\" + 0.013*\"exit\" + 0.011*\"car_park\"'),\n",
              " (1,\n",
              "  '0.032*\"efficient\" + 0.026*\"exceptional\" + 0.021*\"stunning\" + 0.018*\"thank\" + 0.017*\"attentive\" + 0.016*\"beautiful\" + 0.015*\"golf_course\" + 0.015*\"far_away\" + 0.015*\"property\" + 0.015*\"feeling\"'),\n",
              " (2,\n",
              "  '0.075*\"pillow\" + 0.032*\"staff_attentive\" + 0.021*\"west_tower\" + 0.020*\"feel_safe\" + 0.015*\"comparable\" + 0.013*\"valuable\" + 0.013*\"4_p.m.\" + 0.013*\"quiet\" + 0.012*\"5_minute\" + 0.012*\"circus\"'),\n",
              " (3,\n",
              "  '0.026*\"ride\" + 0.024*\"nearby\" + 0.021*\"pastry\" + 0.018*\"lively\" + 0.015*\"tower\" + 0.015*\"brunch\" + 0.014*\"bus\" + 0.013*\"traffic\" + 0.013*\"tend\" + 0.012*\"helicopter\"'),\n",
              " (4,\n",
              "  '0.046*\"honeymoon\" + 0.037*\"birthday\" + 0.022*\"welcome\" + 0.020*\"spa\" + 0.016*\"rarely\" + 0.015*\"wonderful\" + 0.014*\"leave\" + 0.014*\"spend\" + 0.013*\"m_life\" + 0.013*\"husband\"'),\n",
              " (5,\n",
              "  '0.040*\"show_ticket\" + 0.038*\"convenience\" + 0.035*\"meeting\" + 0.033*\"quick\" + 0.028*\"attach\" + 0.025*\"gross\" + 0.020*\"clientele\" + 0.015*\"main_entrance\" + 0.014*\"long_wait\" + 0.012*\"ago\"'),\n",
              " (6,\n",
              "  '0.067*\"pyramid\" + 0.027*\"agent\" + 0.026*\"luxor\" + 0.023*\"11\" + 0.015*\"tower\" + 0.013*\"invitation\" + 0.011*\"trashy\" + 0.011*\"taxi_stand\" + 0.010*\"month_advance\" + 0.010*\"5_10_minute\"'),\n",
              " (7,\n",
              "  '0.040*\"look_forward\" + 0.032*\"visit\" + 0.026*\"attend\" + 0.025*\"middle_strip\" + 0.020*\"drawback\" + 0.018*\"king_size_bed\" + 0.017*\"take_20_minute\" + 0.015*\"amazing\" + 0.014*\"treat_like\" + 0.013*\"perfect\"'),\n",
              " (8,\n",
              "  '0.026*\"supply\" + 0.024*\"anywhere_else\" + 0.020*\"suck\" + 0.019*\"wine\" + 0.015*\"road\" + 0.014*\"free_parking\" + 0.013*\"toiletry\" + 0.013*\"unique\" + 0.012*\"sit_outside\" + 0.011*\"tidy\"'),\n",
              " (9,\n",
              "  '0.044*\"affordable\" + 0.030*\"within\" + 0.029*\"large\" + 0.028*\"walk_distance\" + 0.026*\"plenty\" + 0.023*\"comfortable\" + 0.019*\"every_minute\" + 0.018*\"close\" + 0.018*\"quieter\" + 0.016*\"position\"'),\n",
              " (10,\n",
              "  '0.033*\"treatment\" + 0.026*\"anytime\" + 0.019*\"fully\" + 0.016*\"length\" + 0.015*\"display\" + 0.014*\"rise\" + 0.013*\"present\" + 0.012*\"obvious\" + 0.012*\"request\" + 0.012*\"line\"'),\n",
              " (11,\n",
              "  '0.043*\"activity\" + 0.034*\"value_money\" + 0.031*\"stay_anywhere_else\" + 0.027*\"tv_\\'s\" + 0.024*\"mlife\" + 0.018*\"craziness\" + 0.018*\"calm\" + 0.016*\"incredible\" + 0.012*\"bonus\" + 0.012*\"suite\"'),\n",
              " (12,\n",
              "  '0.046*\"short_walk\" + 0.045*\"parking\" + 0.027*\"maid_service\" + 0.025*\"nasty\" + 0.022*\"sized\" + 0.021*\"garage\" + 0.019*\"happy_hour\" + 0.016*\"trump_international\" + 0.014*\"pic\" + 0.014*\"tapas\"'),\n",
              " (13,\n",
              "  '0.050*\"decent\" + 0.038*\"comfy\" + 0.035*\"cheap\" + 0.034*\"1\" + 0.033*\"2\" + 0.029*\"con\" + 0.028*\"pro\" + 0.013*\"bed\" + 0.013*\"9_a.m.\" + 0.010*\"themed\"'),\n",
              " (14,\n",
              "  '0.032*\"40\" + 0.031*\"impress\" + 0.027*\"thoroughly_enjoy\" + 0.026*\"improve\" + 0.022*\"definitely_recommend\" + 0.019*\"par\" + 0.016*\"selection\" + 0.015*\"bar\" + 0.015*\"buffet\" + 0.014*\"friend\"'),\n",
              " (15,\n",
              "  '0.027*\"caesars\" + 0.024*\"classic\" + 0.022*\"resort_fee\" + 0.020*\"include\" + 0.017*\"daily\" + 0.017*\"invite_guest\" + 0.015*\"fee\" + 0.015*\"pay\" + 0.014*\"charge\" + 0.012*\"rate\"'),\n",
              " (16,\n",
              "  '0.039*\"’\" + 0.035*\"’s\" + 0.013*\"pm\" + 0.010*\"open_door\" + 0.009*\"two\" + 0.009*\"wonder\" + 0.009*\"bed\" + 0.008*\"2\" + 0.008*\"shower\" + 0.007*\"tv\"'),\n",
              " (17,\n",
              "  '0.032*\"2_queen\" + 0.024*\"5_night\" + 0.024*\"two_queen_bed\" + 0.023*\"desire\" + 0.019*\"kettle\" + 0.018*\"shower\" + 0.016*\"container\" + 0.016*\"ur\" + 0.015*\"separate_toilet\" + 0.014*\"overpriced\"'),\n",
              " (18,\n",
              "  '0.037*\"highlight\" + 0.035*\"3_4\" + 0.019*\"currently\" + 0.017*\"prime_rib\" + 0.016*\"hungry\" + 0.014*\"come_handy\" + 0.014*\"alternative\" + 0.014*\"horrific\" + 0.013*\"15_year_ago\" + 0.013*\"til\"'),\n",
              " (19,\n",
              "  '0.187*\"paris\" + 0.045*\"ballys\" + 0.017*\"fair\" + 0.017*\"free_tram\" + 0.014*\"take_forever\" + 0.011*\"bellagio\" + 0.010*\"$_20.00\" + 0.010*\"tooth\" + 0.009*\"anyways\" + 0.009*\"spot\"'),\n",
              " (20,\n",
              "  '0.055*\"pleasant\" + 0.035*\"blast\" + 0.028*\"pleased\" + 0.018*\"garden\" + 0.018*\"overprice\" + 0.017*\"beautiful\" + 0.017*\"feel_like\" + 0.015*\"well_worth_money\" + 0.015*\"rating\" + 0.015*\"charge_extra\"'),\n",
              " (21,\n",
              "  '0.057*\"deliver\" + 0.034*\"besides\" + 0.025*\"closed\" + 0.019*\"steak\" + 0.018*\"sky\" + 0.014*\"concrete\" + 0.014*\"driver\" + 0.011*\"free_shuttle\" + 0.011*\"necessary\" + 0.011*\"usb_port\"'),\n",
              " (22,\n",
              "  '0.047*\"valet\" + 0.024*\"car\" + 0.020*\"self_park\" + 0.016*\"milk\" + 0.015*\"back\" + 0.013*\"come\" + 0.012*\"cook\" + 0.012*\"warn\" + 0.011*\"pet_friendly\" + 0.011*\"hear_noise\"'),\n",
              " (23,\n",
              "  '0.155*\"resort\" + 0.031*\"beautiful\" + 0.018*\"class\" + 0.016*\"many\" + 0.015*\"suite\" + 0.013*\"lovely\" + 0.013*\"jacuzzi_tub\" + 0.012*\"fantastic\" + 0.011*\"buffet\" + 0.010*\"big\"'),\n",
              " (24,\n",
              "  '0.186*\"rio\" + 0.027*\"beyond\" + 0.021*\"sun\" + 0.019*\"smoke_smell\" + 0.014*\"grade\" + 0.013*\"8th_floor\" + 0.011*\"invest\" + 0.010*\"match\" + 0.010*\"pump\" + 0.009*\"unless_want_pay\"'),\n",
              " (25,\n",
              "  '0.041*\"smell\" + 0.026*\"joke\" + 0.021*\"smell_like\" + 0.015*\"bad\" + 0.011*\"come\" + 0.011*\"stain_carpet\" + 0.010*\"around_midnight\" + 0.009*\"shower\" + 0.008*\"packed\" + 0.007*\"first\"'),\n",
              " (26,\n",
              "  '0.026*\"forum_shop\" + 0.023*\"rear\" + 0.021*\"quick_easy\" + 0.021*\"plastic\" + 0.021*\"flood\" + 0.017*\"soak_tub\" + 0.016*\"security\" + 0.015*\"bed\" + 0.015*\"shower\" + 0.012*\"horse\"'),\n",
              " (27,\n",
              "  '0.024*\"la\" + 0.022*\"assign\" + 0.021*\"right_across\" + 0.019*\"degree\" + 0.019*\"spray\" + 0.018*\"perfume\" + 0.015*\"aircon\" + 0.014*\"shower_head\" + 0.014*\"exercise\" + 0.013*\"smelly\"'),\n",
              " (28,\n",
              "  '0.031*\"ceasars\" + 0.030*\"april_2015\" + 0.020*\"attendee\" + 0.020*\"relative\" + 0.016*\"surface\" + 0.015*\"clearly\" + 0.014*\"free_wifi\" + 0.013*\"yes\" + 0.013*\"crystal\" + 0.012*\"negative\"'),\n",
              " (29,\n",
              "  '0.031*\"barely\" + 0.024*\"particularly\" + 0.023*\"straight\" + 0.018*\"faster\" + 0.017*\"somewhat\" + 0.015*\"greet\" + 0.015*\"range\" + 0.013*\"reliable\" + 0.012*\"minute_later\" + 0.011*\"redeem\"'),\n",
              " (30,\n",
              "  '0.044*\"bet\" + 0.043*\"terrific\" + 0.037*\"february\" + 0.032*\"something_everyone\" + 0.032*\"line_long\" + 0.021*\"conference\" + 0.021*\"dance\" + 0.012*\"-the\" + 0.012*\"encounter_problem\" + 0.011*\"fairly\"'),\n",
              " (31,\n",
              "  '0.030*\"tell\" + 0.028*\"machine\" + 0.024*\"wait\" + 0.018*\"ready\" + 0.014*\"waitress\" + 0.014*\"order\" + 0.013*\"another\" + 0.013*\"give\" + 0.013*\"hour\" + 0.012*\"call\"'),\n",
              " (32,\n",
              "  '0.058*\"otherwise\" + 0.038*\"comfortable_bed\" + 0.029*\"roomy\" + 0.024*\"friendly_helpful\" + 0.017*\"beautiful\" + 0.016*\"family_friend\" + 0.016*\"heart\" + 0.015*\"wonderful\" + 0.013*\"every_morning\" + 0.013*\"mediocre\"'),\n",
              " (33,\n",
              "  '0.052*\"non_smoking\" + 0.033*\"smoke\" + 0.032*\"deluxe\" + 0.018*\"stair\" + 0.015*\"good_luck\" + 0.014*\"smoking\" + 0.013*\"smell_like\" + 0.012*\"extra\" + 0.012*\"sexy\" + 0.012*\"single\"'),\n",
              " (34,\n",
              "  '0.037*\"new_year\" + 0.020*\"client\" + 0.020*\"voucher\" + 0.017*\"arrange\" + 0.014*\"anything_else\" + 0.013*\"immediate\" + 0.013*\"right_away\" + 0.013*\"5th\" + 0.012*\"sugar\" + 0.012*\"book\"'),\n",
              " (35,\n",
              "  '0.030*\"difference\" + 0.029*\"resolve\" + 0.026*\"item\" + 0.015*\"fridge\" + 0.013*\"however\" + 0.013*\"charge\" + 0.013*\"gripe\" + 0.012*\"annoyance\" + 0.012*\"pair\" + 0.012*\"stadium\"'),\n",
              " (36,\n",
              "  '0.027*\"beat\" + 0.024*\"blow_away\" + 0.024*\"connected\" + 0.023*\"italian_restaurant\" + 0.018*\"upside\" + 0.018*\"beef\" + 0.013*\"answer_phone\" + 0.011*\"meal\" + 0.010*\"give\" + 0.009*\"order\"'),\n",
              " (37,\n",
              "  '0.030*\"balcony\" + 0.019*\"world_tower\" + 0.018*\"theme\" + 0.014*\"10_minute_walk\" + 0.013*\"huge\" + 0.013*\"shoe\" + 0.012*\"minimal\" + 0.011*\"vibe\" + 0.011*\"balcony_overlook\" + 0.010*\"bed\"'),\n",
              " (38,\n",
              "  '0.044*\"reasonable_price\" + 0.034*\"pleasure\" + 0.027*\"timeshare\" + 0.019*\"fantastic\" + 0.019*\"steak_house\" + 0.018*\"elsewhere\" + 0.018*\"rooftop\" + 0.014*\"would_recommend\" + 0.013*\"mountain\" + 0.011*\"caesars_property\"'),\n",
              " (39,\n",
              "  '0.154*\"wynn\" + 0.085*\"encore\" + 0.039*\"world\" + 0.029*\"nightclub\" + 0.021*\"4_star\" + 0.021*\"market\" + 0.014*\"amazing\" + 0.014*\"beautiful\" + 0.014*\"bellman\" + 0.012*\"boy\"'),\n",
              " (40,\n",
              "  '0.028*\"hard_find\" + 0.028*\"cater\" + 0.028*\"bit_pricey\" + 0.023*\"future\" + 0.022*\"palace\" + 0.021*\"escalator\" + 0.018*\"\\'s_birthday\" + 0.016*\"visit\" + 0.015*\"payback\" + 0.014*\"subject\"'),\n",
              " (41,\n",
              "  '0.037*\"entertaining\" + 0.030*\"band\" + 0.026*\"reward_program\" + 0.025*\"show\" + 0.024*\"perform\" + 0.017*\"venetian\" + 0.017*\"entertainment\" + 0.017*\"address\" + 0.016*\"fun\" + 0.014*\"terrific\"'),\n",
              " (42,\n",
              "  '0.035*\"tell\" + 0.026*\"call\" + 0.023*\"ask\" + 0.019*\"water\" + 0.019*\"shower\" + 0.012*\"wait\" + 0.011*\"book\" + 0.011*\"never\" + 0.010*\"give\" + 0.010*\"front_desk\"'),\n",
              " (43,\n",
              "  '0.022*\"luxor\" + 0.021*\"tray\" + 0.021*\"lv\" + 0.017*\"dark\" + 0.016*\"free_internet\" + 0.016*\"air\" + 0.015*\"burn\" + 0.015*\"seem\" + 0.013*\"detail\" + 0.013*\"mandalay\"'),\n",
              " (44,\n",
              "  '0.098*\"vdara\" + 0.029*\"bellagio\" + 0.020*\"kitchenette\" + 0.017*\"3rd\" + 0.015*\"kitchen\" + 0.012*\"stock\" + 0.010*\"regularly\" + 0.010*\"utensil\" + 0.010*\"2\" + 0.010*\"view_bellagio_fountain\"'),\n",
              " (45,\n",
              "  '0.029*\"remove\" + 0.023*\"garbage\" + 0.019*\"sort\" + 0.018*\"towel\" + 0.017*\"2\" + 0.016*\"6\" + 0.014*\"pressure\" + 0.014*\"4\" + 0.012*\"8\" + 0.012*\"17\"'),\n",
              " (46,\n",
              "  '0.034*\"fountain\" + 0.030*\"opportunity\" + 0.019*\"clean_tidy\" + 0.019*\"air_conditioning\" + 0.018*\"ambience\" + 0.016*\"exceed_expectation\" + 0.016*\"beautiful\" + 0.016*\"view_mountain\" + 0.014*\"overlook_pool\" + 0.014*\"business_pleasure\"'),\n",
              " (47,\n",
              "  '0.041*\"booking\" + 0.038*\"attitude\" + 0.035*\"exciting\" + 0.031*\"roller_coaster\" + 0.020*\"full_kitchen\" + 0.018*\"member\" + 0.017*\"show\" + 0.017*\"reservation\" + 0.015*\"tell\" + 0.015*\"hilton\"'),\n",
              " (48,\n",
              "  '0.053*\"load\" + 0.033*\"last_minute\" + 0.026*\"30_minute\" + 0.023*\"got\" + 0.018*\"bath_towel\" + 0.014*\"rough\" + 0.013*\"next\" + 0.012*\"premier\" + 0.011*\"greatly\" + 0.011*\"venetian_palazzo\"'),\n",
              " (49,\n",
              "  '0.033*\"jacuzzi\" + 0.027*\"well_maintain\" + 0.023*\"pool_area\" + 0.021*\"staff_helpful\" + 0.019*\"therefore\" + 0.017*\"warm\" + 0.017*\"amazing\" + 0.015*\"view_bellagio_fountain\" + 0.015*\"around\" + 0.014*\"beautiful\"'),\n",
              " (50,\n",
              "  '0.073*\"relax\" + 0.059*\"really_enjoy\" + 0.044*\"trump\" + 0.021*\"center_strip\" + 0.020*\"fun\" + 0.015*\"wonderful\" + 0.014*\"nugget\" + 0.013*\"comfortable\" + 0.012*\"area\" + 0.011*\"video_poker\"'),\n",
              " (51,\n",
              "  '0.112*\"palazzo\" + 0.086*\"venetian\" + 0.039*\"well_worth\" + 0.031*\"suite\" + 0.013*\"large\" + 0.012*\"remote\" + 0.011*\"romantic\" + 0.010*\"huge\" + 0.010*\"breakfast\" + 0.010*\"air_con\"'),\n",
              " (52,\n",
              "  '0.044*\"easy_access\" + 0.033*\"impressive\" + 0.024*\"bartender\" + 0.019*\"crowded\" + 0.018*\"easy\" + 0.017*\"within_walk_distance\" + 0.016*\"staff_member\" + 0.016*\"central_strip\" + 0.014*\"reasonably_price\" + 0.014*\"friendly\"'),\n",
              " (53,\n",
              "  '0.034*\"everyday\" + 0.030*\"concert\" + 0.029*\"four\" + 0.029*\"weird\" + 0.024*\"+\" + 0.022*\"believe\" + 0.020*\"grand_canyon\" + 0.017*\"inviting\" + 0.017*\"girl\" + 0.015*\"honest\"'),\n",
              " (54,\n",
              "  '0.043*\"king_bed\" + 0.027*\"minibar\" + 0.027*\"kid\" + 0.023*\"tv\" + 0.021*\"fountain_view\" + 0.020*\"ease\" + 0.019*\"touch\" + 0.018*\"item\" + 0.017*\"dated\" + 0.015*\"big\"'),\n",
              " (55,\n",
              "  '0.076*\"amazing\" + 0.029*\"bellagio\" + 0.028*\"king_suite\" + 0.024*\"fantastic\" + 0.023*\"view_fountain\" + 0.021*\"highly\" + 0.020*\"skip\" + 0.018*\"television\" + 0.017*\"print\" + 0.016*\"beautiful\"'),\n",
              " (56,\n",
              "  '0.018*\"black\" + 0.017*\"dirt\" + 0.014*\"computer\" + 0.013*\"pull\" + 0.013*\"thought\" + 0.011*\"sticky\" + 0.009*\"never\" + 0.009*\"stain\" + 0.009*\"think\" + 0.008*\"glass\"'),\n",
              " (57,\n",
              "  '0.075*\"cosmopolitan\" + 0.034*\"cosmo\" + 0.033*\"balcony\" + 0.020*\"repair\" + 0.020*\"ambiance\" + 0.019*\"many\" + 0.017*\"ceasar\" + 0.017*\"doughnut\" + 0.017*\"will_definitely\" + 0.015*\"enjoyable\"'),\n",
              " (58,\n",
              "  '0.233*\"mirage\" + 0.064*\"ti\" + 0.018*\"train\" + 0.014*\"pizza\" + 0.010*\"choose\" + 0.010*\"pantry\" + 0.010*\"unbelievably\" + 0.009*\"property\" + 0.009*\"little\" + 0.009*\"bar_times_square\"'),\n",
              " (59,\n",
              "  '0.030*\"inform\" + 0.026*\"upgrade\" + 0.022*\"boyfriend\" + 0.020*\"tell\" + 0.015*\"front_desk\" + 0.012*\"first\" + 0.011*\"book\" + 0.011*\"able\" + 0.011*\"pay\" + 0.010*\"chip\"'),\n",
              " (60,\n",
              "  '0.032*\"acceptable\" + 0.029*\"exceptionally\" + 0.021*\"john\" + 0.020*\"bore\" + 0.019*\"request_non_smoking\" + 0.019*\"thehotel\" + 0.019*\"lucky_enough\" + 0.018*\"saturday\" + 0.013*\"absinthe\" + 0.012*\"cabana\"'),\n",
              " (61,\n",
              "  '0.077*\"u\" + 0.028*\"amazing\" + 0.025*\"encounter\" + 0.025*\"east_tower\" + 0.019*\"low_floor\" + 0.017*\"every_staff_member\" + 0.017*\"heaven\" + 0.016*\"suite\" + 0.014*\"high_floor\" + 0.014*\"cocktail\"'),\n",
              " (62,\n",
              "  '0.044*\"top_notch\" + 0.026*\"10_year\" + 0.026*\"year\" + 0.024*\"encore_wynn\" + 0.020*\"pool_closed\" + 0.017*\"favorite\" + 0.016*\"means\" + 0.014*\"worth_extra\" + 0.014*\"last\" + 0.013*\"motel_6\"'),\n",
              " (63,\n",
              "  '0.023*\"maintenance\" + 0.023*\"response\" + 0.015*\"situation\" + 0.015*\"wife\" + 0.014*\"give\" + 0.014*\"call\" + 0.013*\"tell\" + 0.013*\"serious\" + 0.012*\"occupy\" + 0.012*\"cleaning\"'),\n",
              " (64,\n",
              "  '0.043*\"new_york\" + 0.030*\"arrive_early\" + 0.027*\"snack\" + 0.023*\"share\" + 0.022*\"cocktail\" + 0.014*\"drink\" + 0.013*\"complete\" + 0.012*\"evening\" + 0.011*\"half_price\" + 0.011*\"survey\"'),\n",
              " (65,\n",
              "  '0.027*\"mexican\" + 0.017*\"eat\" + 0.016*\"italian\" + 0.016*\"tho\" + 0.015*\"joint\" + 0.015*\"hurt\" + 0.014*\"lesson\" + 0.014*\"soup\" + 0.013*\"useless\" + 0.013*\"major_issue\"'),\n",
              " (66,\n",
              "  '0.049*\"circus_circus\" + 0.034*\"hotels\" + 0.023*\"south_strip\" + 0.018*\"reasonably\" + 0.018*\"non_smoker\" + 0.018*\"via\" + 0.018*\"odor\" + 0.018*\"queen_size_bed\" + 0.017*\"possible\" + 0.016*\"common\"'),\n",
              " (67,\n",
              "  '0.076*\"game\" + 0.049*\"play\" + 0.047*\"dealer\" + 0.043*\"fun\" + 0.041*\"highly_recommend\" + 0.030*\"friendly\" + 0.029*\"planet_hollywood\" + 0.027*\"table\" + 0.026*\"ph\" + 0.025*\"table_game\"'),\n",
              " (68,\n",
              "  '0.036*\"sunday\" + 0.029*\"annoying\" + 0.015*\"first_impression\" + 0.015*\"swimming\" + 0.014*\"vs\" + 0.014*\"yesterday\" + 0.013*\"china_poblano\" + 0.013*\"wave_pool\" + 0.012*\"time_share_people\" + 0.012*\"boulevard\"'),\n",
              " (69,\n",
              "  '0.066*\"design\" + 0.034*\"dirty\" + 0.026*\"stain\" + 0.025*\"disgusting\" + 0.021*\"carpet\" + 0.018*\"forever\" + 0.018*\"player_club\" + 0.016*\"furniture\" + 0.012*\"cover\" + 0.011*\"bad\"'),\n",
              " (70,\n",
              "  '0.045*\"stratosphere\" + 0.040*\"plaza\" + 0.020*\"privacy\" + 0.019*\"tile\" + 0.018*\"typical\" + 0.017*\"decent_size\" + 0.016*\"mail\" + 0.016*\"check_breeze\" + 0.013*\"reasonable_rate\" + 0.012*\"tower\"'),\n",
              " (71,\n",
              "  '0.032*\"lamp\" + 0.023*\"event\" + 0.021*\"charge_resort_fee\" + 0.017*\"cord\" + 0.017*\"show\" + 0.016*\"group\" + 0.015*\"message\" + 0.014*\"sad\" + 0.013*\"two\" + 0.011*\"work\"'),\n",
              " (72,\n",
              "  '0.059*\"downtown\" + 0.037*\"golden_nugget\" + 0.030*\"fremont_street\" + 0.029*\"drive\" + 0.028*\"resort_fee\" + 0.021*\"fee\" + 0.019*\"personal\" + 0.015*\"next_year\" + 0.015*\"free\" + 0.014*\"add\"'),\n",
              " (73,\n",
              "  '0.063*\"suggest\" + 0.036*\"local\" + 0.027*\"dog\" + 0.026*\"restroom\" + 0.022*\"buck\" + 0.022*\"assistance\" + 0.013*\"offer\" + 0.013*\"taxis\" + 0.013*\"motion\" + 0.012*\"responsibility\"'),\n",
              " (74,\n",
              "  '0.048*\"slot\" + 0.026*\"play_slot\" + 0.025*\"vacation\" + 0.019*\"fun\" + 0.018*\"crowd\" + 0.017*\"play\" + 0.017*\"little_pricey\" + 0.016*\"total_rewards\" + 0.015*\"crap\" + 0.015*\"gambling\"'),\n",
              " (75,\n",
              "  '0.057*\"classy\" + 0.044*\"relaxing\" + 0.041*\"comp\" + 0.031*\"hard_rock\" + 0.027*\"january\" + 0.025*\"conveniently_locate\" + 0.023*\"coffee_pot\" + 0.018*\"next\" + 0.017*\"bed_pillow\" + 0.016*\"definitely\"'),\n",
              " (76,\n",
              "  '0.023*\"cream\" + 0.021*\"per_person\" + 0.020*\"mad\" + 0.015*\"slipper\" + 0.014*\"hell\" + 0.012*\"mandarin\" + 0.012*\"extra_cost\" + 0.011*\"exact\" + 0.010*\"bad\" + 0.010*\"catch\"'),\n",
              " (77,\n",
              "  '0.052*\"valet_parking\" + 0.038*\"connection\" + 0.037*\"private\" + 0.021*\"=\" + 0.018*\"jump\" + 0.017*\"careful\" + 0.013*\"sunset\" + 0.012*\"let_start\" + 0.012*\"comment\" + 0.011*\"am\"'),\n",
              " (78,\n",
              "  '0.045*\"control\" + 0.033*\"temperature\" + 0.032*\"tear\" + 0.023*\"call_housekeeping\" + 0.020*\"french\" + 0.018*\"3_star\" + 0.015*\"necessity\" + 0.014*\"surprising\" + 0.012*\"economical\" + 0.010*\"july\"'),\n",
              " (79,\n",
              "  '0.041*\"environment\" + 0.027*\"destination\" + 0.025*\"aspect\" + 0.021*\"dress\" + 0.020*\"dollar\" + 0.018*\"slightly_less\" + 0.016*\"easy_navigate\" + 0.015*\"monorail\" + 0.015*\"magnificent\" + 0.014*\"convenient\"'),\n",
              " (80,\n",
              "  '0.026*\"spectacular\" + 0.025*\"18\" + 0.022*\"service_impeccable\" + 0.020*\"city_center\" + 0.018*\"tier\" + 0.017*\"bite\" + 0.017*\"+\" + 0.017*\"suite\" + 0.016*\"could_use_updating\" + 0.012*\"sub_zero\"'),\n",
              " (81,\n",
              "  '0.025*\"website\" + 0.024*\"phone\" + 0.020*\"book\" + 0.020*\"reserve\" + 0.015*\"tell\" + 0.015*\"available\" + 0.014*\"regular\" + 0.013*\"early_check\" + 0.013*\"line\" + 0.013*\"give\"'),\n",
              " (82,\n",
              "  '0.026*\"okay\" + 0.026*\"seating\" + 0.025*\"pizza\" + 0.022*\"somewhere_else\" + 0.020*\"margaritaville\" + 0.018*\"vent\" + 0.014*\"bellagio_fountain\" + 0.014*\"patio\" + 0.013*\"floor\" + 0.013*\"air_conditioner\"'),\n",
              " (83,\n",
              "  '0.029*\"reception\" + 0.019*\"card\" + 0.019*\"credit_card\" + 0.019*\"charge\" + 0.018*\"handle\" + 0.016*\"book\" + 0.016*\"advance\" + 0.016*\"credit\" + 0.013*\"offer\" + 0.013*\"2\"'),\n",
              " (84,\n",
              "  '0.050*\"self_parking\" + 0.029*\"christmas\" + 0.020*\"volcano\" + 0.016*\"vp\" + 0.016*\"ventilation\" + 0.015*\"coffeemaker\" + 0.014*\"big_fight\" + 0.013*\"prime_location\" + 0.013*\"toward\" + 0.012*\"presentation\"'),\n",
              " (85,\n",
              "  '0.052*\"wall\" + 0.036*\"dirty\" + 0.035*\"old\" + 0.026*\"furniture\" + 0.022*\"white\" + 0.017*\"shower\" + 0.016*\"sit_area\" + 0.014*\"paint\" + 0.013*\"window\" + 0.013*\"terrible\"'),\n",
              " (86,\n",
              "  '0.023*\"hair\" + 0.018*\"wash_cloth\" + 0.013*\"bed\" + 0.012*\"try\" + 0.012*\"never\" + 0.011*\"towel\" + 0.011*\"tell\" + 0.010*\"know\" + 0.010*\"come\" + 0.010*\"ask\"'),\n",
              " (87,\n",
              "  '0.042*\"signature\" + 0.018*\"special_occasion\" + 0.016*\"mgm\" + 0.016*\"champagne\" + 0.016*\"take_taxi\" + 0.016*\"promptly\" + 0.015*\">\" + 0.015*\"block\" + 0.015*\"flight\" + 0.014*\"near_elevator\"'),\n",
              " (88,\n",
              "  '0.056*\"everything_need\" + 0.048*\"host\" + 0.024*\"tip\" + 0.017*\"cocktail_waitress\" + 0.017*\"bar\" + 0.016*\"proximity\" + 0.015*\"indeed\" + 0.013*\"chocolate\" + 0.013*\"drink\" + 0.012*\"parent\"'),\n",
              " (89,\n",
              "  '0.060*\"security\" + 0.032*\"key\" + 0.029*\"aware\" + 0.017*\"steal\" + 0.016*\"housekeeping\" + 0.016*\"original\" + 0.014*\"report\" + 0.014*\"dessert\" + 0.014*\"call\" + 0.011*\"chance\"'),\n",
              " (90,\n",
              "  '0.030*\"helpful_friendly\" + 0.024*\"prepared\" + 0.023*\"constantly\" + 0.023*\"save_money\" + 0.020*\"outdated\" + 0.017*\"afford\" + 0.014*\"travel_agent\" + 0.014*\"dingy\" + 0.012*\"drink\" + 0.011*\"$_12\"'),\n",
              " (91,\n",
              "  '0.034*\"fridge\" + 0.028*\"drink\" + 0.020*\"$_100\" + 0.019*\"occasion\" + 0.016*\"cup\" + 0.012*\"beverage_service\" + 0.012*\"pick\" + 0.010*\"dish\" + 0.010*\"coffee\" + 0.010*\"play\"'),\n",
              " (92,\n",
              "  '0.035*\"young\" + 0.032*\"pub\" + 0.030*\"cool\" + 0.028*\"lazy_river\" + 0.026*\"tight\" + 0.023*\"must_see\" + 0.017*\"lose_money\" + 0.016*\"fun\" + 0.016*\"variety\" + 0.012*\"different\"'),\n",
              " (93,\n",
              "  '0.036*\"fix\" + 0.030*\"compe\" + 0.026*\"ready\" + 0.025*\"maid\" + 0.017*\"return\" + 0.016*\"call\" + 0.016*\"lock\" + 0.014*\"incredibly\" + 0.013*\"april\" + 0.012*\"next\"'),\n",
              " (94,\n",
              "  '0.039*\"treasure_island\" + 0.030*\"die\" + 0.029*\"tap\" + 0.024*\"locker\" + 0.021*\"bit_dated\" + 0.019*\"good_value_money\" + 0.018*\"price_reasonable\" + 0.018*\"advantage\" + 0.017*\"planet\" + 0.016*\"small\"'),\n",
              " (95,\n",
              "  '0.026*\"priceline\" + 0.023*\"funny\" + 0.020*\"somewhere\" + 0.016*\"soo\" + 0.015*\"specifically\" + 0.014*\"none_available\" + 0.013*\"two\" + 0.012*\"bid\" + 0.011*\"separate\" + 0.011*\"ask\"'),\n",
              " (96,\n",
              "  '0.021*\"accessible\" + 0.018*\"post\" + 0.017*\"everybody\" + 0.014*\"box_office\" + 0.013*\"comfortably\" + 0.012*\"2\" + 0.011*\"pay\" + 0.011*\"error\" + 0.010*\"free\" + 0.010*\"23rd\"'),\n",
              " (97,\n",
              "  '0.054*\"anywhere\" + 0.029*\"common_area\" + 0.027*\"almost\" + 0.017*\"ground_floor\" + 0.016*\"entry\" + 0.016*\"cigarette_smoke\" + 0.016*\"massive\" + 0.016*\"half\" + 0.016*\"meat\" + 0.015*\"taxis\"'),\n",
              " (98,\n",
              "  '0.052*\"internet\" + 0.024*\"pay\" + 0.023*\"resort_fee\" + 0.022*\"last_year\" + 0.022*\"wifi\" + 0.021*\"charge\" + 0.020*\"24_hour\" + 0.015*\"2\" + 0.014*\"per_day\" + 0.014*\"extra\"'),\n",
              " (99,\n",
              "  '0.054*\"multiple\" + 0.033*\"popular\" + 0.026*\"las_vegas_blvd\" + 0.016*\"makeup\" + 0.015*\"chandelier\" + 0.014*\"additional_charge\" + 0.012*\"pure\" + 0.011*\"whilst\" + 0.010*\"30th_floor\" + 0.010*\"include\"'),\n",
              " (100,\n",
              "  '0.073*\"line\" + 0.035*\"long_line\" + 0.025*\"absolutely_love\" + 0.020*\"wait\" + 0.019*\"sunrise\" + 0.017*\"neighbor\" + 0.014*\"jam\" + 0.012*\"ahead\" + 0.012*\"flow\" + 0.012*\"grand_canal_shoppe\"'),\n",
              " (101,\n",
              "  '0.091*\"tower\" + 0.030*\"signature\" + 0.023*\"bright\" + 0.022*\"mgm_grand\" + 0.019*\"walkway\" + 0.018*\"mgm\" + 0.017*\"car\" + 0.016*\"weather\" + 0.012*\"valet_parking\" + 0.012*\"3\"'),\n",
              " (102,\n",
              "  '0.040*\"budget\" + 0.027*\"aside\" + 0.026*\"shopping_area\" + 0.023*\"keep_mind\" + 0.020*\"explore\" + 0.017*\"coffee_maker_fridge\" + 0.015*\"standard\" + 0.013*\"keen\" + 0.012*\"cromwell\" + 0.012*\"terribly\"'),\n",
              " (103,\n",
              "  '0.060*\"caesars_palace\" + 0.046*\"caesars\" + 0.020*\"vanity\" + 0.019*\"large\" + 0.014*\"may_2015\" + 0.013*\"couch\" + 0.012*\"chill\" + 0.012*\"amazing\" + 0.011*\"octavius_tower\" + 0.011*\"two\"'),\n",
              " (104,\n",
              "  '0.030*\"coffee_shop\" + 0.029*\"sandwich\" + 0.025*\"link\" + 0.025*\"opt\" + 0.025*\"top\" + 0.021*\"remain\" + 0.019*\"favourite\" + 0.015*\"mix\" + 0.014*\"power\" + 0.011*\"center_strip\"'),\n",
              " (105,\n",
              "  '0.040*\"well_appoint\" + 0.037*\"awesome\" + 0.034*\"would_definitely\" + 0.025*\"fast\" + 0.025*\"bedding\" + 0.024*\"luxurious\" + 0.023*\"spacious\" + 0.021*\"large\" + 0.014*\"coffee_maker\" + 0.013*\"quite\"'),\n",
              " (106,\n",
              "  '0.066*\"would_highly_recommend\" + 0.052*\"spa\" + 0.024*\"neat\" + 0.023*\"indoor\" + 0.023*\"cheese\" + 0.020*\"overwhelming\" + 0.019*\"relaxing\" + 0.016*\"mid_week\" + 0.016*\"perfect\" + 0.012*\"sauna\"'),\n",
              " (107,\n",
              "  '0.050*\"centrally_locate\" + 0.029*\"son\" + 0.025*\"shade\" + 0.024*\"linen\" + 0.020*\"attraction\" + 0.018*\"support\" + 0.017*\"include_resort_fee\" + 0.017*\"cleaning_staff\" + 0.016*\"property\" + 0.015*\"april\"'),\n",
              " (108,\n",
              "  '0.072*\"shuttle\" + 0.063*\"downside\" + 0.031*\"first_class\" + 0.026*\"registration\" + 0.025*\"memorable\" + 0.022*\"poolside\" + 0.016*\"throughout\" + 0.016*\"bus\" + 0.015*\"accommodating\" + 0.014*\"looking\"'),\n",
              " (109,\n",
              "  '0.057*\"convention\" + 0.036*\"alot\" + 0.023*\"prompt\" + 0.023*\"limit\" + 0.019*\"large\" + 0.018*\"peaceful\" + 0.015*\"real\" + 0.015*\"spring\" + 0.014*\"moment_arrive\" + 0.014*\"shape\"'),\n",
              " (110,\n",
              "  '0.047*\"alone\" + 0.045*\"word\" + 0.027*\"outside_noise\" + 0.023*\"payout\" + 0.021*\"coupon_book\" + 0.017*\"wet_republic\" + 0.017*\"favor\" + 0.014*\"2012\" + 0.013*\"stale\" + 0.013*\"tan\"'),\n",
              " (111,\n",
              "  '0.049*\"reasonable\" + 0.044*\"us\" + 0.021*\"minimum\" + 0.019*\"march_2015\" + 0.017*\"eat\" + 0.015*\"bar\" + 0.014*\"spoil\" + 0.012*\"shop\" + 0.011*\"surely\" + 0.010*\"bring_kid\"'),\n",
              " (112,\n",
              "  '0.039*\"heat\" + 0.022*\"$_$\" + 0.019*\"five\" + 0.019*\"bed\" + 0.018*\"summer\" + 0.017*\"break\" + 0.017*\"work\" + 0.013*\"damage\" + 0.013*\"save\" + 0.012*\"probably\"'),\n",
              " (113,\n",
              "  '0.069*\"bally_\\'s\" + 0.039*\"need_update\" + 0.035*\"outstanding\" + 0.028*\"breakfast_buffet\" + 0.024*\"discount\" + 0.022*\"old\" + 0.016*\"remodel\" + 0.015*\"trendy\" + 0.015*\"new\" + 0.012*\"bellagio\"'),\n",
              " (114,\n",
              "  '0.079*\"sls\" + 0.047*\"best\" + 0.022*\"fine_dining\" + 0.016*\"ever\" + 0.016*\"breakfast_lunch\" + 0.014*\"edge\" + 0.012*\"escape\" + 0.011*\"extended\" + 0.011*\"cool\" + 0.011*\"breath_fresh_air\"'),\n",
              " (115,\n",
              "  '0.066*\"server\" + 0.048*\"management\" + 0.027*\"polite\" + 0.022*\"customer\" + 0.014*\"bed\" + 0.014*\"cold\" + 0.014*\"job\" + 0.013*\"ice\" + 0.012*\"groupon\" + 0.012*\"dinner\"'),\n",
              " (116,\n",
              "  '0.027*\"mcdonalds\" + 0.024*\"breathtake\" + 0.023*\"show\" + 0.020*\"overhead\" + 0.017*\"signage\" + 0.017*\"winner\" + 0.015*\"somehow\" + 0.014*\"friend_family\" + 0.014*\"pricing\" + 0.013*\"masquerade_tower\"'),\n",
              " (117,\n",
              "  '0.037*\"bottle_water\" + 0.034*\"correct\" + 0.030*\"flat_screen_tv\" + 0.026*\"similar\" + 0.026*\"perk\" + 0.024*\"delightful\" + 0.018*\"bargain\" + 0.017*\"28\" + 0.017*\"closet\" + 0.014*\"5_6\"'),\n",
              " (118,\n",
              "  '0.077*\"staff_friendly_helpful\" + 0.028*\"site\" + 0.018*\"invite\" + 0.016*\"utilize\" + 0.015*\"important\" + 0.015*\"locate_right\" + 0.014*\"major\" + 0.014*\"food_court\" + 0.013*\"variety_food\" + 0.011*\"wonderful\"'),\n",
              " (119,\n",
              "  '0.033*\"cabana\" + 0.028*\"corner\" + 0.022*\"advice\" + 0.020*\"procedure\" + 0.020*\"bellagio\" + 0.016*\"lovely\" + 0.015*\"realise\" + 0.012*\"research\" + 0.009*\"large\" + 0.009*\"new_years_eve\"'),\n",
              " (120,\n",
              "  '0.030*\"worker\" + 0.029*\"cause\" + 0.022*\"mother\" + 0.020*\"upgraded\" + 0.020*\"join\" + 0.018*\"trip\" + 0.018*\"drop\" + 0.015*\"bunch\" + 0.015*\"smile\" + 0.014*\"strong\"'),\n",
              " (121,\n",
              "  '0.039*\"interior\" + 0.037*\"make_feel\" + 0.034*\"make_feel_welcome\" + 0.028*\"fall\" + 0.023*\"operate\" + 0.023*\"gaming_floor\" + 0.018*\"roof_top\" + 0.017*\"loud\" + 0.017*\"cocktail_service\" + 0.017*\"mess\"'),\n",
              " (122,\n",
              "  '0.044*\"mandalay\" + 0.037*\"fan\" + 0.017*\"crazy\" + 0.017*\"mom\" + 0.014*\"extra_charge\" + 0.014*\"know\" + 0.014*\"mlife_card\" + 0.013*\"trip\" + 0.013*\"memory\" + 0.012*\"comp\"'),\n",
              " (123,\n",
              "  '0.045*\"harrahs\" + 0.031*\"please\" + 0.025*\"ac\" + 0.018*\"key_card\" + 0.014*\"write_review\" + 0.013*\"lounge\" + 0.011*\"move\" + 0.011*\"battery\" + 0.011*\"last\" + 0.011*\"alternative\"'),\n",
              " (124,\n",
              "  '0.030*\"team\" + 0.023*\"business\" + 0.020*\"frequently\" + 0.019*\"foot\" + 0.014*\"fast_food\" + 0.014*\"conference\" + 0.013*\"seek\" + 0.013*\"work\" + 0.013*\"wifi\" + 0.011*\"easily\"'),\n",
              " (125,\n",
              "  '0.070*\"gaming\" + 0.032*\"seat\" + 0.027*\"middle\" + 0.023*\"recent\" + 0.022*\"plug\" + 0.022*\"caesar\" + 0.020*\"getaway\" + 0.020*\"property\" + 0.019*\"umbrella\" + 0.017*\"palace_tower\"'),\n",
              " (126,\n",
              "  '0.108*\"coffee\" + 0.030*\"charge\" + 0.021*\"free\" + 0.020*\"bill\" + 0.019*\"bed_comfy\" + 0.018*\"downstairs\" + 0.016*\"water\" + 0.016*\"pay\" + 0.015*\"$\" + 0.012*\"bar\"'),\n",
              " (127,\n",
              "  '0.031*\"refrigerator\" + 0.027*\"caesar_\\'s\" + 0.022*\"whether\" + 0.021*\"total\" + 0.017*\"empty\" + 0.015*\"tell\" + 0.013*\"detail\" + 0.011*\"tax\" + 0.010*\"still\" + 0.010*\"since\"'),\n",
              " (128,\n",
              "  '0.044*\"anniversary\" + 0.037*\"help\" + 0.036*\"attendant\" + 0.036*\"assist\" + 0.027*\"prior\" + 0.024*\"caesar_\\'s_palace\" + 0.023*\"show_age\" + 0.019*\"tournament\" + 0.017*\"trip\" + 0.016*\"8\"'),\n",
              " (129,\n",
              "  '0.037*\"sometimes\" + 0.029*\"late_night\" + 0.028*\"high_roller\" + 0.024*\"handy\" + 0.022*\"inexpensive\" + 0.022*\"park\" + 0.021*\"parking_garage\" + 0.020*\"temp\" + 0.019*\"central\" + 0.019*\"parking_lot\"'),\n",
              " (130,\n",
              "  '0.033*\"surprise\" + 0.028*\"disappointment\" + 0.023*\"eiffel_tower\" + 0.019*\"wynn_encore\" + 0.018*\"obviously\" + 0.018*\"supervisor\" + 0.017*\"soap\" + 0.017*\"partner\" + 0.016*\"sink\" + 0.016*\"condition\"'),\n",
              " (131,\n",
              "  '0.029*\"factor\" + 0.022*\"diamond_member\" + 0.017*\"beach_club\" + 0.016*\"live_music\" + 0.015*\"mid_strip\" + 0.014*\"tunnel\" + 0.014*\"slight\" + 0.013*\"expansive\" + 0.013*\"100\" + 0.011*\"upload\"'),\n",
              " (132,\n",
              "  '0.032*\"rate\" + 0.027*\"hot_water\" + 0.024*\"fitness_center\" + 0.020*\"example\" + 0.020*\"charge\" + 0.019*\"likely\" + 0.018*\"rent\" + 0.018*\"per_night\" + 0.016*\"housekeeper\" + 0.013*\"sister\"'),\n",
              " (133,\n",
              "  '0.023*\"manager\" + 0.020*\"call\" + 0.019*\"leave\" + 0.019*\"tell\" + 0.017*\"happen\" + 0.016*\"know\" + 0.014*\"ask\" + 0.012*\"give\" + 0.012*\"man\" + 0.012*\"security\"'),\n",
              " (134,\n",
              "  '0.059*\"delano\" + 0.030*\"mattress\" + 0.028*\"brilliant\" + 0.026*\"mandalay_bay\" + 0.021*\"queue\" + 0.020*\"bed\" + 0.019*\"suite\" + 0.018*\"facility\" + 0.013*\"reception\" + 0.012*\"lovely\"'),\n",
              " (135,\n",
              "  '0.066*\"player\" + 0.049*\"blackjack\" + 0.024*\"taxi_line\" + 0.020*\"scent\" + 0.014*\"elegance\" + 0.014*\"soooo\" + 0.013*\"provide\" + 0.011*\"never\" + 0.010*\"quite_expensive\" + 0.010*\"tree\"'),\n",
              " (136,\n",
              "  '0.039*\"totally\" + 0.025*\"2_queen_bed\" + 0.024*\"dining_option\" + 0.023*\"house_keeping\" + 0.018*\"total_reward\" + 0.018*\"manage\" + 0.016*\"visit\" + 0.016*\"reward\" + 0.016*\"many\" + 0.015*\"choice\"'),\n",
              " (137,\n",
              "  '0.039*\"step\" + 0.027*\"2\" + 0.026*\"wet\" + 0.023*\"50\" + 0.021*\"box\" + 0.017*\"separate_bath_shower\" + 0.016*\"minor_issue\" + 0.013*\"nite\" + 0.013*\"mon_ami_gabi\" + 0.011*\"still\"'),\n",
              " (138,\n",
              "  '0.050*\"fun\" + 0.027*\"family\" + 0.023*\"kid\" + 0.018*\"adult\" + 0.017*\"24\" + 0.017*\"buffet\" + 0.016*\"play\" + 0.016*\"spectacular_view\" + 0.015*\"trip\" + 0.015*\"night_life\"'),\n",
              " (139,\n",
              "  '0.034*\"swimming_pool\" + 0.029*\"per\" + 0.023*\"coffee_machine\" + 0.022*\"waste_time\" + 0.020*\"plate\" + 0.018*\"breeze\" + 0.017*\"whilst\" + 0.017*\"four\" + 0.015*\"13\" + 0.013*\"wave\"'),\n",
              " (140,\n",
              "  '0.044*\"difficult\" + 0.033*\"central_location\" + 0.024*\"fight\" + 0.018*\"expectation\" + 0.018*\"centre_strip\" + 0.017*\"indigo_tower\" + 0.016*\"neglect\" + 0.015*\"clock\" + 0.014*\"cabinet\" + 0.014*\"seem\"'),\n",
              " (141,\n",
              "  '0.069*\"wish\" + 0.047*\"excalibur\" + 0.043*\"new_york_new_york\" + 0.042*\"tram\" + 0.019*\"would_definitely_recommend\" + 0.017*\"locate\" + 0.015*\"bit\" + 0.014*\"friendly_staff\" + 0.014*\"mandalay_bay\" + 0.014*\"beat\"'),\n",
              " (142,\n",
              "  '0.061*\"excalibur\" + 0.059*\"visit_las_vegas\" + 0.023*\"12\" + 0.022*\"husband\" + 0.019*\"outdate\" + 0.019*\"friend\" + 0.018*\"year\" + 0.015*\"next\" + 0.013*\"travel\" + 0.013*\"20_year\"'),\n",
              " (143,\n",
              "  '0.034*\"complain\" + 0.033*\"smoking\" + 0.021*\"could_hear\" + 0.017*\"comfy_bed\" + 0.014*\"newly_renovate\" + 0.013*\"loud\" + 0.012*\"bad\" + 0.012*\"bed\" + 0.011*\"music\" + 0.011*\"kinda\"'),\n",
              " (144,\n",
              "  '0.055*\"ny_ny\" + 0.044*\"nyny\" + 0.036*\"red\" + 0.023*\"sushi\" + 0.020*\"wardrobe\" + 0.014*\"11_a.m.\" + 0.013*\"little_slow\" + 0.012*\"transfer\" + 0.012*\"eat\" + 0.012*\"nobu\"'),\n",
              " (145,\n",
              "  '0.068*\"luggage\" + 0.023*\"till\" + 0.023*\"sls\" + 0.022*\"boss\" + 0.020*\"construction_site\" + 0.017*\"suitable\" + 0.015*\"window\" + 0.015*\"deliver\" + 0.014*\"piece\" + 0.013*\"menu\"'),\n",
              " (146,\n",
              "  '0.044*\"particular\" + 0.029*\"furnishing\" + 0.024*\"unit\" + 0.016*\"renovated\" + 0.016*\"concierge_desk\" + 0.013*\"right_middle_action\" + 0.012*\"need_replace\" + 0.011*\"appreciate\" + 0.011*\"noodles\" + 0.011*\"overcharge\"'),\n",
              " (147,\n",
              "  '0.028*\"since_last\" + 0.019*\"bell\" + 0.019*\"crap_table\" + 0.018*\"steakhouse\" + 0.016*\"table\" + 0.014*\"penthouse\" + 0.013*\"brain\" + 0.013*\"visit\" + 0.013*\"two\" + 0.013*\"use_fitness_center\"'),\n",
              " (148,\n",
              "  '0.040*\"guess\" + 0.038*\"smoke_free\" + 0.033*\"nice_touch\" + 0.026*\"normally\" + 0.026*\"lol\" + 0.026*\"direction\" + 0.026*\"lead\" + 0.014*\"min\" + 0.014*\"every\" + 0.013*\"facility\"'),\n",
              " (149,\n",
              "  '0.129*\"tropicana\" + 0.024*\"checkin\" + 0.019*\"casino_host\" + 0.017*\"hilton\" + 0.012*\"close\" + 0.011*\"pain\" + 0.010*\"trop\" + 0.010*\"trust\" + 0.010*\"visit\" + 0.009*\"mgm_grand\"'),\n",
              " (150,\n",
              "  '0.030*\"airport\" + 0.026*\"resort_credit\" + 0.026*\"tea\" + 0.019*\"usd\" + 0.019*\"inconvenient\" + 0.017*\"fortunately\" + 0.015*\"limo\" + 0.013*\"plane\" + 0.013*\"suppose\" + 0.012*\"north\"'),\n",
              " (151,\n",
              "  '0.069*\"luxury\" + 0.034*\"level\" + 0.033*\"spa\" + 0.029*\"arrival\" + 0.028*\"review\" + 0.026*\"book\" + 0.026*\"read\" + 0.025*\"year_ago\" + 0.024*\"together\" + 0.024*\"aria\"'),\n",
              " (152,\n",
              "  '0.049*\"across_street\" + 0.024*\"walgreens\" + 0.023*\"brand\" + 0.023*\"worth_money\" + 0.022*\"broken\" + 0.017*\"bland\" + 0.016*\"glass\" + 0.016*\"suggestion\" + 0.015*\"town\" + 0.014*\"palazzo_venetian\"'),\n",
              " (153,\n",
              "  '0.036*\"limited\" + 0.034*\"food_option\" + 0.029*\"deli\" + 0.022*\"pricey\" + 0.022*\"right_next_door\" + 0.014*\"slam\" + 0.013*\"vdara\" + 0.013*\"suite\" + 0.011*\"aria_bellagio\" + 0.011*\"west\"'),\n",
              " (154,\n",
              "  '0.048*\"win\" + 0.037*\"next_trip\" + 0.025*\"benefit\" + 0.017*\"gambler\" + 0.017*\"consistent\" + 0.017*\"big_deal\" + 0.015*\"super_friendly\" + 0.015*\"money\" + 0.014*\"drunk\" + 0.013*\"wifi_work\"'),\n",
              " (155,\n",
              "  '0.021*\"6th_floor\" + 0.019*\"throw\" + 0.018*\"vacuum\" + 0.014*\"blow\" + 0.011*\"whatsoever\" + 0.011*\"charge\" + 0.011*\"silly\" + 0.011*\"doorman\" + 0.010*\"smell\" + 0.010*\"carpet\"'),\n",
              " (156,\n",
              "  '0.024*\"needless_say\" + 0.021*\"pay\" + 0.021*\"tourist\" + 0.017*\"resort_fee\" + 0.014*\"allow\" + 0.013*\"free\" + 0.012*\"ruin\" + 0.012*\"charge\" + 0.011*\"inconvenience\" + 0.010*\"ave\"'),\n",
              " (157,\n",
              "  '0.066*\"daughter\" + 0.029*\"checkout\" + 0.021*\"excited\" + 0.021*\"south_end_strip\" + 0.021*\"sofa\" + 0.019*\"whenever\" + 0.015*\"typical_vegas\" + 0.015*\"adjoining\" + 0.015*\"sense\" + 0.015*\"excitement\"'),\n",
              " (158,\n",
              "  '0.033*\"story\" + 0.032*\"harrah\" + 0.026*\"augustus_tower\" + 0.018*\"energy\" + 0.016*\"purchase\" + 0.014*\"numerous\" + 0.014*\"shop\" + 0.012*\"mine\" + 0.011*\"inside\" + 0.010*\"would_happily_stay\"'),\n",
              " (159,\n",
              "  '0.054*\"poker\" + 0.031*\"towards\" + 0.020*\"penny_slot\" + 0.018*\"30_min\" + 0.017*\"sole\" + 0.015*\"complimentary_water\" + 0.015*\"close_5_p.m.\" + 0.014*\"bass\" + 0.012*\"o\\'shea_\\'s\" + 0.011*\"fantasy\"'),\n",
              " (160,\n",
              "  '0.038*\"satisfied\" + 0.036*\"select\" + 0.035*\"pit_boss\" + 0.024*\"30\" + 0.024*\"21st_floor\" + 0.023*\"priority\" + 0.017*\"without_doubt\" + 0.014*\"famous\" + 0.012*\"deck\" + 0.010*\"collection\"'),\n",
              " (161,\n",
              "  '0.041*\"ideal\" + 0.039*\"layout\" + 0.035*\"visitor\" + 0.030*\"corridor\" + 0.027*\"soft\" + 0.026*\"must_say\" + 0.017*\"decision\" + 0.017*\"convention_center\" + 0.016*\"bed\" + 0.016*\"cab\"'),\n",
              " (162,\n",
              "  '0.017*\"yell\" + 0.016*\"weight\" + 0.016*\"paper\" + 0.016*\"create\" + 0.013*\"work\" + 0.013*\"telephone\" + 0.011*\"never\" + 0.010*\"act_like\" + 0.010*\"come\" + 0.010*\"annoyed\"'),\n",
              " (163,\n",
              "  '0.096*\"super\" + 0.035*\"fancy\" + 0.027*\"vip\" + 0.027*\"ton\" + 0.026*\"hot_tub\" + 0.024*\"big\" + 0.021*\"improvement\" + 0.018*\"else\" + 0.018*\"10\" + 0.016*\"night_club\"'),\n",
              " (164,\n",
              "  '0.020*\"double_sink\" + 0.018*\"transportation\" + 0.018*\"sunken_living\" + 0.018*\"plenty\" + 0.018*\"25th_floor\" + 0.017*\"twin\" + 0.017*\"large\" + 0.015*\"guard\" + 0.014*\"area\" + 0.014*\"vast\"'),\n",
              " (165,\n",
              "  '0.032*\"café\" + 0.020*\"swim\" + 0.019*\"pot\" + 0.018*\"17th_floor\" + 0.017*\"log\" + 0.013*\"agree\" + 0.012*\"fire\" + 0.011*\"coffe\" + 0.011*\"close_airport\" + 0.011*\"although\"'),\n",
              " (166,\n",
              "  '0.034*\"diamond\" + 0.026*\"star\" + 0.021*\"de\" + 0.017*\"stock\" + 0.017*\"consistently\" + 0.012*\"reviewer\" + 0.012*\"expect\" + 0.011*\"airplane\" + 0.010*\"charming\" + 0.010*\"seem\"'),\n",
              " (167,\n",
              "  '0.073*\"construction\" + 0.053*\"n\" + 0.019*\"cleaner\" + 0.017*\"double_queen\" + 0.014*\"3rd_floor\" + 0.014*\"free_wi_fi\" + 0.013*\"midnight\" + 0.013*\"fashion\" + 0.012*\"2_double_bed\" + 0.011*\"pool_deck\"'),\n",
              " (168,\n",
              "  '0.069*\"horrible\" + 0.033*\"gold\" + 0.019*\"stand_line\" + 0.017*\"line\" + 0.016*\"june_2015\" + 0.014*\"everything_else\" + 0.013*\"knowledgeable\" + 0.012*\"need_renovation\" + 0.010*\"pick_key\" + 0.010*\"still\"'),\n",
              " (169,\n",
              "  '0.088*\"aria\" + 0.029*\"mgm\" + 0.024*\"area\" + 0.024*\"taxi\" + 0.017*\"modern\" + 0.017*\"chair\" + 0.016*\"visit\" + 0.015*\"complex\" + 0.015*\"west_wing\" + 0.015*\"pool_area\"'),\n",
              " (170,\n",
              "  '0.023*\"tell\" + 0.016*\"arrive\" + 0.015*\"ask\" + 0.015*\"leave\" + 0.015*\"give\" + 0.014*\"wait\" + 0.014*\"call\" + 0.014*\"finally\" + 0.013*\"hour\" + 0.013*\"come\"'),\n",
              " (171,\n",
              "  '0.088*\"harrah_\\'s\" + 0.046*\"property\" + 0.024*\"visit\" + 0.018*\"entertainment\" + 0.017*\"make_feel_like\" + 0.017*\"nightlife\" + 0.016*\"many\" + 0.014*\"look_forward_next\" + 0.013*\"top_notch\" + 0.012*\"business_trip\"'),\n",
              " (172,\n",
              "  '0.047*\"question\" + 0.036*\"several_time\" + 0.032*\"non\" + 0.025*\"flower\" + 0.022*\"smooth\" + 0.021*\"$_200\" + 0.019*\"young_crowd\" + 0.019*\"beautiful\" + 0.015*\"venetian_palazzo\" + 0.015*\"nothing_else\"'),\n",
              " (173,\n",
              "  '0.122*\"flamingo\" + 0.082*\"linq\" + 0.041*\"new\" + 0.025*\"renovation\" + 0.025*\"old\" + 0.023*\"every_year\" + 0.017*\"renovate\" + 0.016*\"fun\" + 0.014*\"close\" + 0.013*\"elevator\"'),\n",
              " (174,\n",
              "  '0.084*\"slot_machine\" + 0.044*\"gorgeous\" + 0.032*\"fab\" + 0.018*\"replace\" + 0.016*\"28th_floor\" + 0.016*\"dry\" + 0.015*\"four_day\" + 0.014*\"lovely\" + 0.012*\"irish_bar\" + 0.012*\"replacement\"'),\n",
              " (175,\n",
              "  '0.036*\"forum_shops\" + 0.033*\"register\" + 0.029*\"possibly\" + 0.018*\"carnival_court\" + 0.018*\"say_hello\" + 0.014*\"scary\" + 0.014*\"following_morning\" + 0.012*\"rotate\" + 0.010*\"bad\" + 0.010*\"negative_review\"'),\n",
              " (176,\n",
              "  '0.024*\"simple\" + 0.024*\"dated\" + 0.023*\"work\" + 0.020*\"initially\" + 0.015*\"info\" + 0.014*\"confusing\" + 0.014*\"figure\" + 0.011*\"manage\" + 0.011*\"sound_like\" + 0.011*\"wifi\"'),\n",
              " (177,\n",
              "  '0.175*\"elevator\" + 0.049*\"floor\" + 0.018*\"work\" + 0.016*\"button\" + 0.014*\"conference\" + 0.012*\"close\" + 0.012*\"grand\" + 0.011*\"open\" + 0.009*\"long\" + 0.009*\"staff_courteous\"'),\n",
              " (178,\n",
              "  '0.026*\"yummy\" + 0.025*\"opposite\" + 0.024*\"buy\" + 0.022*\"gift_shop\" + 0.022*\"right_middle_strip\" + 0.013*\"side\" + 0.013*\"drink\" + 0.013*\"across_road\" + 0.012*\"cheap\" + 0.012*\"eat\"'),\n",
              " (179,\n",
              "  '0.022*\"bed_linen\" + 0.022*\"central_location_strip\" + 0.019*\"2_device\" + 0.019*\"hook\" + 0.017*\"account\" + 0.016*\"initial\" + 0.016*\"inquire\" + 0.014*\"3_a.m.\" + 0.012*\"15_minute\" + 0.012*\"past_year\"'),\n",
              " (180,\n",
              "  '0.030*\"immaculate\" + 0.028*\"elegant\" + 0.024*\"superb\" + 0.019*\"décor\" + 0.019*\"celebration\" + 0.017*\"oasis\" + 0.016*\"beautiful\" + 0.016*\"extend\" + 0.015*\"waterfall\" + 0.014*\"amazing\"'),\n",
              " (181,\n",
              "  '0.028*\"dust\" + 0.026*\"majority\" + 0.019*\"20th_floor\" + 0.017*\"stage\" + 0.017*\"baby\" + 0.016*\"end\" + 0.014*\"house_keep\" + 0.014*\"rug\" + 0.013*\"mistake\" + 0.013*\"never_disappoint\"'),\n",
              " (182,\n",
              "  '0.033*\"shut\" + 0.030*\"pay\" + 0.027*\"coupon\" + 0.018*\"earn\" + 0.016*\"right_middle_everything\" + 0.014*\"money\" + 0.012*\"free\" + 0.012*\"$\" + 0.012*\"never_hear\" + 0.012*\"20_min\"'),\n",
              " (183,\n",
              "  '0.126*\"monte_carlo\" + 0.041*\"burger\" + 0.033*\"center\" + 0.021*\"suite\" + 0.020*\"celebrate\" + 0.019*\"fourth\" + 0.017*\"smoky\" + 0.010*\"perfect\" + 0.009*\"60\" + 0.009*\"close\"'),\n",
              " (184,\n",
              "  '0.055*\"wedding\" + 0.034*\"round\" + 0.026*\"perfectly\" + 0.026*\"sweet\" + 0.020*\"gambling\" + 0.019*\"mountain_view\" + 0.018*\"tacky\" + 0.017*\"pizza_place\" + 0.015*\"penny\" + 0.015*\"sister_law\"'),\n",
              " (185,\n",
              "  '0.092*\"mgm\" + 0.016*\"monorail\" + 0.015*\"drink\" + 0.015*\"4:30\" + 0.014*\"plan_return\" + 0.013*\"iphone\" + 0.012*\"tournament_king\" + 0.012*\"buy\" + 0.012*\"product\" + 0.010*\"cash\"'),\n",
              " (186,\n",
              "  '0.042*\"truly\" + 0.027*\"surround\" + 0.025*\"courteous\" + 0.020*\"cozy\" + 0.020*\"five_star\" + 0.016*\"hopefully\" + 0.016*\"trip\" + 0.015*\"amazing\" + 0.014*\"september\" + 0.013*\"4th\"'),\n",
              " (187,\n",
              "  '0.035*\"suite\" + 0.033*\"bedroom\" + 0.028*\"bath\" + 0.023*\"starbuck\" + 0.022*\"child\" + 0.020*\"tower\" + 0.019*\"large\" + 0.019*\"shower\" + 0.019*\"living\" + 0.014*\"tower_1\"'),\n",
              " (188,\n",
              "  '0.024*\"golf\" + 0.019*\"actual\" + 0.018*\"art\" + 0.018*\"gordon_ramsey\" + 0.018*\"anymore\" + 0.016*\"riviera\" + 0.016*\"shall\" + 0.015*\"absolutely_amazing\" + 0.015*\"final\" + 0.015*\"permeate\"'),\n",
              " (189,\n",
              "  '0.030*\"tour\" + 0.027*\"gift\" + 0.027*\"phenomenal\" + 0.023*\"act\" + 0.022*\"december\" + 0.019*\"interested\" + 0.018*\"mostly\" + 0.015*\"45_minute\" + 0.015*\"rent_car\" + 0.013*\"dining\"'),\n",
              " (190,\n",
              "  '0.035*\"aria\" + 0.028*\"vdara\" + 0.023*\"personable\" + 0.019*\"decoration\" + 0.018*\"useful\" + 0.015*\"huge\" + 0.014*\"premise\" + 0.013*\"paradise\" + 0.013*\"nicely_decorate\" + 0.012*\"panoramic_view\"'),\n",
              " (191,\n",
              "  '0.045*\"upscale\" + 0.035*\"club\" + 0.030*\"spend_money\" + 0.025*\"casual\" + 0.020*\"property\" + 0.019*\"directly\" + 0.018*\"establishment\" + 0.015*\"wise\" + 0.012*\"wait_line\" + 0.010*\"many\"'),\n",
              " (192,\n",
              "  '0.113*\"luxor\" + 0.022*\"wi_fi\" + 0.020*\"fry\" + 0.018*\"curtain\" + 0.017*\"chicken\" + 0.017*\"breakfast\" + 0.015*\"big_plus\" + 0.013*\"season\" + 0.012*\"listen\" + 0.011*\"lunch_dinner\"'),\n",
              " (193,\n",
              "  '0.047*\"wow\" + 0.024*\"hip\" + 0.024*\"blackjack_table\" + 0.022*\"chaos\" + 0.019*\"relaxed\" + 0.019*\"club\" + 0.019*\"scene\" + 0.016*\"overlook\" + 0.015*\"bed_super_comfy\" + 0.014*\"pink\"'),\n",
              " (194,\n",
              "  '0.053*\"smoke\" + 0.018*\"collect\" + 0.017*\"motel\" + 0.017*\"smoker\" + 0.017*\"deep\" + 0.015*\"little_dated\" + 0.014*\"smell_smoke\" + 0.012*\"albeit\" + 0.011*\"noticeable\" + 0.011*\"slide\"'),\n",
              " (195,\n",
              "  '0.025*\"literally\" + 0.024*\"10_minute\" + 0.024*\"depend\" + 0.020*\"spread\" + 0.020*\"elevator\" + 0.017*\"bottom\" + 0.017*\"crack\" + 0.016*\"desk\" + 0.015*\"bad\" + 0.014*\"floor\"'),\n",
              " (196,\n",
              "  '0.073*\"family\" + 0.053*\"kid\" + 0.031*\"sport_book\" + 0.029*\"venue\" + 0.019*\"hash_house\" + 0.018*\"attention\" + 0.017*\"get_marry\" + 0.014*\"outrageous\" + 0.012*\"technology\" + 0.012*\"girlfriend\"'),\n",
              " (197,\n",
              "  '0.023*\"deserve\" + 0.021*\"neither\" + 0.018*\"compensate\" + 0.017*\"shirt\" + 0.014*\"steam\" + 0.013*\"seating_area\" + 0.012*\"think\" + 0.012*\"asian\" + 0.012*\"turn\" + 0.011*\"formerly\"'),\n",
              " (198,\n",
              "  '0.025*\"nothing_special\" + 0.020*\"beach\" + 0.014*\"beer\" + 0.013*\"close\" + 0.013*\"hang\" + 0.013*\"dead\" + 0.012*\"seem\" + 0.012*\"nothing_fancy\" + 0.012*\"regret\" + 0.011*\"cross\"'),\n",
              " (199,\n",
              "  '0.017*\"car\" + 0.015*\"free_wifi\" + 0.014*\"slot_play\" + 0.012*\"follow\" + 0.011*\"employee\" + 0.011*\"repeat\" + 0.011*\"give\" + 0.010*\"bring\" + 0.010*\"guest\" + 0.010*\"come\"')]"
            ]
          },
          "metadata": {},
          "execution_count": 154
        }
      ]
    },
    {
      "cell_type": "markdown",
      "metadata": {
        "id": "6U3JciILEMeC"
      },
      "source": [
        "**Answer this**\n",
        "\n",
        "Pick 3 topics that you can label. Explain your label choice. \n",
        "\n",
        "1. \n",
        "2. \n",
        "3. \n",
        "\n",
        "**Answer here**\n"
      ]
    },
    {
      "cell_type": "markdown",
      "metadata": {
        "id": "Fot5FBuqgXlS"
      },
      "source": [
        "**Explore topics**"
      ]
    },
    {
      "cell_type": "code",
      "metadata": {
        "id": "vZjF2FwxdoyO"
      },
      "source": [
        "# predict back the topic weights on each review\n",
        "df['topic_probs'] = df.parsed.str.split().apply(lambda x: dict(lda[dictionary.doc2bow(x)]))\n"
      ],
      "execution_count": null,
      "outputs": []
    },
    {
      "cell_type": "code",
      "metadata": {
        "id": "mE9KzQ4de2Zj"
      },
      "source": [
        "# create top_k  columns for k = 0,...,ntopics\n",
        "# where top_k is the probability of each review representing topic k\n",
        "for t in range(ntopics):\n",
        "    df['top_{}'.format(t)] = df.topic_probs.apply(lambda x: x.get(t))\n"
      ],
      "execution_count": null,
      "outputs": []
    },
    {
      "cell_type": "code",
      "metadata": {
        "id": "0qv7ZdF_gjJz"
      },
      "source": [
        "# create a variable that contains the list of top_k column names\n",
        "topiccols = ['top_{}'.format(t) for t in range(ntopics)]"
      ],
      "execution_count": null,
      "outputs": []
    },
    {
      "cell_type": "markdown",
      "metadata": {
        "id": "JTBfBlNFDTk5"
      },
      "source": [
        "### Topics by travel category"
      ]
    },
    {
      "cell_type": "code",
      "metadata": {
        "id": "1dHOt9qyf2EX"
      },
      "source": [
        "# for each travel category, compute the average of all the topiccols \n",
        "# use .T at the end to transpose (i.e. rotate 90 deg) the dataframe\n",
        "topicmeans = df.groupby('travel_category')[topiccols].mean().T"
      ],
      "execution_count": null,
      "outputs": []
    },
    {
      "cell_type": "code",
      "metadata": {
        "id": "4oNf5GcIimiF",
        "colab": {
          "base_uri": "https://localhost:8080/",
          "height": 206
        },
        "outputId": "f8ce2694-d6df-4fa0-cfd0-f0d26afa9d97"
      },
      "source": [
        "# preview the topicmeans dataframe\n",
        "topicmeans.head()"
      ],
      "execution_count": null,
      "outputs": [
        {
          "output_type": "execute_result",
          "data": {
            "text/html": [
              "<div>\n",
              "<style scoped>\n",
              "    .dataframe tbody tr th:only-of-type {\n",
              "        vertical-align: middle;\n",
              "    }\n",
              "\n",
              "    .dataframe tbody tr th {\n",
              "        vertical-align: top;\n",
              "    }\n",
              "\n",
              "    .dataframe thead th {\n",
              "        text-align: right;\n",
              "    }\n",
              "</style>\n",
              "<table border=\"1\" class=\"dataframe\">\n",
              "  <thead>\n",
              "    <tr style=\"text-align: right;\">\n",
              "      <th>travel_category</th>\n",
              "      <th>business</th>\n",
              "      <th>couple</th>\n",
              "      <th>family</th>\n",
              "      <th>friends</th>\n",
              "      <th>solo</th>\n",
              "    </tr>\n",
              "  </thead>\n",
              "  <tbody>\n",
              "    <tr>\n",
              "      <th>top_0</th>\n",
              "      <td>0.003162</td>\n",
              "      <td>0.004148</td>\n",
              "      <td>0.003532</td>\n",
              "      <td>0.004040</td>\n",
              "      <td>0.004107</td>\n",
              "    </tr>\n",
              "    <tr>\n",
              "      <th>top_1</th>\n",
              "      <td>0.008604</td>\n",
              "      <td>0.007319</td>\n",
              "      <td>0.006727</td>\n",
              "      <td>0.006284</td>\n",
              "      <td>0.006187</td>\n",
              "    </tr>\n",
              "    <tr>\n",
              "      <th>top_2</th>\n",
              "      <td>0.005361</td>\n",
              "      <td>0.004539</td>\n",
              "      <td>0.005585</td>\n",
              "      <td>0.004494</td>\n",
              "      <td>0.005361</td>\n",
              "    </tr>\n",
              "    <tr>\n",
              "      <th>top_3</th>\n",
              "      <td>0.004504</td>\n",
              "      <td>0.005962</td>\n",
              "      <td>0.006183</td>\n",
              "      <td>0.006248</td>\n",
              "      <td>0.007575</td>\n",
              "    </tr>\n",
              "    <tr>\n",
              "      <th>top_4</th>\n",
              "      <td>0.003211</td>\n",
              "      <td>0.005961</td>\n",
              "      <td>0.005291</td>\n",
              "      <td>0.004963</td>\n",
              "      <td>0.006417</td>\n",
              "    </tr>\n",
              "  </tbody>\n",
              "</table>\n",
              "</div>"
            ],
            "text/plain": [
              "travel_category  business    couple    family   friends      solo\n",
              "top_0            0.003162  0.004148  0.003532  0.004040  0.004107\n",
              "top_1            0.008604  0.007319  0.006727  0.006284  0.006187\n",
              "top_2            0.005361  0.004539  0.005585  0.004494  0.005361\n",
              "top_3            0.004504  0.005962  0.006183  0.006248  0.007575\n",
              "top_4            0.003211  0.005961  0.005291  0.004963  0.006417"
            ]
          },
          "metadata": {},
          "execution_count": 160
        }
      ]
    },
    {
      "cell_type": "code",
      "metadata": {
        "id": "o2iUpoPTisxC",
        "colab": {
          "base_uri": "https://localhost:8080/",
          "height": 424
        },
        "outputId": "e880191d-4fe4-41a3-f073-7307e8d56b7f"
      },
      "source": [
        "# use sort_values on topicmeans to find the common topic among solo travelers\n",
        "# use ascending = False option in sort_values to sort from largest to smallest\n",
        "topicmeans.sort_values(by = 'solo', ascending = False)"
      ],
      "execution_count": null,
      "outputs": [
        {
          "output_type": "execute_result",
          "data": {
            "text/html": [
              "<div>\n",
              "<style scoped>\n",
              "    .dataframe tbody tr th:only-of-type {\n",
              "        vertical-align: middle;\n",
              "    }\n",
              "\n",
              "    .dataframe tbody tr th {\n",
              "        vertical-align: top;\n",
              "    }\n",
              "\n",
              "    .dataframe thead th {\n",
              "        text-align: right;\n",
              "    }\n",
              "</style>\n",
              "<table border=\"1\" class=\"dataframe\">\n",
              "  <thead>\n",
              "    <tr style=\"text-align: right;\">\n",
              "      <th>travel_category</th>\n",
              "      <th>business</th>\n",
              "      <th>couple</th>\n",
              "      <th>family</th>\n",
              "      <th>friends</th>\n",
              "      <th>solo</th>\n",
              "    </tr>\n",
              "  </thead>\n",
              "  <tbody>\n",
              "    <tr>\n",
              "      <th>top_67</th>\n",
              "      <td>0.009245</td>\n",
              "      <td>0.012415</td>\n",
              "      <td>0.012284</td>\n",
              "      <td>0.018249</td>\n",
              "      <td>0.017116</td>\n",
              "    </tr>\n",
              "    <tr>\n",
              "      <th>top_173</th>\n",
              "      <td>0.007578</td>\n",
              "      <td>0.011969</td>\n",
              "      <td>0.012302</td>\n",
              "      <td>0.016686</td>\n",
              "      <td>0.015377</td>\n",
              "    </tr>\n",
              "    <tr>\n",
              "      <th>top_113</th>\n",
              "      <td>0.008157</td>\n",
              "      <td>0.009483</td>\n",
              "      <td>0.009496</td>\n",
              "      <td>0.010396</td>\n",
              "      <td>0.012288</td>\n",
              "    </tr>\n",
              "    <tr>\n",
              "      <th>top_50</th>\n",
              "      <td>0.008777</td>\n",
              "      <td>0.009755</td>\n",
              "      <td>0.009245</td>\n",
              "      <td>0.009713</td>\n",
              "      <td>0.011308</td>\n",
              "    </tr>\n",
              "    <tr>\n",
              "      <th>top_74</th>\n",
              "      <td>0.005364</td>\n",
              "      <td>0.008172</td>\n",
              "      <td>0.010337</td>\n",
              "      <td>0.009571</td>\n",
              "      <td>0.011094</td>\n",
              "    </tr>\n",
              "    <tr>\n",
              "      <th>...</th>\n",
              "      <td>...</td>\n",
              "      <td>...</td>\n",
              "      <td>...</td>\n",
              "      <td>...</td>\n",
              "      <td>...</td>\n",
              "    </tr>\n",
              "    <tr>\n",
              "      <th>top_80</th>\n",
              "      <td>0.002479</td>\n",
              "      <td>0.002800</td>\n",
              "      <td>0.002525</td>\n",
              "      <td>0.002590</td>\n",
              "      <td>0.002344</td>\n",
              "    </tr>\n",
              "    <tr>\n",
              "      <th>top_175</th>\n",
              "      <td>0.002142</td>\n",
              "      <td>0.002037</td>\n",
              "      <td>0.002197</td>\n",
              "      <td>0.002088</td>\n",
              "      <td>0.002329</td>\n",
              "    </tr>\n",
              "    <tr>\n",
              "      <th>top_95</th>\n",
              "      <td>0.002808</td>\n",
              "      <td>0.002310</td>\n",
              "      <td>0.002298</td>\n",
              "      <td>0.002177</td>\n",
              "      <td>0.002217</td>\n",
              "    </tr>\n",
              "    <tr>\n",
              "      <th>top_65</th>\n",
              "      <td>0.002279</td>\n",
              "      <td>0.002809</td>\n",
              "      <td>0.002297</td>\n",
              "      <td>0.002594</td>\n",
              "      <td>0.002100</td>\n",
              "    </tr>\n",
              "    <tr>\n",
              "      <th>top_60</th>\n",
              "      <td>0.002048</td>\n",
              "      <td>0.002213</td>\n",
              "      <td>0.002401</td>\n",
              "      <td>0.002130</td>\n",
              "      <td>0.002012</td>\n",
              "    </tr>\n",
              "  </tbody>\n",
              "</table>\n",
              "<p>200 rows × 5 columns</p>\n",
              "</div>"
            ],
            "text/plain": [
              "travel_category  business    couple    family   friends      solo\n",
              "top_67           0.009245  0.012415  0.012284  0.018249  0.017116\n",
              "top_173          0.007578  0.011969  0.012302  0.016686  0.015377\n",
              "top_113          0.008157  0.009483  0.009496  0.010396  0.012288\n",
              "top_50           0.008777  0.009755  0.009245  0.009713  0.011308\n",
              "top_74           0.005364  0.008172  0.010337  0.009571  0.011094\n",
              "...                   ...       ...       ...       ...       ...\n",
              "top_80           0.002479  0.002800  0.002525  0.002590  0.002344\n",
              "top_175          0.002142  0.002037  0.002197  0.002088  0.002329\n",
              "top_95           0.002808  0.002310  0.002298  0.002177  0.002217\n",
              "top_65           0.002279  0.002809  0.002297  0.002594  0.002100\n",
              "top_60           0.002048  0.002213  0.002401  0.002130  0.002012\n",
              "\n",
              "[200 rows x 5 columns]"
            ]
          },
          "metadata": {},
          "execution_count": 161
        }
      ]
    },
    {
      "cell_type": "markdown",
      "metadata": {
        "id": "hpdJJ1VHjEMo"
      },
      "source": [
        "**Answer this**\n",
        "\n",
        "What is the topic ID for solo travelers' most likely review topic? **Answer**"
      ]
    },
    {
      "cell_type": "code",
      "metadata": {
        "id": "MWLWEjBji8hr",
        "colab": {
          "base_uri": "https://localhost:8080/",
          "height": 346
        },
        "outputId": "e5ab8cb3-9755-40c7-ff1b-48665b10182f"
      },
      "source": [
        "# take a look at the top solo traveler topic\n",
        "top_solo = ... # use the most common solo traveler topic ID here\n",
        "pd.DataFrame(lda.show_topic(top_solo))"
      ],
      "execution_count": null,
      "outputs": [
        {
          "output_type": "error",
          "ename": "IndexError",
          "evalue": "ignored",
          "traceback": [
            "\u001b[0;31m---------------------------------------------------------------------------\u001b[0m",
            "\u001b[0;31mIndexError\u001b[0m                                Traceback (most recent call last)",
            "\u001b[0;32m<ipython-input-162-9234f231deb5>\u001b[0m in \u001b[0;36m<module>\u001b[0;34m()\u001b[0m\n\u001b[1;32m      1\u001b[0m \u001b[0;31m# take a look at the top solo traveler topic\u001b[0m\u001b[0;34m\u001b[0m\u001b[0;34m\u001b[0m\u001b[0;34m\u001b[0m\u001b[0m\n\u001b[1;32m      2\u001b[0m \u001b[0mtop_solo\u001b[0m \u001b[0;34m=\u001b[0m \u001b[0;34m...\u001b[0m \u001b[0;31m# use the most common solo traveler topic ID here\u001b[0m\u001b[0;34m\u001b[0m\u001b[0;34m\u001b[0m\u001b[0m\n\u001b[0;32m----> 3\u001b[0;31m \u001b[0mpd\u001b[0m\u001b[0;34m.\u001b[0m\u001b[0mDataFrame\u001b[0m\u001b[0;34m(\u001b[0m\u001b[0mlda\u001b[0m\u001b[0;34m.\u001b[0m\u001b[0mshow_topic\u001b[0m\u001b[0;34m(\u001b[0m\u001b[0mtop_solo\u001b[0m\u001b[0;34m)\u001b[0m\u001b[0;34m)\u001b[0m\u001b[0;34m\u001b[0m\u001b[0;34m\u001b[0m\u001b[0m\n\u001b[0m",
            "\u001b[0;32m/usr/local/lib/python3.7/dist-packages/gensim/models/ldamodel.py\u001b[0m in \u001b[0;36mshow_topic\u001b[0;34m(self, topicid, topn)\u001b[0m\n\u001b[1;32m   1171\u001b[0m \u001b[0;34m\u001b[0m\u001b[0m\n\u001b[1;32m   1172\u001b[0m         \"\"\"\n\u001b[0;32m-> 1173\u001b[0;31m         \u001b[0;32mreturn\u001b[0m \u001b[0;34m[\u001b[0m\u001b[0;34m(\u001b[0m\u001b[0mself\u001b[0m\u001b[0;34m.\u001b[0m\u001b[0mid2word\u001b[0m\u001b[0;34m[\u001b[0m\u001b[0mid\u001b[0m\u001b[0;34m]\u001b[0m\u001b[0;34m,\u001b[0m \u001b[0mvalue\u001b[0m\u001b[0;34m)\u001b[0m \u001b[0;32mfor\u001b[0m \u001b[0mid\u001b[0m\u001b[0;34m,\u001b[0m \u001b[0mvalue\u001b[0m \u001b[0;32min\u001b[0m \u001b[0mself\u001b[0m\u001b[0;34m.\u001b[0m\u001b[0mget_topic_terms\u001b[0m\u001b[0;34m(\u001b[0m\u001b[0mtopicid\u001b[0m\u001b[0;34m,\u001b[0m \u001b[0mtopn\u001b[0m\u001b[0;34m)\u001b[0m\u001b[0;34m]\u001b[0m\u001b[0;34m\u001b[0m\u001b[0;34m\u001b[0m\u001b[0m\n\u001b[0m\u001b[1;32m   1174\u001b[0m \u001b[0;34m\u001b[0m\u001b[0m\n\u001b[1;32m   1175\u001b[0m     \u001b[0;32mdef\u001b[0m \u001b[0mget_topics\u001b[0m\u001b[0;34m(\u001b[0m\u001b[0mself\u001b[0m\u001b[0;34m)\u001b[0m\u001b[0;34m:\u001b[0m\u001b[0;34m\u001b[0m\u001b[0;34m\u001b[0m\u001b[0m\n",
            "\u001b[0;32m/usr/local/lib/python3.7/dist-packages/gensim/models/ldamodel.py\u001b[0m in \u001b[0;36mget_topic_terms\u001b[0;34m(self, topicid, topn)\u001b[0m\n\u001b[1;32m   1206\u001b[0m         \u001b[0mtopic\u001b[0m \u001b[0;34m=\u001b[0m \u001b[0mtopic\u001b[0m \u001b[0;34m/\u001b[0m \u001b[0mtopic\u001b[0m\u001b[0;34m.\u001b[0m\u001b[0msum\u001b[0m\u001b[0;34m(\u001b[0m\u001b[0;34m)\u001b[0m  \u001b[0;31m# normalize to probability distribution\u001b[0m\u001b[0;34m\u001b[0m\u001b[0;34m\u001b[0m\u001b[0m\n\u001b[1;32m   1207\u001b[0m         \u001b[0mbestn\u001b[0m \u001b[0;34m=\u001b[0m \u001b[0mmatutils\u001b[0m\u001b[0;34m.\u001b[0m\u001b[0margsort\u001b[0m\u001b[0;34m(\u001b[0m\u001b[0mtopic\u001b[0m\u001b[0;34m,\u001b[0m \u001b[0mtopn\u001b[0m\u001b[0;34m,\u001b[0m \u001b[0mreverse\u001b[0m\u001b[0;34m=\u001b[0m\u001b[0;32mTrue\u001b[0m\u001b[0;34m)\u001b[0m\u001b[0;34m\u001b[0m\u001b[0;34m\u001b[0m\u001b[0m\n\u001b[0;32m-> 1208\u001b[0;31m         \u001b[0;32mreturn\u001b[0m \u001b[0;34m[\u001b[0m\u001b[0;34m(\u001b[0m\u001b[0midx\u001b[0m\u001b[0;34m,\u001b[0m \u001b[0mtopic\u001b[0m\u001b[0;34m[\u001b[0m\u001b[0midx\u001b[0m\u001b[0;34m]\u001b[0m\u001b[0;34m)\u001b[0m \u001b[0;32mfor\u001b[0m \u001b[0midx\u001b[0m \u001b[0;32min\u001b[0m \u001b[0mbestn\u001b[0m\u001b[0;34m]\u001b[0m\u001b[0;34m\u001b[0m\u001b[0;34m\u001b[0m\u001b[0m\n\u001b[0m\u001b[1;32m   1209\u001b[0m \u001b[0;34m\u001b[0m\u001b[0m\n\u001b[1;32m   1210\u001b[0m     def top_topics(self, corpus=None, texts=None, dictionary=None, window_size=None,\n",
            "\u001b[0;32m/usr/local/lib/python3.7/dist-packages/gensim/models/ldamodel.py\u001b[0m in \u001b[0;36m<listcomp>\u001b[0;34m(.0)\u001b[0m\n\u001b[1;32m   1206\u001b[0m         \u001b[0mtopic\u001b[0m \u001b[0;34m=\u001b[0m \u001b[0mtopic\u001b[0m \u001b[0;34m/\u001b[0m \u001b[0mtopic\u001b[0m\u001b[0;34m.\u001b[0m\u001b[0msum\u001b[0m\u001b[0;34m(\u001b[0m\u001b[0;34m)\u001b[0m  \u001b[0;31m# normalize to probability distribution\u001b[0m\u001b[0;34m\u001b[0m\u001b[0;34m\u001b[0m\u001b[0m\n\u001b[1;32m   1207\u001b[0m         \u001b[0mbestn\u001b[0m \u001b[0;34m=\u001b[0m \u001b[0mmatutils\u001b[0m\u001b[0;34m.\u001b[0m\u001b[0margsort\u001b[0m\u001b[0;34m(\u001b[0m\u001b[0mtopic\u001b[0m\u001b[0;34m,\u001b[0m \u001b[0mtopn\u001b[0m\u001b[0;34m,\u001b[0m \u001b[0mreverse\u001b[0m\u001b[0;34m=\u001b[0m\u001b[0;32mTrue\u001b[0m\u001b[0;34m)\u001b[0m\u001b[0;34m\u001b[0m\u001b[0;34m\u001b[0m\u001b[0m\n\u001b[0;32m-> 1208\u001b[0;31m         \u001b[0;32mreturn\u001b[0m \u001b[0;34m[\u001b[0m\u001b[0;34m(\u001b[0m\u001b[0midx\u001b[0m\u001b[0;34m,\u001b[0m \u001b[0mtopic\u001b[0m\u001b[0;34m[\u001b[0m\u001b[0midx\u001b[0m\u001b[0;34m]\u001b[0m\u001b[0;34m)\u001b[0m \u001b[0;32mfor\u001b[0m \u001b[0midx\u001b[0m \u001b[0;32min\u001b[0m \u001b[0mbestn\u001b[0m\u001b[0;34m]\u001b[0m\u001b[0;34m\u001b[0m\u001b[0;34m\u001b[0m\u001b[0m\n\u001b[0m\u001b[1;32m   1209\u001b[0m \u001b[0;34m\u001b[0m\u001b[0m\n\u001b[1;32m   1210\u001b[0m     def top_topics(self, corpus=None, texts=None, dictionary=None, window_size=None,\n",
            "\u001b[0;31mIndexError\u001b[0m: index 4247 is out of bounds for axis 0 with size 200"
          ]
        }
      ]
    },
    {
      "cell_type": "code",
      "metadata": {
        "id": "95Amq4nKjdfG"
      },
      "source": [
        "# look at the most common topic for business travelers\n"
      ],
      "execution_count": null,
      "outputs": []
    },
    {
      "cell_type": "code",
      "metadata": {
        "id": "jBiHuw5Zjdiw"
      },
      "source": [
        "# preview the most common topic for business travelers\n"
      ],
      "execution_count": null,
      "outputs": []
    },
    {
      "cell_type": "code",
      "metadata": {
        "id": "AYXRaxsRj0a7"
      },
      "source": [
        "# look at the most common topic for couples\n"
      ],
      "execution_count": null,
      "outputs": []
    },
    {
      "cell_type": "code",
      "metadata": {
        "id": "OjrQGDKijdlj"
      },
      "source": [
        "# preview the most common topic for business travelers\n"
      ],
      "execution_count": null,
      "outputs": []
    },
    {
      "cell_type": "markdown",
      "metadata": {
        "id": "hBibeypqDY53"
      },
      "source": [
        "### Topics by rating for 1 hotel"
      ]
    },
    {
      "cell_type": "code",
      "metadata": {
        "id": "kOXHaa3iEWd6",
        "colab": {
          "base_uri": "https://localhost:8080/"
        },
        "outputId": "a4c278b9-ec51-45c2-dea2-c93cb2341704"
      },
      "source": [
        "# print out unique hotels\n",
        "df.v_name.unique()"
      ],
      "execution_count": null,
      "outputs": [
        {
          "output_type": "execute_result",
          "data": {
            "text/plain": [
              "array(['Encore At Wynn Las Vegas', 'New York - New York Hotel and Casino',\n",
              "       \"Bally's Las Vegas\", 'Venetian Resort Hotel Casino',\n",
              "       'Rio All-Suite Hotel & Casino', 'Wynn Las Vegas',\n",
              "       'MGM Grand Hotel and Casino',\n",
              "       'Tropicana Las Vegas - A DoubleTree by Hilton Hotel',\n",
              "       'Excalibur Hotel & Casino', 'Monte Carlo Resort & Casino',\n",
              "       'The LINQ Hotel & Casino', 'Hard Rock Hotel and Casino',\n",
              "       'Paris Las Vegas', 'The Mirage Hotel & Casino',\n",
              "       'Trump International Hotel Las Vegas', 'Plaza Hotel & Casino',\n",
              "       'Caesars Palace', 'Luxor Las Vegas', 'Signature at MGM',\n",
              "       'Planet Hollywood Resort & Casino', 'Vdara Hotel & Spa',\n",
              "       'Golden Nugget Hotel', 'Treasure Island - TI Hotel & Casino',\n",
              "       'Stratosphere Hotel, Casino and Tower',\n",
              "       'Mandalay Bay Resort & Casino',\n",
              "       'The Cosmopolitan of Las Vegas, Autograph Collection',\n",
              "       'SLS Las Vegas Hotel & Casino', 'Bellagio Las Vegas',\n",
              "       'Circus Circus Hotel & Casino Las Vegas',\n",
              "       'Flamingo Las Vegas Hotel & Casino', 'Delano Las Vegas',\n",
              "       \"Harrah's Las Vegas\", 'The Palazzo Resort Hotel Casino',\n",
              "       'ARIA Resort & Casino'], dtype=object)"
            ]
          },
          "metadata": {},
          "execution_count": 167
        }
      ]
    },
    {
      "cell_type": "code",
      "metadata": {
        "id": "0zqKx1U4S7Dm"
      },
      "source": [
        "# pick out a hotel to analyze in detail\n",
        "hotel = 'Wynn Las Vegas'\n",
        "df_h = df.loc[df.v_name==hotel].reset_index(drop = True)"
      ],
      "execution_count": null,
      "outputs": []
    },
    {
      "cell_type": "code",
      "metadata": {
        "id": "3BdDf4WxS7F5"
      },
      "source": [
        "# compute the average topic probability for each rating level\n",
        "topicmeans = df_h.groupby('reviewrating')[topiccols].mean().T"
      ],
      "execution_count": null,
      "outputs": []
    },
    {
      "cell_type": "code",
      "metadata": {
        "id": "Z66AcGGLS7Il",
        "colab": {
          "base_uri": "https://localhost:8080/",
          "height": 424
        },
        "outputId": "f689d1ca-efd7-476e-e2df-acfe30422fcd"
      },
      "source": [
        "# look at top topics for 1 star ratings\n",
        "topicmeans.sort_values(by = 1, ascending = False)"
      ],
      "execution_count": null,
      "outputs": [
        {
          "output_type": "execute_result",
          "data": {
            "text/html": [
              "<div>\n",
              "<style scoped>\n",
              "    .dataframe tbody tr th:only-of-type {\n",
              "        vertical-align: middle;\n",
              "    }\n",
              "\n",
              "    .dataframe tbody tr th {\n",
              "        vertical-align: top;\n",
              "    }\n",
              "\n",
              "    .dataframe thead th {\n",
              "        text-align: right;\n",
              "    }\n",
              "</style>\n",
              "<table border=\"1\" class=\"dataframe\">\n",
              "  <thead>\n",
              "    <tr style=\"text-align: right;\">\n",
              "      <th>reviewrating</th>\n",
              "      <th>1</th>\n",
              "      <th>2</th>\n",
              "      <th>3</th>\n",
              "      <th>4</th>\n",
              "      <th>5</th>\n",
              "    </tr>\n",
              "  </thead>\n",
              "  <tbody>\n",
              "    <tr>\n",
              "      <th>top_133</th>\n",
              "      <td>0.089431</td>\n",
              "      <td>0.031661</td>\n",
              "      <td>0.022378</td>\n",
              "      <td>0.008828</td>\n",
              "      <td>0.006648</td>\n",
              "    </tr>\n",
              "    <tr>\n",
              "      <th>top_42</th>\n",
              "      <td>0.055427</td>\n",
              "      <td>0.012770</td>\n",
              "      <td>0.020279</td>\n",
              "      <td>0.009806</td>\n",
              "      <td>0.003155</td>\n",
              "    </tr>\n",
              "    <tr>\n",
              "      <th>top_39</th>\n",
              "      <td>0.037849</td>\n",
              "      <td>0.054600</td>\n",
              "      <td>0.047359</td>\n",
              "      <td>0.054913</td>\n",
              "      <td>0.091565</td>\n",
              "    </tr>\n",
              "    <tr>\n",
              "      <th>top_83</th>\n",
              "      <td>0.033896</td>\n",
              "      <td>0.012306</td>\n",
              "      <td>0.020954</td>\n",
              "      <td>0.006338</td>\n",
              "      <td>0.004934</td>\n",
              "    </tr>\n",
              "    <tr>\n",
              "      <th>top_31</th>\n",
              "      <td>0.029184</td>\n",
              "      <td>0.021401</td>\n",
              "      <td>0.017622</td>\n",
              "      <td>0.011243</td>\n",
              "      <td>0.004224</td>\n",
              "    </tr>\n",
              "    <tr>\n",
              "      <th>...</th>\n",
              "      <td>...</td>\n",
              "      <td>...</td>\n",
              "      <td>...</td>\n",
              "      <td>...</td>\n",
              "      <td>...</td>\n",
              "    </tr>\n",
              "    <tr>\n",
              "      <th>top_50</th>\n",
              "      <td>0.000140</td>\n",
              "      <td>0.002106</td>\n",
              "      <td>0.000830</td>\n",
              "      <td>0.003296</td>\n",
              "      <td>0.007632</td>\n",
              "    </tr>\n",
              "    <tr>\n",
              "      <th>top_154</th>\n",
              "      <td>0.000140</td>\n",
              "      <td>0.000147</td>\n",
              "      <td>0.008275</td>\n",
              "      <td>0.003266</td>\n",
              "      <td>0.005690</td>\n",
              "    </tr>\n",
              "    <tr>\n",
              "      <th>top_180</th>\n",
              "      <td>0.000140</td>\n",
              "      <td>0.003635</td>\n",
              "      <td>0.001392</td>\n",
              "      <td>0.008447</td>\n",
              "      <td>0.011273</td>\n",
              "    </tr>\n",
              "    <tr>\n",
              "      <th>top_12</th>\n",
              "      <td>0.000140</td>\n",
              "      <td>0.003245</td>\n",
              "      <td>0.000650</td>\n",
              "      <td>0.001732</td>\n",
              "      <td>0.001833</td>\n",
              "    </tr>\n",
              "    <tr>\n",
              "      <th>top_66</th>\n",
              "      <td>0.000140</td>\n",
              "      <td>0.005993</td>\n",
              "      <td>0.001452</td>\n",
              "      <td>0.002983</td>\n",
              "      <td>0.002671</td>\n",
              "    </tr>\n",
              "  </tbody>\n",
              "</table>\n",
              "<p>200 rows × 5 columns</p>\n",
              "</div>"
            ],
            "text/plain": [
              "reviewrating         1         2         3         4         5\n",
              "top_133       0.089431  0.031661  0.022378  0.008828  0.006648\n",
              "top_42        0.055427  0.012770  0.020279  0.009806  0.003155\n",
              "top_39        0.037849  0.054600  0.047359  0.054913  0.091565\n",
              "top_83        0.033896  0.012306  0.020954  0.006338  0.004934\n",
              "top_31        0.029184  0.021401  0.017622  0.011243  0.004224\n",
              "...                ...       ...       ...       ...       ...\n",
              "top_50        0.000140  0.002106  0.000830  0.003296  0.007632\n",
              "top_154       0.000140  0.000147  0.008275  0.003266  0.005690\n",
              "top_180       0.000140  0.003635  0.001392  0.008447  0.011273\n",
              "top_12        0.000140  0.003245  0.000650  0.001732  0.001833\n",
              "top_66        0.000140  0.005993  0.001452  0.002983  0.002671\n",
              "\n",
              "[200 rows x 5 columns]"
            ]
          },
          "metadata": {},
          "execution_count": 170
        }
      ]
    },
    {
      "cell_type": "code",
      "metadata": {
        "id": "K0KttLbIoRMt",
        "colab": {
          "base_uri": "https://localhost:8080/",
          "height": 131
        },
        "outputId": "cd250718-090f-4f76-cbd3-12656ae8d7fd"
      },
      "source": [
        "# look at the highest rated topic for 1 star ratings\n",
        "lda.show_topic(reviewrating',= 1) "
      ],
      "execution_count": null,
      "outputs": [
        {
          "output_type": "error",
          "ename": "SyntaxError",
          "evalue": "ignored",
          "traceback": [
            "\u001b[0;36m  File \u001b[0;32m\"<ipython-input-173-87ba09348c21>\"\u001b[0;36m, line \u001b[0;32m2\u001b[0m\n\u001b[0;31m    lda.show_topic('reviewrating',= 1)\u001b[0m\n\u001b[0m                                  ^\u001b[0m\n\u001b[0;31mSyntaxError\u001b[0m\u001b[0;31m:\u001b[0m invalid syntax\n"
          ]
        }
      ]
    },
    {
      "cell_type": "code",
      "metadata": {
        "id": "q5X-f8iZS7Lb"
      },
      "source": [
        "# look at top topics for 5 star ratings\n",
        "\n"
      ],
      "execution_count": null,
      "outputs": []
    },
    {
      "cell_type": "code",
      "metadata": {
        "id": "fObyEjlAoZE9"
      },
      "source": [
        "# look at the highest rated topic for 5 star ratings\n",
        "# that are not in the top 5 for 1 star ratings\n",
        "\n"
      ],
      "execution_count": null,
      "outputs": []
    },
    {
      "cell_type": "markdown",
      "metadata": {
        "id": "6ODePDkrJPV9"
      },
      "source": [
        "**Answer Question**\n",
        "\n",
        "Any intuition behind the distinctive 5 star topic and the top 1 star topic? Explain.\n",
        "\n",
        "1. **Answer**"
      ]
    },
    {
      "cell_type": "markdown",
      "metadata": {
        "id": "PyHJz_FaI1Vf"
      },
      "source": [
        "# Create wordcloud from LDA (+2 Bonus)\n",
        "\n"
      ]
    },
    {
      "cell_type": "markdown",
      "metadata": {
        "id": "d5eJIMJGtYIU"
      },
      "source": [
        "## Example for creating 1 wordcloud"
      ]
    },
    {
      "cell_type": "code",
      "metadata": {
        "id": "iA78Q6rjrnNa",
        "colab": {
          "base_uri": "https://localhost:8080/",
          "height": 201
        },
        "outputId": "d9d4cee9-e3f6-4666-dc5c-2282895ba6d8"
      },
      "source": [
        "# to get the topic weights for topic k:\n",
        "k = 0\n",
        "# topn = number of top words to use\n",
        "topicwts = dict(lda.show_topic(k, topn = 100))"
      ],
      "execution_count": null,
      "outputs": [
        {
          "output_type": "error",
          "ename": "NameError",
          "evalue": "ignored",
          "traceback": [
            "\u001b[0;31m---------------------------------------------------------------------------\u001b[0m",
            "\u001b[0;31mNameError\u001b[0m                                 Traceback (most recent call last)",
            "\u001b[0;32m<ipython-input-138-9195d56baa3b>\u001b[0m in \u001b[0;36m<module>\u001b[0;34m()\u001b[0m\n\u001b[1;32m      2\u001b[0m \u001b[0mk\u001b[0m \u001b[0;34m=\u001b[0m \u001b[0;36m0\u001b[0m\u001b[0;34m\u001b[0m\u001b[0;34m\u001b[0m\u001b[0m\n\u001b[1;32m      3\u001b[0m \u001b[0;31m# topn = number of top words to use\u001b[0m\u001b[0;34m\u001b[0m\u001b[0;34m\u001b[0m\u001b[0;34m\u001b[0m\u001b[0m\n\u001b[0;32m----> 4\u001b[0;31m \u001b[0mtopicwts\u001b[0m \u001b[0;34m=\u001b[0m \u001b[0mdict\u001b[0m\u001b[0;34m(\u001b[0m\u001b[0mlda\u001b[0m\u001b[0;34m.\u001b[0m\u001b[0mshow_topic\u001b[0m\u001b[0;34m(\u001b[0m\u001b[0mk\u001b[0m\u001b[0;34m,\u001b[0m \u001b[0mtopn\u001b[0m \u001b[0;34m=\u001b[0m \u001b[0;36m100\u001b[0m\u001b[0;34m)\u001b[0m\u001b[0;34m)\u001b[0m\u001b[0;34m\u001b[0m\u001b[0;34m\u001b[0m\u001b[0m\n\u001b[0m",
            "\u001b[0;31mNameError\u001b[0m: name 'lda' is not defined"
          ]
        }
      ]
    },
    {
      "cell_type": "code",
      "metadata": {
        "id": "fHudGG8NrfRn",
        "colab": {
          "base_uri": "https://localhost:8080/",
          "height": 184
        },
        "outputId": "f228248a-14f4-4f69-e275-8e29cf5abb8e"
      },
      "source": [
        "from wordcloud import WordCloud\n",
        "wc = WordCloud(width = 1920, height = 1080, background_color = 'white').fit_words(topicwts) # specify w/h for HD figure"
      ],
      "execution_count": null,
      "outputs": [
        {
          "output_type": "error",
          "ename": "NameError",
          "evalue": "ignored",
          "traceback": [
            "\u001b[0;31m---------------------------------------------------------------------------\u001b[0m",
            "\u001b[0;31mNameError\u001b[0m                                 Traceback (most recent call last)",
            "\u001b[0;32m<ipython-input-139-f669714b8023>\u001b[0m in \u001b[0;36m<module>\u001b[0;34m()\u001b[0m\n\u001b[1;32m      1\u001b[0m \u001b[0;32mfrom\u001b[0m \u001b[0mwordcloud\u001b[0m \u001b[0;32mimport\u001b[0m \u001b[0mWordCloud\u001b[0m\u001b[0;34m\u001b[0m\u001b[0;34m\u001b[0m\u001b[0m\n\u001b[0;32m----> 2\u001b[0;31m \u001b[0mwc\u001b[0m \u001b[0;34m=\u001b[0m \u001b[0mWordCloud\u001b[0m\u001b[0;34m(\u001b[0m\u001b[0mwidth\u001b[0m \u001b[0;34m=\u001b[0m \u001b[0;36m1920\u001b[0m\u001b[0;34m,\u001b[0m \u001b[0mheight\u001b[0m \u001b[0;34m=\u001b[0m \u001b[0;36m1080\u001b[0m\u001b[0;34m,\u001b[0m \u001b[0mbackground_color\u001b[0m \u001b[0;34m=\u001b[0m \u001b[0;34m'white'\u001b[0m\u001b[0;34m)\u001b[0m\u001b[0;34m.\u001b[0m\u001b[0mfit_words\u001b[0m\u001b[0;34m(\u001b[0m\u001b[0mtopicwts\u001b[0m\u001b[0;34m)\u001b[0m \u001b[0;31m# specify w/h for HD figure\u001b[0m\u001b[0;34m\u001b[0m\u001b[0;34m\u001b[0m\u001b[0m\n\u001b[0m",
            "\u001b[0;31mNameError\u001b[0m: name 'topicwts' is not defined"
          ]
        }
      ]
    },
    {
      "cell_type": "code",
      "metadata": {
        "id": "xnJVX9Txsaae"
      },
      "source": [
        "# plot wc\n",
        "plt.figure(figsize = (10,5))\n",
        "plt.imshow(wc, interpolation='bilinear')\n",
        "plt.title('Topic {}'.format(k))\n",
        "plt.axis('off')\n",
        "plt.show()"
      ],
      "execution_count": null,
      "outputs": []
    },
    {
      "cell_type": "markdown",
      "metadata": {
        "id": "bXjgXZqSsrsC"
      },
      "source": [
        "## Challenge problem (for the bonus): \n",
        "Use only the data from your chosen hotel, i.e. df_h.\n",
        "\n",
        "For positive and negative reviews, where positive is 4-5 stars and negative is 1-3 stars, create a wordcloud for any of the top 5 topics for that category of ratings that are not in the top 5 of the other category. For instance, if topic 88 is one of the top 5 topics for negative reviews and **not** one of the top 5 topics for positive reviews, then create a wordcloud for it. Make sure that the title of the wordcloud image reflects the review type (positive/negative) and the topic number: e.g., 'Positive review topic: 88'.\n",
        "\n",
        "*Use what you have learned throughout the semester and the internet to figure out how to do this without any hard-coded results, especially with respect to selecting the topics to visualize. For example: use code to write a generic solution such that you do not have to manually select the topics used for word cloud. If you had to re-run the code where top 5 topics is now top 3 topics, you should only have to change the 5 to 3 once in the code.\n",
        "\n"
      ]
    },
    {
      "cell_type": "code",
      "metadata": {
        "id": "jP4SGPydwRRZ"
      },
      "source": [
        "# solution below, feel free to add multiple additional cells"
      ],
      "execution_count": null,
      "outputs": []
    }
  ]
}