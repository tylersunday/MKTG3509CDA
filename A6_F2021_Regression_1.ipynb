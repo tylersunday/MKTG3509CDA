{
  "nbformat": 4,
  "nbformat_minor": 0,
  "metadata": {
    "colab": {
      "name": "A6 F2021 Regression 1.ipynb",
      "provenance": [],
      "collapsed_sections": []
    },
    "kernelspec": {
      "name": "python3",
      "display_name": "Python 3"
    }
  },
  "cells": [
    {
      "cell_type": "markdown",
      "metadata": {
        "id": "UFHvr3sOU066"
      },
      "source": [
        "**Rationale** This assignment will help you practice running and interpreting basic regressions analysis.\n",
        "\n",
        "**[Datasets](https://drive.google.com/drive/folders/1LJ38ctVX62ggGGygJDLlLG2V6jZ4BNml?usp=sharing)**\n",
        "1. [Safegraph Temple Visitor Sample](https://drive.google.com/file/d/1u_sDxFp9fja-_cop4yzIAJ_hX2-fplWN/view?usp=sharing) \n",
        "1. [Avocado Prices](https://drive.google.com/file/d/1QJ_dyyBFkHhC6VkzVvdAFa385mtqtntM/view?usp=sharing)\n",
        "\n",
        "**Data description** This dataset includes SafeGraph's sampled foot traffic volume for Temple University between 1-1-2019 and 5-31-2020. Safegraph collects the foot traffic data from a network of phone apps. You can view the `visits` data as the number of SafeGraph tracked devices to visit Temple University. This dataset is merged with Philadelphia's weather data. \n"
      ]
    },
    {
      "cell_type": "markdown",
      "metadata": {
        "id": "xMiIPD5fTfBa"
      },
      "source": [
        "# 1. Run and interpret a simple linear regression (5 points)...\n",
        "...to figure out the relationship between daily average temperateure as measured in degrees fahrenheit, `\"temp\"`, and people on campus `\"visits\"` for the Fall 2019 semester (limit data to M-F 8-26 - 11-24-2019, inclusive).\n",
        "\n",
        "In your answer: \n",
        "1. First, look at data. What is the average number of SafeGraph visitors to Temple University during the teaching days of the Fall 2019 semester? Roughly what percent of the Temple student population is this?\n",
        "1. Specify (write out the regression equation), run, and interpret a regression that documents the relationship between temperature and foot traffic (visits) on campus.\n",
        "    1. Do more students visit campus (and presumably go to class) when the weather is warmer or colder?\n",
        "    1. Besides students not wanting to go to class when the temperature is not to their liking, what else might cause the observed relationship between visits and temperature?"
      ]
    },
    {
      "cell_type": "code",
      "metadata": {
        "id": "SsqX3z-sRx36",
        "colab": {
          "base_uri": "https://localhost:8080/"
        },
        "outputId": "bebb5d40-300e-4a83-d282-6c231ce953ba"
      },
      "source": [
        "# imports here\n",
        "import os, pandas as pd, matplotlib.pyplot as plt\n",
        "from google.colab import drive\n",
        "from statsmodels.formula import api as smf\n",
        "drive.mount('drive')"
      ],
      "execution_count": null,
      "outputs": [
        {
          "output_type": "stream",
          "name": "stdout",
          "text": [
            "Drive already mounted at drive; to attempt to forcibly remount, call drive.mount(\"drive\", force_remount=True).\n"
          ]
        }
      ]
    },
    {
      "cell_type": "code",
      "metadata": {
        "colab": {
          "base_uri": "https://localhost:8080/"
        },
        "id": "Gp4FG9vZ0ppg",
        "outputId": "acd955a7-0d7c-4f74-8895-e42e95111cb8"
      },
      "source": [
        "# list directory containing the data\n",
        "fpath = 'drive/MyDrive/Teaching/Analytics/Datasets/A6/' # change this to your data folder\n",
        "os.listdir(fpath)"
      ],
      "execution_count": null,
      "outputs": [
        {
          "output_type": "execute_result",
          "data": {
            "text/plain": [
              "['temple_traffic.csv', 'avocado.csv']"
            ]
          },
          "metadata": {},
          "execution_count": 3
        }
      ]
    },
    {
      "cell_type": "code",
      "metadata": {
        "id": "2vmT-l-52Pd0"
      },
      "source": [
        "# read in the dataset\n",
        "temple = pd.read_csv(fpath + 'temple_traffic.csv', index_col = 0)"
      ],
      "execution_count": null,
      "outputs": []
    },
    {
      "cell_type": "code",
      "metadata": {
        "id": "c7enE1M-JBzd"
      },
      "source": [
        "# convert the date column to pandas datetime using pd.to_datetime(...)\n",
        "# if you've fogotten, look through notes from module 3\n",
        "\n"
      ],
      "execution_count": null,
      "outputs": []
    },
    {
      "cell_type": "code",
      "metadata": {
        "id": "tqUZKoCvKi3M"
      },
      "source": [
        "# create a new column called 'dow' (for day of week) using temple.date.dt.weekday\n",
        "# note that Monday through Sunday corresponds to 0 through 6\n",
        "\n"
      ],
      "execution_count": null,
      "outputs": []
    },
    {
      "cell_type": "code",
      "metadata": {
        "id": "lV4btKbsJT_r"
      },
      "source": [
        "# select only the rows where the date lies between 2019/8/26 and 2019/11/24 (inclusive) \n",
        "# and correspond to a regular school date (e.g. are M-F)\n",
        "# call the reuslting dataframe F2019\n",
        "# remember you can select rows using df.loc[conditions]\n",
        "# If you forgot how to do this, look at the notes and in class exercise from module 3\n",
        "\n"
      ],
      "execution_count": null,
      "outputs": []
    },
    {
      "cell_type": "code",
      "metadata": {
        "id": "4vxvJXQ8KDNt"
      },
      "source": [
        "# find the maximum date of F2019, make sure that it is less than or equal to 2019/11/24\n",
        "\n"
      ],
      "execution_count": null,
      "outputs": []
    },
    {
      "cell_type": "code",
      "metadata": {
        "id": "SRdjXtSGKMpz"
      },
      "source": [
        "# find the minimum date of F2019, make sure that it is greater than or equal to 2019/8/26\n",
        "\n"
      ],
      "execution_count": null,
      "outputs": []
    },
    {
      "cell_type": "code",
      "metadata": {
        "id": "3woD6jmTKhXE"
      },
      "source": [
        "# display the unique values of dow in F2019 (use the .unique() method on dow column)\n",
        "# make sure there are only M-F (e.g. 0-4)\n",
        "\n"
      ],
      "execution_count": null,
      "outputs": []
    },
    {
      "cell_type": "code",
      "metadata": {
        "id": "vWMllbS92PhR"
      },
      "source": [
        "# compute the mean visits\n",
        "\n"
      ],
      "execution_count": null,
      "outputs": []
    },
    {
      "cell_type": "code",
      "metadata": {
        "id": "gNv3QYQlIIWi"
      },
      "source": [
        "# look up the total number of temple students in 2019 and compute the percentage the above average represents\n",
        "\n",
        "\n"
      ],
      "execution_count": null,
      "outputs": []
    },
    {
      "cell_type": "markdown",
      "metadata": {
        "id": "DngEeFYSH9g7"
      },
      "source": [
        "**Edit this cell**\n",
        "The average number of visitors in the sample is **___________**, this is approximately **__________**\\% of the Temple student population."
      ]
    },
    {
      "cell_type": "markdown",
      "metadata": {
        "id": "oaHre7HHH9lW"
      },
      "source": [
        "**Edit this cell**\n",
        "\n",
        "Before running a regression to document the relationship between temperature and the sampled visitors, answer the following.\n",
        "\n",
        "The logical dependent variable should be **_________________**, the logical indepdent (aka explanatory) variable should be **________________** because **________________** should cause changes in **________________** and not the other way around.\n",
        "\n",
        "\n",
        "Consequently, the following regression equation describes the relationship between temperature and foot traffic (change the $x$ and $y$ to the approriate variable names):\n",
        "\n",
        "$$\n",
        "y = \\beta_0 +\\beta_1x + e \n",
        "$$\n"
      ]
    },
    {
      "cell_type": "code",
      "metadata": {
        "id": "X-y0o9jRIZBt"
      },
      "source": [
        "# run the above regression using statsmodels\n",
        "# call the resulting regression results object the variable \"res\"\n",
        "\n"
      ],
      "execution_count": null,
      "outputs": []
    },
    {
      "cell_type": "code",
      "metadata": {
        "id": "zB0ui4NIIZE8"
      },
      "source": [
        "# print the regression summary table (e.g. print(res.summary()))\n",
        "\n"
      ],
      "execution_count": null,
      "outputs": []
    },
    {
      "cell_type": "markdown",
      "metadata": {
        "id": "FPJQfl1DM6Ym"
      },
      "source": [
        "**Edit this cell**\n",
        "\n",
        "The regression's R$^2$ is **_______________**, this suggests that **_______________**\\% of the variation in **______________** is explained by **_______________**.\n",
        "\n",
        "The intercept ($\\beta_0$) is **________________**, this means that when **____________** is 0 **(fill in appropriate units of measure)**, **________________** is on average **_________________**. This is statistically **(in)significant(choose one)**, meaning that it is different from **_______________** in the population.\n",
        "\n",
        "The coefficient ($\\beta_1$) for **______________** is **_______________**. This means that for every **_________________** increase in **_________________**, **___________________** **increases/decreases (choose one)** by **_____________________**. This is statistically **(in)significant(choose one)**, meaning that it is different from **________________** in the population. In other words, we **can(not)** reject the null hypothesis that there is no effect of temperature on campus foot traffic."
      ]
    },
    {
      "cell_type": "markdown",
      "metadata": {
        "id": "pfC8WyR1RP5X"
      },
      "source": [
        "# 2. Avocado price and demand (5 points) (multiple regression)\n",
        "\n",
        "For this exercise, use our familiar avocado dataset.\n",
        "\n",
        "For the following cities, run a multiple regression that investigates the relationship between demand and price while simultaneously accounting for the effect of regions.\n",
        "\n",
        "Use only the conventional avocado data from the following cities:\n",
        "\n",
        "```\n",
        "cities = ['Philadelphia', 'NewYork', 'BaltimoreWashington', 'Boston', 'Chicago', 'SanFrancisco']\n",
        "```\n"
      ]
    },
    {
      "cell_type": "code",
      "metadata": {
        "id": "bsMuz0YMSHdc"
      },
      "source": [
        "# read in the dataset, call it avocado\n",
        "avocado = pd.read_csv(fpath + 'avocado.csv', index_col = 0)"
      ],
      "execution_count": null,
      "outputs": []
    },
    {
      "cell_type": "code",
      "metadata": {
        "id": "jOJ8Rrl7Rifv"
      },
      "source": [
        "# select only the rows corresponding to the cities listed above\n",
        "# call the resulting dataframe avocado (replace avocado with the result of this subset selection)\n",
        "# use .isin(...) method (see notes from module 4 bar plot to find an example of this)\n",
        "# also make sure to select only the data for the conventional avocado type\n",
        "\n",
        "\n"
      ],
      "execution_count": null,
      "outputs": []
    },
    {
      "cell_type": "code",
      "metadata": {
        "id": "-Z-2TrTERiiW"
      },
      "source": [
        "# show the unique regions in the resulting dataframe \n",
        "# make sure we have only the ones we wanted to select from above\n",
        "\n",
        "\n"
      ],
      "execution_count": null,
      "outputs": []
    },
    {
      "cell_type": "code",
      "metadata": {
        "id": "df-5xO72UfQI"
      },
      "source": [
        "# show the unique types in the resulting dataframe \n",
        "# make sure we have only conventional\n",
        "\n"
      ],
      "execution_count": null,
      "outputs": []
    },
    {
      "cell_type": "markdown",
      "metadata": {
        "id": "bPfImhR6TnpB"
      },
      "source": [
        "**edit this cell**\n",
        "To model the demand of avocaldos, we want to run the following regression:\n",
        "\n",
        "$$\n",
        "Demand = \\beta_0 + \\beta_1 Price +\\beta_2 Boston +\\beta_3Chicago +\\beta_4NewYork + \\beta_5 Philadelphia + \\beta_6 SanFrancisco +e\n",
        "$$\n",
        "\n",
        "In this equation (given the cities we've selected for the dataset), $\\beta_0$ represents the average demand in **____________** when price is \\$ $0$.\n",
        "\n"
      ]
    },
    {
      "cell_type": "code",
      "metadata": {
        "id": "R7tnkt4TWZwS"
      },
      "source": [
        "# since statsmodels expects variable names to not have spaces\n",
        "# use a list comprehension to replace  spaces with underscores\n",
        "# make sure you understand how/why this works:\n",
        "avocado.columns = [c.replace(' ', '_') for c in avocado.columns]"
      ],
      "execution_count": null,
      "outputs": []
    },
    {
      "cell_type": "code",
      "metadata": {
        "id": "v8kYfHkyWs3y"
      },
      "source": [
        "# take a look at the resulting dataframe\n",
        "\n"
      ],
      "execution_count": null,
      "outputs": []
    },
    {
      "cell_type": "code",
      "metadata": {
        "id": "ExG_RDNsRilF"
      },
      "source": [
        "# run the regression using statsmodels\n",
        "# call the result object res\n",
        "# for demand, use 'Total Bags'\n",
        "\n"
      ],
      "execution_count": null,
      "outputs": []
    },
    {
      "cell_type": "code",
      "metadata": {
        "id": "AgIUxo1tW3A0"
      },
      "source": [
        "# print the regression summary table\n",
        "\n"
      ],
      "execution_count": null,
      "outputs": []
    },
    {
      "cell_type": "markdown",
      "metadata": {
        "id": "OSggG2udW8vP"
      },
      "source": [
        "**Edit this cell**\n",
        "1. The R$^2$ is **________________**, this means that **________________**\\% of the variation in demand is explained by the model.\n",
        "1. The intercept ($\\beta_0$) is **_____________** and is statistically **(in)significant (choose one)**. This is the average demand in **______________** when price is \\$0.\n",
        "1. The coefficient for Boston is **________________**, which means that the average demand in Boston is **_____________** **fewer/more (pick one)** bags than in **_________________**. This difference is statistically **(in)significant (pick one)**\n",
        "1. The coefficient for price is **_______________**, which means that when price increases by \\$1 in any region, demand increases by on average **______________** bags. This effect is statistically **(in)significant (pick one)** which means that there **is (not)** enough evidence to show that price **does (not) (choose one)** have an **negative / positive (pick one)** impact on demand.\n",
        "1. The region with the highest demand is **__________________**."
      ]
    },
    {
      "cell_type": "markdown",
      "metadata": {
        "id": "S_w3rvOfS9AJ"
      },
      "source": [
        "# 3. Putting what we've learned all together (the power of programming) (2 points - extra point for bonus, try your best - there may or may not be a prize involved)\n",
        "\n",
        "In this exercise, you will run one regression for each region and each avocado type, i.e. one regression of total bags sold on price for Philly conventional, one for Philly organic, one for NY conventional, one for NY organic, and so on... (think loop). \n",
        "\n",
        "You will then visualize the coefficients for conventional and organic price by region on a scatter plot (each dot's (x, y) coordinates = one region's (price coefficient for conventional, price coefficient for organic). \n",
        "\n",
        "To do this break down the problem to the following components (and then put it all together):\n",
        "\n",
        "* Suppose you have selected a region $r$ and avocado type $t$, how would you run the regression?\n",
        "* How can you extract just the price coefficient given a regression result object `res`?\n",
        "* For some region, `r`, and some avocado type `t`, how would you select only the rows pertaining to region `r` and type `t`?\n",
        "* How can you loop through regions and types? (Need 2 nested \"for\" loops, one inside the other)\n",
        "* Suppose you have named the conventional and organic price coefficients for region `r` as `bConv` and `bOrg`, how would you create a list that looks like: `[region, conventional coeff, organic coefficient]`?\n",
        "* Given a list `results`, how would you *append* the list above to `results`? i.e. make keep adding to `results`: `[[region1, conventional coeff1, organic coeff1], [region2, conventional coeff2, organic coeff2], [region3, conventional coeff3, organic coeff3],...]`\n",
        "* Once you've run every regression and have a complete `results` list, convert it to a dataframe using `df = pd.DataFrame(results)`, give it some column names.\n",
        "\n",
        "The final code might have a structure similar to the pseudo code below:\n",
        "\n",
        "```\n",
        "results = list()\n",
        "for r in ##all the unique regions##:\n",
        "    for t in ##all the unique types##:\n",
        "        temp = # Select the appropriate rows of df\n",
        "        # run the regression using temp\n",
        "        if ##this iteration represents conventional avocados##:\n",
        "            ##extract the price parameter assign it to the variable bConv##\n",
        "        else:\n",
        "            ##extract the price parameter and name it bOrg##\n",
        "    ##append the results with newest [region, conventional price coeff, organic price coefficient]##\n",
        "df = pd.DataFrame(results) # convert to dataframe\n",
        "df.columns = ['region', 'beta_conv', 'beta_org'] # rename dataframe columns\n",
        "```\n",
        "\n",
        "The resulting dataframe of coefficients should look something like:\n",
        "\n",
        "| region | beta_conv | beta_org |\n",
        "|-|-|-|\n",
        "| Albany |8.579340e+02\t |-3168.491384|\n",
        "| Atlanta| -3.377365e+05 | -6352.937420 |\n",
        "| BaltimoreWashington | -3.251570e+05 | -15537.003211 |\n",
        "|...|...|...|...|\n",
        "\n",
        "(note numbers above are illustrative, not necessarily representative of actual results)\n"
      ]
    },
    {
      "cell_type": "code",
      "metadata": {
        "id": "2o6lf_eohCkm"
      },
      "source": [
        "# first re-read the original avocado dataframe to use for this problem\n"
      ],
      "execution_count": null,
      "outputs": []
    },
    {
      "cell_type": "code",
      "metadata": {
        "id": "jdCOaQydkjyt"
      },
      "source": [
        "# rename columns to get rid of spaces\n"
      ],
      "execution_count": null,
      "outputs": []
    },
    {
      "cell_type": "code",
      "metadata": {
        "id": "EnpfGJQEcnB6"
      },
      "source": [
        "# run all the regressions\n",
        "# create a dataframe with region, beta_conv, beta_org as the 3 columns \n",
        "# using the regression results\n",
        "\n",
        "\n"
      ],
      "execution_count": null,
      "outputs": []
    },
    {
      "cell_type": "code",
      "metadata": {
        "id": "cqMCmqKjd_e4"
      },
      "source": [
        "# Get rid of the TotalUS region from the regression results dataframe\n",
        "\n"
      ],
      "execution_count": null,
      "outputs": []
    },
    {
      "cell_type": "code",
      "metadata": {
        "id": "BmtNXW9kdJrH"
      },
      "source": [
        "# show the full resulting table\n",
        "\n"
      ],
      "execution_count": null,
      "outputs": []
    },
    {
      "cell_type": "code",
      "metadata": {
        "id": "T5ob8DzqdVnh"
      },
      "source": [
        ""
      ],
      "execution_count": null,
      "outputs": []
    },
    {
      "cell_type": "code",
      "metadata": {
        "id": "sObNE08meO1C"
      },
      "source": [
        "# make scatter plot of the coefficients\n",
        "# change aesthetics so the dots are not a single blob\n",
        "\n",
        "\n"
      ],
      "execution_count": null,
      "outputs": []
    },
    {
      "cell_type": "code",
      "metadata": {
        "id": "eP80H3UmeU2T"
      },
      "source": [
        "# which regions have upward sloping demand curve for organic (as price increases, so did demand)?\n",
        "# use code to show these rows of df\n",
        "\n"
      ],
      "execution_count": null,
      "outputs": []
    },
    {
      "cell_type": "code",
      "metadata": {
        "id": "JC5ytO-GevTU"
      },
      "source": [
        "# which regions have upward sloping demand curve for conventional (as price increases, so did demand)?\n",
        "# use code to show these rows of df\n",
        "\n"
      ],
      "execution_count": null,
      "outputs": []
    },
    {
      "cell_type": "markdown",
      "metadata": {
        "id": "dir5sgD7e1Ki"
      },
      "source": [
        "Why might the relationship between price and demand be upward sloping instead of the expected downward sloping demand curve theorized in economics? i.e. the law of demand, when price increases, demand decreases. \n",
        "\n",
        "**Your answer here**"
      ]
    }
  ]
}