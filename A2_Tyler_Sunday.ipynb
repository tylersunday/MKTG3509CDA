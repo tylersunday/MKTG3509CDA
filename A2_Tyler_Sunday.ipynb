{
  "nbformat": 4,
  "nbformat_minor": 0,
  "metadata": {
    "colab": {
      "name": "A2 Tyler Sunday.ipynb",
      "provenance": []
    },
    "kernelspec": {
      "name": "python3",
      "display_name": "Python 3"
    },
    "language_info": {
      "name": "python"
    }
  },
  "cells": [
    {
      "cell_type": "code",
      "metadata": {
        "id": "3vlhEEg9hy5e"
      },
      "source": [
        "customers = ['Adam Smith', 'Mary Samsonite', 'Pancho Sanchez', 'Lily Wang', 'Curtis Jackson', 'Anne Shirley', 'Alex Hamilton', 'Bill Shakespeare', 'Steve Sondeheim']"
      ],
      "execution_count": null,
      "outputs": []
    },
    {
      "cell_type": "code",
      "metadata": {
        "id": "k4YDVz5JsIlW"
      },
      "source": [
        "c = 'Adam Smith'"
      ],
      "execution_count": null,
      "outputs": []
    },
    {
      "cell_type": "code",
      "metadata": {
        "colab": {
          "base_uri": "https://localhost:8080/"
        },
        "id": "pGa_z0pksPFM",
        "outputId": "b7a56806-56e5-48d4-db26-11929b9b7d25"
      },
      "source": [
        "' ' in c"
      ],
      "execution_count": null,
      "outputs": [
        {
          "output_type": "execute_result",
          "data": {
            "text/plain": [
              "True"
            ]
          },
          "metadata": {},
          "execution_count": 50
        }
      ]
    },
    {
      "cell_type": "code",
      "metadata": {
        "colab": {
          "base_uri": "https://localhost:8080/"
        },
        "id": "1nXAYSlzsVHs",
        "outputId": "f56c8149-7e6b-43c5-86cb-2fd8fe88a8c1"
      },
      "source": [
        "len(c.split())"
      ],
      "execution_count": null,
      "outputs": [
        {
          "output_type": "execute_result",
          "data": {
            "text/plain": [
              "2"
            ]
          },
          "metadata": {},
          "execution_count": 52
        }
      ]
    },
    {
      "cell_type": "code",
      "metadata": {
        "colab": {
          "base_uri": "https://localhost:8080/"
        },
        "id": "ewYq4QhtsfSE",
        "outputId": "35ec92a2-e04e-45fd-e3ec-366552538600"
      },
      "source": [
        "for c in customers: \n",
        "    if ' ' in c:\n",
        "        print(c)"
      ],
      "execution_count": null,
      "outputs": [
        {
          "output_type": "stream",
          "name": "stdout",
          "text": [
            "Adam Smith\n",
            "Mary Samsonite\n",
            "Pancho Sanchez\n",
            "Lily Wang\n",
            "Curtis Jackson\n",
            "Anne Shirley\n",
            "Alex Hamilton\n",
            "Bill Shakespeare\n",
            "Steve Sondeheim\n"
          ]
        }
      ]
    },
    {
      "cell_type": "code",
      "metadata": {
        "id": "EU7FdM4-tjeP"
      },
      "source": [
        "acustomers = [c for c in customers if c[0]=='A']\n"
      ],
      "execution_count": null,
      "outputs": []
    },
    {
      "cell_type": "code",
      "metadata": {
        "colab": {
          "base_uri": "https://localhost:8080/"
        },
        "id": "lRmY6NVduznu",
        "outputId": "7191a095-ca0f-441c-e8c8-b41caaddae0c"
      },
      "source": [
        "acustomers"
      ],
      "execution_count": null,
      "outputs": [
        {
          "output_type": "execute_result",
          "data": {
            "text/plain": [
              "['Adam Smith', 'Anne Shirley', 'Alex Hamilton']"
            ]
          },
          "metadata": {},
          "execution_count": 69
        }
      ]
    },
    {
      "cell_type": "code",
      "metadata": {
        "id": "4TSjwt0Owgt9"
      },
      "source": [
        "def breakevenprice(FC, MC, Q):\n",
        "    P = FC/Q + MC\n",
        "    return P"
      ],
      "execution_count": null,
      "outputs": []
    },
    {
      "cell_type": "code",
      "metadata": {
        "id": "H2CL8jbawtYq"
      },
      "source": [
        "Quantities = [500,1000,1500,2000,2500,3000]\n",
        "FC = 20000\n",
        "MC = 20"
      ],
      "execution_count": null,
      "outputs": []
    },
    {
      "cell_type": "code",
      "metadata": {
        "id": "9RlrcZa6ww46"
      },
      "source": [
        "BEPrices = []\n"
      ],
      "execution_count": null,
      "outputs": []
    },
    {
      "cell_type": "code",
      "metadata": {
        "id": "3hhvF0Jpw9EK"
      },
      "source": [
        "for Q in Quantities:\n",
        "    P = breakevenprice(FC,MC,Q)\n",
        "    BEPrices.append(P)"
      ],
      "execution_count": null,
      "outputs": []
    },
    {
      "cell_type": "code",
      "metadata": {
        "colab": {
          "base_uri": "https://localhost:8080/"
        },
        "id": "D4tBeENXxNGJ",
        "outputId": "cd071206-aff4-4125-c828-b0d6101f007f"
      },
      "source": [
        "print(\"Break Even Prices are:\",BEPrices)"
      ],
      "execution_count": null,
      "outputs": [
        {
          "output_type": "stream",
          "name": "stdout",
          "text": [
            "Break Even Prices are: [60.0, 40.0, 33.333333333333336, 30.0, 28.0, 26.666666666666668]\n"
          ]
        }
      ]
    },
    {
      "cell_type": "code",
      "metadata": {
        "id": "PeuexMPPxfW6"
      },
      "source": [
        "def offer(record):\n",
        "  ID=record[0]\n",
        "  Income=record[1]\n",
        "  Debt=record[2]\n",
        "  Married=record[3]\n",
        "  if (Income>=(2*Debt)):\n",
        "    return \"A\"\n",
        "  elif ((Income<=(2*Debt)) and (Income>=(0.5*Debt)) and (Married==1)):\n",
        "    return \"B\"\n",
        "  else:\n",
        "    return \"None\""
      ],
      "execution_count": null,
      "outputs": []
    },
    {
      "cell_type": "code",
      "metadata": {
        "id": "i184oW9e9VSl"
      },
      "source": [
        "leads=[(1,25000,12000,1),(2,50000,25000,0),(3,125000,200000,0),(4,25000,0,0),(5,30000,8000,1)]"
      ],
      "execution_count": null,
      "outputs": []
    },
    {
      "cell_type": "code",
      "metadata": {
        "colab": {
          "base_uri": "https://localhost:8080/"
        },
        "id": "cM1ihW5e9tBE",
        "outputId": "b46594e9-d11a-4e4b-995a-14eb0d543515"
      },
      "source": [
        "for i in range(len(leads)):\n",
        "  print(offer(leads[i]))"
      ],
      "execution_count": null,
      "outputs": [
        {
          "output_type": "stream",
          "name": "stdout",
          "text": [
            "A\n",
            "A\n",
            "None\n",
            "A\n",
            "A\n"
          ]
        }
      ]
    }
  ]
}